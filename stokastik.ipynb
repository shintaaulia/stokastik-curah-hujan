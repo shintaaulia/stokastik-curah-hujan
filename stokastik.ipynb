{
  "nbformat": 4,
  "nbformat_minor": 0,
  "metadata": {
    "colab": {
      "provenance": [],
      "toc_visible": true,
      "authorship_tag": "ABX9TyPPt5FDx3J9yLzFVN6UMKX8",
      "include_colab_link": true
    },
    "kernelspec": {
      "name": "python3",
      "display_name": "Python 3"
    },
    "language_info": {
      "name": "python"
    }
  },
  "cells": [
    {
      "cell_type": "markdown",
      "metadata": {
        "id": "view-in-github",
        "colab_type": "text"
      },
      "source": [
        "<a href=\"https://colab.research.google.com/github/shintaaulia/proses-stokastik/blob/main/stokastik.ipynb\" target=\"_parent\"><img src=\"https://colab.research.google.com/assets/colab-badge.svg\" alt=\"Open In Colab\"/></a>"
      ]
    },
    {
      "cell_type": "code",
      "execution_count": null,
      "metadata": {
        "id": "UkpLplzbok4t"
      },
      "outputs": [],
      "source": [
        "import pandas as pd\n",
        "import numpy as np\n",
        "import statsmodels.api as sm\n",
        "import matplotlib.pyplot as plt\n",
        "import seaborn as sns\n",
        "import networkx.drawing.nx_pydot as gl\n",
        "import networkx as nx\n",
        "from pprint import pprint\n",
        "%matplotlib inline\n",
        "plt.style.use('seaborn')"
      ]
    },
    {
      "cell_type": "code",
      "source": [
        "db = pd.read_csv('https://raw.githubusercontent.com/shintaaulia/proses-stokastik/main/Data%20gabungan%204.csv')\n",
        "db"
      ],
      "metadata": {
        "colab": {
          "base_uri": "https://localhost:8080/",
          "height": 520
        },
        "id": "792bh1z6pLX9",
        "outputId": "248a0d8b-9d87-454a-b7d6-7f57830b40ed"
      },
      "execution_count": null,
      "outputs": [
        {
          "output_type": "execute_result",
          "data": {
            "text/html": [
              "\n",
              "  <div id=\"df-8cbba4aa-6237-4145-af09-ef81e9e1a534\">\n",
              "    <div class=\"colab-df-container\">\n",
              "      <div>\n",
              "<style scoped>\n",
              "    .dataframe tbody tr th:only-of-type {\n",
              "        vertical-align: middle;\n",
              "    }\n",
              "\n",
              "    .dataframe tbody tr th {\n",
              "        vertical-align: top;\n",
              "    }\n",
              "\n",
              "    .dataframe thead th {\n",
              "        text-align: right;\n",
              "    }\n",
              "</style>\n",
              "<table border=\"1\" class=\"dataframe\">\n",
              "  <thead>\n",
              "    <tr style=\"text-align: right;\">\n",
              "      <th></th>\n",
              "      <th>Tahun</th>\n",
              "      <th>Kuadrimester</th>\n",
              "      <th>CurahHujan</th>\n",
              "      <th>Temperatur</th>\n",
              "      <th>Kelembapan</th>\n",
              "      <th>KecepatanAngin</th>\n",
              "      <th>PenyinaranMatahari</th>\n",
              "      <th>Wisatawan</th>\n",
              "    </tr>\n",
              "  </thead>\n",
              "  <tbody>\n",
              "    <tr>\n",
              "      <th>0</th>\n",
              "      <td>2016</td>\n",
              "      <td>1</td>\n",
              "      <td>6.95</td>\n",
              "      <td>28.55</td>\n",
              "      <td>79.82</td>\n",
              "      <td>2.56</td>\n",
              "      <td>7.82</td>\n",
              "      <td>2222243</td>\n",
              "    </tr>\n",
              "    <tr>\n",
              "      <th>1</th>\n",
              "      <td>2016</td>\n",
              "      <td>2</td>\n",
              "      <td>5.05</td>\n",
              "      <td>27.52</td>\n",
              "      <td>80.79</td>\n",
              "      <td>3.11</td>\n",
              "      <td>8.53</td>\n",
              "      <td>3472965</td>\n",
              "    </tr>\n",
              "    <tr>\n",
              "      <th>2</th>\n",
              "      <td>2016</td>\n",
              "      <td>3</td>\n",
              "      <td>10.19</td>\n",
              "      <td>28.06</td>\n",
              "      <td>80.77</td>\n",
              "      <td>3.12</td>\n",
              "      <td>7.22</td>\n",
              "      <td>2948472</td>\n",
              "    </tr>\n",
              "    <tr>\n",
              "      <th>3</th>\n",
              "      <td>2017</td>\n",
              "      <td>1</td>\n",
              "      <td>8.69</td>\n",
              "      <td>27.41</td>\n",
              "      <td>80.81</td>\n",
              "      <td>3.21</td>\n",
              "      <td>6.73</td>\n",
              "      <td>2503314</td>\n",
              "    </tr>\n",
              "    <tr>\n",
              "      <th>4</th>\n",
              "      <td>2017</td>\n",
              "      <td>2</td>\n",
              "      <td>2.07</td>\n",
              "      <td>19.66</td>\n",
              "      <td>60.09</td>\n",
              "      <td>2.92</td>\n",
              "      <td>5.87</td>\n",
              "      <td>2986876</td>\n",
              "    </tr>\n",
              "    <tr>\n",
              "      <th>5</th>\n",
              "      <td>2017</td>\n",
              "      <td>3</td>\n",
              "      <td>9.46</td>\n",
              "      <td>27.01</td>\n",
              "      <td>80.48</td>\n",
              "      <td>2.94</td>\n",
              "      <td>6.74</td>\n",
              "      <td>3245443</td>\n",
              "    </tr>\n",
              "    <tr>\n",
              "      <th>6</th>\n",
              "      <td>2018</td>\n",
              "      <td>1</td>\n",
              "      <td>9.35</td>\n",
              "      <td>27.76</td>\n",
              "      <td>80.99</td>\n",
              "      <td>3.39</td>\n",
              "      <td>7.57</td>\n",
              "      <td>2939084</td>\n",
              "    </tr>\n",
              "    <tr>\n",
              "      <th>7</th>\n",
              "      <td>2018</td>\n",
              "      <td>2</td>\n",
              "      <td>1.08</td>\n",
              "      <td>26.55</td>\n",
              "      <td>78.94</td>\n",
              "      <td>3.91</td>\n",
              "      <td>8.31</td>\n",
              "      <td>3515383</td>\n",
              "    </tr>\n",
              "    <tr>\n",
              "      <th>8</th>\n",
              "      <td>2018</td>\n",
              "      <td>3</td>\n",
              "      <td>3.46</td>\n",
              "      <td>27.57</td>\n",
              "      <td>79.62</td>\n",
              "      <td>2.81</td>\n",
              "      <td>8.58</td>\n",
              "      <td>3303524</td>\n",
              "    </tr>\n",
              "    <tr>\n",
              "      <th>9</th>\n",
              "      <td>2019</td>\n",
              "      <td>1</td>\n",
              "      <td>7.25</td>\n",
              "      <td>27.95</td>\n",
              "      <td>83.68</td>\n",
              "      <td>3.18</td>\n",
              "      <td>7.33</td>\n",
              "      <td>3069253</td>\n",
              "    </tr>\n",
              "    <tr>\n",
              "      <th>10</th>\n",
              "      <td>2019</td>\n",
              "      <td>2</td>\n",
              "      <td>0.53</td>\n",
              "      <td>26.14</td>\n",
              "      <td>78.18</td>\n",
              "      <td>3.75</td>\n",
              "      <td>9.23</td>\n",
              "      <td>3805249</td>\n",
              "    </tr>\n",
              "    <tr>\n",
              "      <th>11</th>\n",
              "      <td>2019</td>\n",
              "      <td>3</td>\n",
              "      <td>0.96</td>\n",
              "      <td>27.73</td>\n",
              "      <td>76.38</td>\n",
              "      <td>2.78</td>\n",
              "      <td>10.18</td>\n",
              "      <td>3670537</td>\n",
              "    </tr>\n",
              "    <tr>\n",
              "      <th>12</th>\n",
              "      <td>2020</td>\n",
              "      <td>1</td>\n",
              "      <td>6.56</td>\n",
              "      <td>28.29</td>\n",
              "      <td>80.01</td>\n",
              "      <td>2.95</td>\n",
              "      <td>7.94</td>\n",
              "      <td>2343379</td>\n",
              "    </tr>\n",
              "    <tr>\n",
              "      <th>13</th>\n",
              "      <td>2020</td>\n",
              "      <td>2</td>\n",
              "      <td>1.78</td>\n",
              "      <td>27.14</td>\n",
              "      <td>80.77</td>\n",
              "      <td>3.76</td>\n",
              "      <td>8.65</td>\n",
              "      <td>824187</td>\n",
              "    </tr>\n",
              "    <tr>\n",
              "      <th>14</th>\n",
              "      <td>2020</td>\n",
              "      <td>3</td>\n",
              "      <td>4.79</td>\n",
              "      <td>27.82</td>\n",
              "      <td>79.78</td>\n",
              "      <td>3.15</td>\n",
              "      <td>7.76</td>\n",
              "      <td>1428591</td>\n",
              "    </tr>\n",
              "  </tbody>\n",
              "</table>\n",
              "</div>\n",
              "      <button class=\"colab-df-convert\" onclick=\"convertToInteractive('df-8cbba4aa-6237-4145-af09-ef81e9e1a534')\"\n",
              "              title=\"Convert this dataframe to an interactive table.\"\n",
              "              style=\"display:none;\">\n",
              "        \n",
              "  <svg xmlns=\"http://www.w3.org/2000/svg\" height=\"24px\"viewBox=\"0 0 24 24\"\n",
              "       width=\"24px\">\n",
              "    <path d=\"M0 0h24v24H0V0z\" fill=\"none\"/>\n",
              "    <path d=\"M18.56 5.44l.94 2.06.94-2.06 2.06-.94-2.06-.94-.94-2.06-.94 2.06-2.06.94zm-11 1L8.5 8.5l.94-2.06 2.06-.94-2.06-.94L8.5 2.5l-.94 2.06-2.06.94zm10 10l.94 2.06.94-2.06 2.06-.94-2.06-.94-.94-2.06-.94 2.06-2.06.94z\"/><path d=\"M17.41 7.96l-1.37-1.37c-.4-.4-.92-.59-1.43-.59-.52 0-1.04.2-1.43.59L10.3 9.45l-7.72 7.72c-.78.78-.78 2.05 0 2.83L4 21.41c.39.39.9.59 1.41.59.51 0 1.02-.2 1.41-.59l7.78-7.78 2.81-2.81c.8-.78.8-2.07 0-2.86zM5.41 20L4 18.59l7.72-7.72 1.47 1.35L5.41 20z\"/>\n",
              "  </svg>\n",
              "      </button>\n",
              "      \n",
              "  <style>\n",
              "    .colab-df-container {\n",
              "      display:flex;\n",
              "      flex-wrap:wrap;\n",
              "      gap: 12px;\n",
              "    }\n",
              "\n",
              "    .colab-df-convert {\n",
              "      background-color: #E8F0FE;\n",
              "      border: none;\n",
              "      border-radius: 50%;\n",
              "      cursor: pointer;\n",
              "      display: none;\n",
              "      fill: #1967D2;\n",
              "      height: 32px;\n",
              "      padding: 0 0 0 0;\n",
              "      width: 32px;\n",
              "    }\n",
              "\n",
              "    .colab-df-convert:hover {\n",
              "      background-color: #E2EBFA;\n",
              "      box-shadow: 0px 1px 2px rgba(60, 64, 67, 0.3), 0px 1px 3px 1px rgba(60, 64, 67, 0.15);\n",
              "      fill: #174EA6;\n",
              "    }\n",
              "\n",
              "    [theme=dark] .colab-df-convert {\n",
              "      background-color: #3B4455;\n",
              "      fill: #D2E3FC;\n",
              "    }\n",
              "\n",
              "    [theme=dark] .colab-df-convert:hover {\n",
              "      background-color: #434B5C;\n",
              "      box-shadow: 0px 1px 3px 1px rgba(0, 0, 0, 0.15);\n",
              "      filter: drop-shadow(0px 1px 2px rgba(0, 0, 0, 0.3));\n",
              "      fill: #FFFFFF;\n",
              "    }\n",
              "  </style>\n",
              "\n",
              "      <script>\n",
              "        const buttonEl =\n",
              "          document.querySelector('#df-8cbba4aa-6237-4145-af09-ef81e9e1a534 button.colab-df-convert');\n",
              "        buttonEl.style.display =\n",
              "          google.colab.kernel.accessAllowed ? 'block' : 'none';\n",
              "\n",
              "        async function convertToInteractive(key) {\n",
              "          const element = document.querySelector('#df-8cbba4aa-6237-4145-af09-ef81e9e1a534');\n",
              "          const dataTable =\n",
              "            await google.colab.kernel.invokeFunction('convertToInteractive',\n",
              "                                                     [key], {});\n",
              "          if (!dataTable) return;\n",
              "\n",
              "          const docLinkHtml = 'Like what you see? Visit the ' +\n",
              "            '<a target=\"_blank\" href=https://colab.research.google.com/notebooks/data_table.ipynb>data table notebook</a>'\n",
              "            + ' to learn more about interactive tables.';\n",
              "          element.innerHTML = '';\n",
              "          dataTable['output_type'] = 'display_data';\n",
              "          await google.colab.output.renderOutput(dataTable, element);\n",
              "          const docLink = document.createElement('div');\n",
              "          docLink.innerHTML = docLinkHtml;\n",
              "          element.appendChild(docLink);\n",
              "        }\n",
              "      </script>\n",
              "    </div>\n",
              "  </div>\n",
              "  "
            ],
            "text/plain": [
              "    Tahun  Kuadrimester  ...  PenyinaranMatahari  Wisatawan\n",
              "0    2016             1  ...                7.82    2222243\n",
              "1    2016             2  ...                8.53    3472965\n",
              "2    2016             3  ...                7.22    2948472\n",
              "3    2017             1  ...                6.73    2503314\n",
              "4    2017             2  ...                5.87    2986876\n",
              "5    2017             3  ...                6.74    3245443\n",
              "6    2018             1  ...                7.57    2939084\n",
              "7    2018             2  ...                8.31    3515383\n",
              "8    2018             3  ...                8.58    3303524\n",
              "9    2019             1  ...                7.33    3069253\n",
              "10   2019             2  ...                9.23    3805249\n",
              "11   2019             3  ...               10.18    3670537\n",
              "12   2020             1  ...                7.94    2343379\n",
              "13   2020             2  ...                8.65     824187\n",
              "14   2020             3  ...                7.76    1428591\n",
              "\n",
              "[15 rows x 8 columns]"
            ]
          },
          "metadata": {},
          "execution_count": 309
        }
      ]
    },
    {
      "cell_type": "markdown",
      "source": [
        "# CURAH HUJAN"
      ],
      "metadata": {
        "id": "_FfyI1BjQRUj"
      }
    },
    {
      "cell_type": "code",
      "source": [
        "X = db['CurahHujan']\n",
        "Y = db['Wisatawan']\n",
        "S = np.zeros(14)\n",
        "for i in range (0,14):\n",
        "  S[i] = X[i+1]-X[i]\n",
        "print(S)"
      ],
      "metadata": {
        "colab": {
          "base_uri": "https://localhost:8080/"
        },
        "id": "XLpRuHawylAu",
        "outputId": "9a8f3aa1-6411-4aa5-d097-0d5475b3f3e1"
      },
      "execution_count": null,
      "outputs": [
        {
          "output_type": "stream",
          "name": "stdout",
          "text": [
            "[-1.9   5.14 -1.5  -6.62  7.39 -0.11 -8.27  2.38  3.79 -6.72  0.43  5.6\n",
            " -4.78  3.01]\n"
          ]
        }
      ]
    },
    {
      "cell_type": "code",
      "source": [
        "Z = np.zeros(14)\n",
        "for i in range (0,14):\n",
        "  Z[i] = Y[i+1] - Y[i]\n",
        "print(Z)"
      ],
      "metadata": {
        "colab": {
          "base_uri": "https://localhost:8080/"
        },
        "id": "2gH6MXwF4LyZ",
        "outputId": "946eaf41-be14-4be7-b501-99453d6bcaed"
      },
      "execution_count": null,
      "outputs": [
        {
          "output_type": "stream",
          "name": "stdout",
          "text": [
            "[ 1250722.  -524493.  -445158.   483562.   258567.  -306359.   576299.\n",
            "  -211859.  -234271.   735996.  -134712. -1327158. -1519192.   604404.]\n"
          ]
        }
      ]
    },
    {
      "cell_type": "code",
      "source": [
        "#interval Wisatawan\n",
        "\n",
        "for var in Z :\n",
        "  if var > -1519193 and var <= -965210:\n",
        "    print ('S1')\n",
        "  elif var > -965210 and var <= -411227:\n",
        "    print ('S2')\n",
        "  elif var > -411227 and var <= 142756:\n",
        "    print ('S3')\n",
        "  elif var > 142756 and var <= 696739:\n",
        "    print ('S4')\n",
        "  elif var > 696739 and var <= 1250722:\n",
        "    print ('S5')\n",
        "  else :\n",
        "    print ('not valid')"
      ],
      "metadata": {
        "colab": {
          "base_uri": "https://localhost:8080/"
        },
        "id": "F1eOdkq8VHX8",
        "outputId": "06e7db77-99b4-4f01-93f8-ff1762a77c74"
      },
      "execution_count": null,
      "outputs": [
        {
          "output_type": "stream",
          "name": "stdout",
          "text": [
            "S5\n",
            "S2\n",
            "S2\n",
            "S4\n",
            "S4\n",
            "S3\n",
            "S4\n",
            "S3\n",
            "S3\n",
            "S5\n",
            "S3\n",
            "S1\n",
            "S1\n",
            "S4\n"
          ]
        }
      ]
    },
    {
      "cell_type": "code",
      "source": [
        " import pandas as pd\n",
        "transitions = [ 'S5','S2','S2','S4','S4','S3','S4','S3','S3','S5','S3',\n",
        "               'S1','S1','S4'] * 2"
      ],
      "metadata": {
        "id": "ovA1oo3d5ecP"
      },
      "execution_count": null,
      "outputs": []
    },
    {
      "cell_type": "code",
      "source": [
        "df = pd.DataFrame (columns = [ 'state', 'next_state'])\n",
        "for i , val in enumerate(transitions[ : -1 ] ) :\n",
        "  df_stg = pd.DataFrame ( index =[0] )\n",
        "  df_stg [ 'state' ], df_stg [ 'next_state'] = transitions [i] ,transitions [i+1]\n",
        "\n",
        "df = pd.concat ([ df, df_stg ] , axis = 0 )\n",
        "cross_tab = pd.crosstab( df['state'] , df['next_state'])\n",
        "cross_tab.div ( cross_tab.sum(axis=1) , axis=0)"
      ],
      "metadata": {
        "colab": {
          "base_uri": "https://localhost:8080/",
          "height": 112
        },
        "id": "DUO6Px-flm2F",
        "outputId": "d6337329-939f-4971-d0c2-381a2ca410cb"
      },
      "execution_count": null,
      "outputs": [
        {
          "output_type": "execute_result",
          "data": {
            "text/html": [
              "\n",
              "  <div id=\"df-912cebdb-d68b-4bd2-adf9-cf5ff9875252\">\n",
              "    <div class=\"colab-df-container\">\n",
              "      <div>\n",
              "<style scoped>\n",
              "    .dataframe tbody tr th:only-of-type {\n",
              "        vertical-align: middle;\n",
              "    }\n",
              "\n",
              "    .dataframe tbody tr th {\n",
              "        vertical-align: top;\n",
              "    }\n",
              "\n",
              "    .dataframe thead th {\n",
              "        text-align: right;\n",
              "    }\n",
              "</style>\n",
              "<table border=\"1\" class=\"dataframe\">\n",
              "  <thead>\n",
              "    <tr style=\"text-align: right;\">\n",
              "      <th>next_state</th>\n",
              "      <th>S4</th>\n",
              "    </tr>\n",
              "    <tr>\n",
              "      <th>state</th>\n",
              "      <th></th>\n",
              "    </tr>\n",
              "  </thead>\n",
              "  <tbody>\n",
              "    <tr>\n",
              "      <th>S1</th>\n",
              "      <td>1.0</td>\n",
              "    </tr>\n",
              "  </tbody>\n",
              "</table>\n",
              "</div>\n",
              "      <button class=\"colab-df-convert\" onclick=\"convertToInteractive('df-912cebdb-d68b-4bd2-adf9-cf5ff9875252')\"\n",
              "              title=\"Convert this dataframe to an interactive table.\"\n",
              "              style=\"display:none;\">\n",
              "        \n",
              "  <svg xmlns=\"http://www.w3.org/2000/svg\" height=\"24px\"viewBox=\"0 0 24 24\"\n",
              "       width=\"24px\">\n",
              "    <path d=\"M0 0h24v24H0V0z\" fill=\"none\"/>\n",
              "    <path d=\"M18.56 5.44l.94 2.06.94-2.06 2.06-.94-2.06-.94-.94-2.06-.94 2.06-2.06.94zm-11 1L8.5 8.5l.94-2.06 2.06-.94-2.06-.94L8.5 2.5l-.94 2.06-2.06.94zm10 10l.94 2.06.94-2.06 2.06-.94-2.06-.94-.94-2.06-.94 2.06-2.06.94z\"/><path d=\"M17.41 7.96l-1.37-1.37c-.4-.4-.92-.59-1.43-.59-.52 0-1.04.2-1.43.59L10.3 9.45l-7.72 7.72c-.78.78-.78 2.05 0 2.83L4 21.41c.39.39.9.59 1.41.59.51 0 1.02-.2 1.41-.59l7.78-7.78 2.81-2.81c.8-.78.8-2.07 0-2.86zM5.41 20L4 18.59l7.72-7.72 1.47 1.35L5.41 20z\"/>\n",
              "  </svg>\n",
              "      </button>\n",
              "      \n",
              "  <style>\n",
              "    .colab-df-container {\n",
              "      display:flex;\n",
              "      flex-wrap:wrap;\n",
              "      gap: 12px;\n",
              "    }\n",
              "\n",
              "    .colab-df-convert {\n",
              "      background-color: #E8F0FE;\n",
              "      border: none;\n",
              "      border-radius: 50%;\n",
              "      cursor: pointer;\n",
              "      display: none;\n",
              "      fill: #1967D2;\n",
              "      height: 32px;\n",
              "      padding: 0 0 0 0;\n",
              "      width: 32px;\n",
              "    }\n",
              "\n",
              "    .colab-df-convert:hover {\n",
              "      background-color: #E2EBFA;\n",
              "      box-shadow: 0px 1px 2px rgba(60, 64, 67, 0.3), 0px 1px 3px 1px rgba(60, 64, 67, 0.15);\n",
              "      fill: #174EA6;\n",
              "    }\n",
              "\n",
              "    [theme=dark] .colab-df-convert {\n",
              "      background-color: #3B4455;\n",
              "      fill: #D2E3FC;\n",
              "    }\n",
              "\n",
              "    [theme=dark] .colab-df-convert:hover {\n",
              "      background-color: #434B5C;\n",
              "      box-shadow: 0px 1px 3px 1px rgba(0, 0, 0, 0.15);\n",
              "      filter: drop-shadow(0px 1px 2px rgba(0, 0, 0, 0.3));\n",
              "      fill: #FFFFFF;\n",
              "    }\n",
              "  </style>\n",
              "\n",
              "      <script>\n",
              "        const buttonEl =\n",
              "          document.querySelector('#df-912cebdb-d68b-4bd2-adf9-cf5ff9875252 button.colab-df-convert');\n",
              "        buttonEl.style.display =\n",
              "          google.colab.kernel.accessAllowed ? 'block' : 'none';\n",
              "\n",
              "        async function convertToInteractive(key) {\n",
              "          const element = document.querySelector('#df-912cebdb-d68b-4bd2-adf9-cf5ff9875252');\n",
              "          const dataTable =\n",
              "            await google.colab.kernel.invokeFunction('convertToInteractive',\n",
              "                                                     [key], {});\n",
              "          if (!dataTable) return;\n",
              "\n",
              "          const docLinkHtml = 'Like what you see? Visit the ' +\n",
              "            '<a target=\"_blank\" href=https://colab.research.google.com/notebooks/data_table.ipynb>data table notebook</a>'\n",
              "            + ' to learn more about interactive tables.';\n",
              "          element.innerHTML = '';\n",
              "          dataTable['output_type'] = 'display_data';\n",
              "          await google.colab.output.renderOutput(dataTable, element);\n",
              "          const docLink = document.createElement('div');\n",
              "          docLink.innerHTML = docLinkHtml;\n",
              "          element.appendChild(docLink);\n",
              "        }\n",
              "      </script>\n",
              "    </div>\n",
              "  </div>\n",
              "  "
            ],
            "text/plain": [
              "next_state   S4\n",
              "state          \n",
              "S1          1.0"
            ]
          },
          "metadata": {},
          "execution_count": 314
        }
      ]
    },
    {
      "cell_type": "code",
      "source": [
        "for var in S :\n",
        "  if var > -8.3 and var <= -5.1:\n",
        "    print ( 'O1')\n",
        "  elif var > -5.1 and var <= -1.9 :\n",
        "    print ( 'O2' )\n",
        "  elif var > -1.9 and var <= 1.3:\n",
        "    print ( 'O3' )\n",
        "  elif var > 1.3 and var <= 4.5:\n",
        "    print ( 'O4' )\n",
        "  elif var > 4.5 and var <= 7.7:\n",
        "    print ( 'O5' )\n",
        "  else :\n",
        "    print ( 'not valid ' )"
      ],
      "metadata": {
        "id": "naJsRI6w8QYB",
        "colab": {
          "base_uri": "https://localhost:8080/"
        },
        "outputId": "0d8f919f-cb92-41f5-be4c-cb8ce227ebf6"
      },
      "execution_count": null,
      "outputs": [
        {
          "output_type": "stream",
          "name": "stdout",
          "text": [
            "O2\n",
            "O5\n",
            "O3\n",
            "O1\n",
            "O5\n",
            "O3\n",
            "O1\n",
            "O4\n",
            "O4\n",
            "O1\n",
            "O3\n",
            "O5\n",
            "O2\n",
            "O4\n"
          ]
        }
      ]
    },
    {
      "cell_type": "code",
      "source": [
        "#probabilitas transisi variable terobservasi\n",
        "import pandas as pd\n",
        "transitions = ['O2','O5' , 'O3' , 'O1' , 'O5' , 'O3' , 'O1' , 'O4' ,\n",
        "'O4' , 'O1' , 'O3' , 'O5' , 'O2' , 'O4' ] * 2\n"
      ],
      "metadata": {
        "id": "2BxPh6KP9JUI"
      },
      "execution_count": null,
      "outputs": []
    },
    {
      "cell_type": "code",
      "source": [
        "df = pd.DataFrame (columns = [ 'state', 'next_state'])\n",
        "for i , val in enumerate(transitions[ : -1 ] ) :\n",
        "  df_stg = pd.DataFrame ( index =[0] )\n",
        "  df_stg [ 'state' ], df_stg [ 'next_state'] = transitions [i] ,transitions [i+1]\n",
        "\n",
        "df = pd.concat ([ df, df_stg ] , axis = 0 )\n",
        "cross_tab = pd.crosstab( df['state'] , df['next_state'])\n",
        "cross_tab.div ( cross_tab.sum(axis=1) , axis=0)"
      ],
      "metadata": {
        "id": "JctPR3kr-GkL",
        "colab": {
          "base_uri": "https://localhost:8080/",
          "height": 112
        },
        "outputId": "2535d195-3014-4f97-900e-d7e414661872"
      },
      "execution_count": null,
      "outputs": [
        {
          "output_type": "execute_result",
          "data": {
            "text/html": [
              "\n",
              "  <div id=\"df-e5090423-9a9e-4471-a550-652c7b8d5e76\">\n",
              "    <div class=\"colab-df-container\">\n",
              "      <div>\n",
              "<style scoped>\n",
              "    .dataframe tbody tr th:only-of-type {\n",
              "        vertical-align: middle;\n",
              "    }\n",
              "\n",
              "    .dataframe tbody tr th {\n",
              "        vertical-align: top;\n",
              "    }\n",
              "\n",
              "    .dataframe thead th {\n",
              "        text-align: right;\n",
              "    }\n",
              "</style>\n",
              "<table border=\"1\" class=\"dataframe\">\n",
              "  <thead>\n",
              "    <tr style=\"text-align: right;\">\n",
              "      <th>next_state</th>\n",
              "      <th>O4</th>\n",
              "    </tr>\n",
              "    <tr>\n",
              "      <th>state</th>\n",
              "      <th></th>\n",
              "    </tr>\n",
              "  </thead>\n",
              "  <tbody>\n",
              "    <tr>\n",
              "      <th>O2</th>\n",
              "      <td>1.0</td>\n",
              "    </tr>\n",
              "  </tbody>\n",
              "</table>\n",
              "</div>\n",
              "      <button class=\"colab-df-convert\" onclick=\"convertToInteractive('df-e5090423-9a9e-4471-a550-652c7b8d5e76')\"\n",
              "              title=\"Convert this dataframe to an interactive table.\"\n",
              "              style=\"display:none;\">\n",
              "        \n",
              "  <svg xmlns=\"http://www.w3.org/2000/svg\" height=\"24px\"viewBox=\"0 0 24 24\"\n",
              "       width=\"24px\">\n",
              "    <path d=\"M0 0h24v24H0V0z\" fill=\"none\"/>\n",
              "    <path d=\"M18.56 5.44l.94 2.06.94-2.06 2.06-.94-2.06-.94-.94-2.06-.94 2.06-2.06.94zm-11 1L8.5 8.5l.94-2.06 2.06-.94-2.06-.94L8.5 2.5l-.94 2.06-2.06.94zm10 10l.94 2.06.94-2.06 2.06-.94-2.06-.94-.94-2.06-.94 2.06-2.06.94z\"/><path d=\"M17.41 7.96l-1.37-1.37c-.4-.4-.92-.59-1.43-.59-.52 0-1.04.2-1.43.59L10.3 9.45l-7.72 7.72c-.78.78-.78 2.05 0 2.83L4 21.41c.39.39.9.59 1.41.59.51 0 1.02-.2 1.41-.59l7.78-7.78 2.81-2.81c.8-.78.8-2.07 0-2.86zM5.41 20L4 18.59l7.72-7.72 1.47 1.35L5.41 20z\"/>\n",
              "  </svg>\n",
              "      </button>\n",
              "      \n",
              "  <style>\n",
              "    .colab-df-container {\n",
              "      display:flex;\n",
              "      flex-wrap:wrap;\n",
              "      gap: 12px;\n",
              "    }\n",
              "\n",
              "    .colab-df-convert {\n",
              "      background-color: #E8F0FE;\n",
              "      border: none;\n",
              "      border-radius: 50%;\n",
              "      cursor: pointer;\n",
              "      display: none;\n",
              "      fill: #1967D2;\n",
              "      height: 32px;\n",
              "      padding: 0 0 0 0;\n",
              "      width: 32px;\n",
              "    }\n",
              "\n",
              "    .colab-df-convert:hover {\n",
              "      background-color: #E2EBFA;\n",
              "      box-shadow: 0px 1px 2px rgba(60, 64, 67, 0.3), 0px 1px 3px 1px rgba(60, 64, 67, 0.15);\n",
              "      fill: #174EA6;\n",
              "    }\n",
              "\n",
              "    [theme=dark] .colab-df-convert {\n",
              "      background-color: #3B4455;\n",
              "      fill: #D2E3FC;\n",
              "    }\n",
              "\n",
              "    [theme=dark] .colab-df-convert:hover {\n",
              "      background-color: #434B5C;\n",
              "      box-shadow: 0px 1px 3px 1px rgba(0, 0, 0, 0.15);\n",
              "      filter: drop-shadow(0px 1px 2px rgba(0, 0, 0, 0.3));\n",
              "      fill: #FFFFFF;\n",
              "    }\n",
              "  </style>\n",
              "\n",
              "      <script>\n",
              "        const buttonEl =\n",
              "          document.querySelector('#df-e5090423-9a9e-4471-a550-652c7b8d5e76 button.colab-df-convert');\n",
              "        buttonEl.style.display =\n",
              "          google.colab.kernel.accessAllowed ? 'block' : 'none';\n",
              "\n",
              "        async function convertToInteractive(key) {\n",
              "          const element = document.querySelector('#df-e5090423-9a9e-4471-a550-652c7b8d5e76');\n",
              "          const dataTable =\n",
              "            await google.colab.kernel.invokeFunction('convertToInteractive',\n",
              "                                                     [key], {});\n",
              "          if (!dataTable) return;\n",
              "\n",
              "          const docLinkHtml = 'Like what you see? Visit the ' +\n",
              "            '<a target=\"_blank\" href=https://colab.research.google.com/notebooks/data_table.ipynb>data table notebook</a>'\n",
              "            + ' to learn more about interactive tables.';\n",
              "          element.innerHTML = '';\n",
              "          dataTable['output_type'] = 'display_data';\n",
              "          await google.colab.output.renderOutput(dataTable, element);\n",
              "          const docLink = document.createElement('div');\n",
              "          docLink.innerHTML = docLinkHtml;\n",
              "          element.appendChild(docLink);\n",
              "        }\n",
              "      </script>\n",
              "    </div>\n",
              "  </div>\n",
              "  "
            ],
            "text/plain": [
              "next_state   O4\n",
              "state          \n",
              "O2          1.0"
            ]
          },
          "metadata": {},
          "execution_count": 317
        }
      ]
    },
    {
      "cell_type": "code",
      "source": [
        "#prediksi pola variabel terhadap panen\n",
        "\n",
        "#create state space and initial state probabilies\n",
        "states = [ 'O1', 'O2' , 'O3' , 'O4', 'O5']\n",
        "pi = [ 2/14 , 2/14 , 4/14, 4/14 , 2/14 ]\n",
        "state_space = pd.Series ( pi , index = states , name='states' )\n",
        "print ( state_space)\n",
        "print ( state_space.sum( ) )\n"
      ],
      "metadata": {
        "id": "FPLpLgNV_laY",
        "colab": {
          "base_uri": "https://localhost:8080/"
        },
        "outputId": "3bf02b3a-e5e4-42f5-92b0-5ecf2cc1d4d7"
      },
      "execution_count": null,
      "outputs": [
        {
          "output_type": "stream",
          "name": "stdout",
          "text": [
            "O1    0.142857\n",
            "O2    0.142857\n",
            "O3    0.285714\n",
            "O4    0.285714\n",
            "O5    0.142857\n",
            "Name: states, dtype: float64\n",
            "1.0\n"
          ]
        }
      ]
    },
    {
      "cell_type": "code",
      "source": [
        "#create transition matrix\n",
        "#equals transition probability matrix of changing state given a state\n",
        "#matrix is size (M x M) where M is number of states\n",
        "\n",
        "#probabilitas transisi variabel terobervasi\n",
        "\n",
        "q_df = pd.DataFrame ( columns=states , index=states )\n",
        "q_df.loc[ states[0] ] = [ 0.0  , 0.0 , 0.33 , 0.33 , 0.33 ]\n",
        "q_df.loc[ states[1] ] = [ 0.0  , 0.0 , 0.0  , 0.5  , 0.5  ]\n",
        "q_df.loc[ states[2] ] = [ 0.67 , 0.0 , 0.0  , 0.0  , 0.33 ]\n",
        "q_df.loc[ states[3] ] = [ 0.5  , 0.0 , 0.0  , 0.5  , 0.0  ]\n",
        "q_df.loc[ states[4] ] = [ 0.0  , 0.33, 0.67 , 0.0  , 0.0  ]\n",
        "print ( q_df )\n"
      ],
      "metadata": {
        "id": "luYWkcgKASFF",
        "colab": {
          "base_uri": "https://localhost:8080/"
        },
        "outputId": "f34e063d-d3b3-46a0-cf40-768b19c96910"
      },
      "execution_count": null,
      "outputs": [
        {
          "output_type": "stream",
          "name": "stdout",
          "text": [
            "      O1    O2    O3    O4    O5\n",
            "O1     0     0  0.33  0.33  0.33\n",
            "O2     0     0     0   0.5   0.5\n",
            "O3  0.67     0     0     0  0.33\n",
            "O4   0.5     0     0   0.5     0\n",
            "O5     0  0.33  0.67     0     0\n"
          ]
        }
      ]
    },
    {
      "cell_type": "code",
      "source": [
        "from pprint import pprint \n",
        "\n",
        "# create a function that maps transition probability dataframe \n",
        "# to markov edges and weights\n",
        "\n",
        "def _get_markov_edges(Q):\n",
        "    edges = {}\n",
        "    for col in Q.columns:\n",
        "        for idx in Q.index:\n",
        "            edges[(idx,col)] = Q.loc[idx,col]\n",
        "    return edges\n",
        "\n",
        "edges_wts = _get_markov_edges(q_df)\n",
        "pprint(edges_wts)"
      ],
      "metadata": {
        "colab": {
          "base_uri": "https://localhost:8080/"
        },
        "id": "rJ7p09n7jz-A",
        "outputId": "0e2d5cae-2e82-4982-8194-258dae71977a"
      },
      "execution_count": null,
      "outputs": [
        {
          "output_type": "stream",
          "name": "stdout",
          "text": [
            "{('O1', 'O1'): 0.0,\n",
            " ('O1', 'O2'): 0.0,\n",
            " ('O1', 'O3'): 0.33,\n",
            " ('O1', 'O4'): 0.33,\n",
            " ('O1', 'O5'): 0.33,\n",
            " ('O2', 'O1'): 0.0,\n",
            " ('O2', 'O2'): 0.0,\n",
            " ('O2', 'O3'): 0.0,\n",
            " ('O2', 'O4'): 0.5,\n",
            " ('O2', 'O5'): 0.5,\n",
            " ('O3', 'O1'): 0.67,\n",
            " ('O3', 'O2'): 0.0,\n",
            " ('O3', 'O3'): 0.0,\n",
            " ('O3', 'O4'): 0.0,\n",
            " ('O3', 'O5'): 0.33,\n",
            " ('O4', 'O1'): 0.5,\n",
            " ('O4', 'O2'): 0.0,\n",
            " ('O4', 'O3'): 0.0,\n",
            " ('O4', 'O4'): 0.5,\n",
            " ('O4', 'O5'): 0.0,\n",
            " ('O5', 'O1'): 0.0,\n",
            " ('O5', 'O2'): 0.33,\n",
            " ('O5', 'O3'): 0.67,\n",
            " ('O5', 'O4'): 0.0,\n",
            " ('O5', 'O5'): 0.0}\n"
          ]
        }
      ]
    },
    {
      "cell_type": "code",
      "source": [
        "# create graph object\n",
        "G = nx.MultiDiGraph()\n",
        "\n",
        "# nodes correspond to states\n",
        "G.add_nodes_from(states)\n",
        "print(f'Nodes:\\n{G.nodes()}\\n')\n",
        "\n",
        "# edges represent transition probabilities\n",
        "for k, v in edges_wts.items():\n",
        "    tmp_origin, tmp_destination = k[0], k[1]\n",
        "    G.add_edge(tmp_origin, tmp_destination, weight=v, label=v)\n",
        "print(f'Edges:')\n",
        "pprint(G.edges(data=True))    \n",
        "\n",
        "pos = nx.drawing.nx_pydot.graphviz_layout(G, prog='dot')\n",
        "nx.draw_networkx(G, pos)\n",
        "\n",
        "# create edge labels for jupyter plot but is not necessary\n",
        "edge_labels = {(n1,n2):d['label'] for n1,n2,d in G.edges(data=True)}\n",
        "nx.draw_networkx_edge_labels(G , pos, edge_labels=edge_labels)\n",
        "nx.drawing.nx_pydot.write_dot(G, 'pet_dog_markov.dot')"
      ],
      "metadata": {
        "colab": {
          "base_uri": "https://localhost:8080/",
          "height": 437
        },
        "id": "LCqfvw4ykuLT",
        "outputId": "476ab6e3-e79f-4ee8-e27a-b557bd568344"
      },
      "execution_count": null,
      "outputs": [
        {
          "output_type": "stream",
          "name": "stdout",
          "text": [
            "Nodes:\n",
            "['O1', 'O2', 'O3', 'O4', 'O5']\n",
            "\n",
            "Edges:\n",
            "OutMultiEdgeDataView([('O1', 'O1', {'weight': 0.0, 'label': 0.0}), ('O1', 'O2', {'weight': 0.0, 'label': 0.0}), ('O1', 'O3', {'weight': 0.33, 'label': 0.33}), ('O1', 'O4', {'weight': 0.33, 'label': 0.33}), ('O1', 'O5', {'weight': 0.33, 'label': 0.33}), ('O2', 'O1', {'weight': 0.0, 'label': 0.0}), ('O2', 'O2', {'weight': 0.0, 'label': 0.0}), ('O2', 'O3', {'weight': 0.0, 'label': 0.0}), ('O2', 'O4', {'weight': 0.5, 'label': 0.5}), ('O2', 'O5', {'weight': 0.5, 'label': 0.5}), ('O3', 'O1', {'weight': 0.67, 'label': 0.67}), ('O3', 'O2', {'weight': 0.0, 'label': 0.0}), ('O3', 'O3', {'weight': 0.0, 'label': 0.0}), ('O3', 'O4', {'weight': 0.0, 'label': 0.0}), ('O3', 'O5', {'weight': 0.33, 'label': 0.33}), ('O4', 'O1', {'weight': 0.5, 'label': 0.5}), ('O4', 'O2', {'weight': 0.0, 'label': 0.0}), ('O4', 'O3', {'weight': 0.0, 'label': 0.0}), ('O4', 'O4', {'weight': 0.5, 'label': 0.5}), ('O4', 'O5', {'weight': 0.0, 'label': 0.0}), ('O5', 'O1', {'weight': 0.0, 'label': 0.0}), ('O5', 'O2', {'weight': 0.33, 'label': 0.33}), ('O5', 'O3', {'weight': 0.67, 'label': 0.67}), ('O5', 'O4', {'weight': 0.0, 'label': 0.0}), ('O5', 'O5', {'weight': 0.0, 'label': 0.0})])\n"
          ]
        },
        {
          "output_type": "display_data",
          "data": {
            "image/png": "[encoded data removed]",
            "text/plain": [
              "<Figure size 576x396 with 1 Axes>"
            ]
          },
          "metadata": {}
        }
      ]
    },
    {
      "cell_type": "code",
      "source": [
        "#create state space and initial state probabilities\n",
        "hidden_states = [ 'S1' , 'S2' , 'S3' , 'S4', 'S5']\n",
        "pi = [ 2/14 , 2/14 , 4/14, 4/14 , 2/14 ]\n",
        "print ( '\\n' )\n",
        "state_space = pd.Series ( pi , index = hidden_states , name='states')\n",
        "print (state_space)\n",
        "print('\\n')\n",
        "print(state_space.sum())"
      ],
      "metadata": {
        "id": "L80h0bSdB2fO",
        "colab": {
          "base_uri": "https://localhost:8080/"
        },
        "outputId": "2e778fd7-3ea6-4a64-c1e5-ffa9992dd1d9"
      },
      "execution_count": null,
      "outputs": [
        {
          "output_type": "stream",
          "name": "stdout",
          "text": [
            "\n",
            "\n",
            "S1    0.142857\n",
            "S2    0.142857\n",
            "S3    0.285714\n",
            "S4    0.285714\n",
            "S5    0.142857\n",
            "Name: states, dtype: float64\n",
            "\n",
            "\n",
            "1.0\n"
          ]
        }
      ]
    },
    {
      "cell_type": "code",
      "source": [
        "#create hidden transition matrix\n",
        "#a or alpha = transition probability matrix of changing states given a state\n",
        "#matrix is size (M x M) where M is number of states\n",
        "\n",
        "a_df = pd.DataFrame(columns = hidden_states , index=hidden_states )\n",
        "a_df.loc[ hidden_states[ 0 ] ] = [ 0.5 , 0.0 , 0.0 , 0.5 , 0.0 ]\n",
        "a_df.loc[ hidden_states[ 1 ] ] = [ 0.0 , 0.5 , 0.0 , 0.5 , 0.0 ]\n",
        "a_df.loc[ hidden_states[ 2 ] ] = [ 0.25 , 0.0 , 0.25 , 0.25, 0.25 ]\n",
        "a_df.loc[ hidden_states[ 3 ] ] = [ 0.0 , 0.0 , 0.67 , 0.33 , 0.0 ]\n",
        "a_df.loc[ hidden_states[ 4 ] ] = [ 0.0 , 0.5 , 0.5 , 0.0 , 0.0 ]\n",
        "print ( a_df )\n"
      ],
      "metadata": {
        "id": "3IgeZovUCqhV",
        "colab": {
          "base_uri": "https://localhost:8080/"
        },
        "outputId": "1e522f69-c0fa-4b58-9165-d7cb5df024e8"
      },
      "execution_count": null,
      "outputs": [
        {
          "output_type": "stream",
          "name": "stdout",
          "text": [
            "      S1   S2    S3    S4    S5\n",
            "S1   0.5    0     0   0.5     0\n",
            "S2     0  0.5     0   0.5     0\n",
            "S3  0.25    0  0.25  0.25  0.25\n",
            "S4     0    0  0.67  0.33     0\n",
            "S5     0  0.5   0.5     0     0\n"
          ]
        }
      ]
    },
    {
      "cell_type": "code",
      "source": [
        "a = a_df.values\n",
        "print ( a )\n",
        "print ( '\\n')\n",
        "print ( a.shape )\n",
        "print ( '\\n ')\n",
        "print ( a_df.sum( axis = 1))\n"
      ],
      "metadata": {
        "id": "LDxA06SmECd5",
        "colab": {
          "base_uri": "https://localhost:8080/"
        },
        "outputId": "a1a050e8-f058-4a0f-b62a-7d7dffad0059"
      },
      "execution_count": null,
      "outputs": [
        {
          "output_type": "stream",
          "name": "stdout",
          "text": [
            "[[0.5 0.0 0.0 0.5 0.0]\n",
            " [0.0 0.5 0.0 0.5 0.0]\n",
            " [0.25 0.0 0.25 0.25 0.25]\n",
            " [0.0 0.0 0.67 0.33 0.0]\n",
            " [0.0 0.5 0.5 0.0 0.0]]\n",
            "\n",
            "\n",
            "(5, 5)\n",
            "\n",
            " \n",
            "S1    1.0\n",
            "S2    1.0\n",
            "S3    1.0\n",
            "S4    1.0\n",
            "S5    1.0\n",
            "dtype: float64\n"
          ]
        }
      ]
    },
    {
      "cell_type": "code",
      "source": [
        "#create matrix of observation (emission) probabilities\n",
        "#b or beta = observation probabilities given state\n",
        "#matrix is size (M x O) where M is number of states\n",
        "# and O is number of different possible observations\n",
        "\n",
        "observable_states = states\n",
        "b_df = pd.DataFrame(columns = observable_states , index = hidden_states)\n",
        "b_df.loc[ hidden_states[ 0 ] ] = [ 0.0 , 0.5 , 0.0 , 0.0 , 0.5 ]\n",
        "b_df.loc[ hidden_states[ 1 ] ] = [ 0.0 , 0.0 , 0.5 , 0.0 , 0.5 ]\n",
        "b_df.loc[ hidden_states[ 2 ] ] = [ 0.0 , 0.0 , 0.5 , 0.5 , 0.0 ]\n",
        "b_df.loc[ hidden_states[ 3 ] ] = [ 0.5 , 0.0 , 0.0 , 0.25 , 0.25 ]\n",
        "b_df.loc[ hidden_states[ 4 ] ] = [ 0.5 , 0.5 , 0.0 , 0.00 , 0.0 ]\n",
        "print ( b_df )\n"
      ],
      "metadata": {
        "id": "wK-P6g06EZjl",
        "colab": {
          "base_uri": "https://localhost:8080/"
        },
        "outputId": "2f0afbeb-be8d-4d86-8057-85611e465f4e"
      },
      "execution_count": null,
      "outputs": [
        {
          "output_type": "stream",
          "name": "stdout",
          "text": [
            "     O1   O2   O3    O4    O5\n",
            "S1    0  0.5    0     0   0.5\n",
            "S2    0    0  0.5     0   0.5\n",
            "S3    0    0  0.5   0.5     0\n",
            "S4  0.5    0    0  0.25  0.25\n",
            "S5  0.5  0.5    0     0     0\n"
          ]
        }
      ]
    },
    {
      "cell_type": "code",
      "source": [
        "b = b_df.values\n",
        "\n",
        "print ( b )\n",
        "print( '\\n' )\n",
        "print ( b.shape )\n",
        "print ( '\\n' )\n",
        "print ( b_df.sum( axis = 1))\n"
      ],
      "metadata": {
        "id": "B4RCaBhDF5Ok",
        "colab": {
          "base_uri": "https://localhost:8080/"
        },
        "outputId": "3f813e36-aa95-49b3-b1a9-9c1386d25af3"
      },
      "execution_count": null,
      "outputs": [
        {
          "output_type": "stream",
          "name": "stdout",
          "text": [
            "[[0.0 0.5 0.0 0.0 0.5]\n",
            " [0.0 0.0 0.5 0.0 0.5]\n",
            " [0.0 0.0 0.5 0.5 0.0]\n",
            " [0.5 0.0 0.0 0.25 0.25]\n",
            " [0.5 0.5 0.0 0.0 0.0]]\n",
            "\n",
            "\n",
            "(5, 5)\n",
            "\n",
            "\n",
            "S1    1.0\n",
            "S2    1.0\n",
            "S3    1.0\n",
            "S4    1.0\n",
            "S5    1.0\n",
            "dtype: float64\n"
          ]
        }
      ]
    },
    {
      "cell_type": "code",
      "source": [
        "#create edge labels\n",
        "#emit_edge_labels = {(n1,n2):d['label'] for n1,n2,d in G.edges(data = True)}\n",
        "#nx.draw_networkx_edge_labels(G, pos, edge_labels = emit_edge_labels)\n",
        "#plt .show()\n",
        "#nx.drawing.nx_pydot.write dot(G, 'hidden markov.dot')\n",
        "\n",
        "# observation sequence of dog's behaviors \n",
        "# observations are encoded numerically\n",
        "\n",
        "obs_map = {'O1':0, 'O2':1, 'O3':2, 'O4':3, 'O5':4}\n",
        "obs = np.array([1, 4, 2, 0, 4, 2, 0, 3, 3, 0, 2, 4, 1, 3])\n",
        "\n",
        "inv_obs_map = dict((v,k) for k, v in obs_map.items())\n",
        "obs_seq = [inv_obs_map[v] for v in list(obs)]\n",
        "\n",
        "print(pd.DataFrame(np.column_stack([obs, obs_seq]),\n",
        "                   columns = ['Obs_code', 'Obs_seq']))\n",
        "\n"
      ],
      "metadata": {
        "id": "gVYH6w5dGacH",
        "colab": {
          "base_uri": "https://localhost:8080/"
        },
        "outputId": "5659f8ed-fcc3-4620-c348-60c047b98243"
      },
      "execution_count": null,
      "outputs": [
        {
          "output_type": "stream",
          "name": "stdout",
          "text": [
            "   Obs_code Obs_seq\n",
            "0         1      O2\n",
            "1         4      O5\n",
            "2         2      O3\n",
            "3         0      O1\n",
            "4         4      O5\n",
            "5         2      O3\n",
            "6         0      O1\n",
            "7         3      O4\n",
            "8         3      O4\n",
            "9         0      O1\n",
            "10        2      O3\n",
            "11        4      O5\n",
            "12        1      O2\n",
            "13        3      O4\n"
          ]
        }
      ]
    },
    {
      "cell_type": "code",
      "source": [
        "# create graph edges and weights\n",
        "\n",
        "hide_edges_wts = _get_markov_edges(a_df)\n",
        "pprint(hide_edges_wts)\n",
        "\n",
        "emit_edges_wts = _get_markov_edges(b_df)\n",
        "pprint(emit_edges_wts)"
      ],
      "metadata": {
        "colab": {
          "base_uri": "https://localhost:8080/"
        },
        "id": "o1d5c7NtlL-O",
        "outputId": "03b2d365-4519-442e-c68c-b5db1bd591c4"
      },
      "execution_count": null,
      "outputs": [
        {
          "output_type": "stream",
          "name": "stdout",
          "text": [
            "{('S1', 'S1'): 0.5,\n",
            " ('S1', 'S2'): 0.0,\n",
            " ('S1', 'S3'): 0.0,\n",
            " ('S1', 'S4'): 0.5,\n",
            " ('S1', 'S5'): 0.0,\n",
            " ('S2', 'S1'): 0.0,\n",
            " ('S2', 'S2'): 0.5,\n",
            " ('S2', 'S3'): 0.0,\n",
            " ('S2', 'S4'): 0.5,\n",
            " ('S2', 'S5'): 0.0,\n",
            " ('S3', 'S1'): 0.25,\n",
            " ('S3', 'S2'): 0.0,\n",
            " ('S3', 'S3'): 0.25,\n",
            " ('S3', 'S4'): 0.25,\n",
            " ('S3', 'S5'): 0.25,\n",
            " ('S4', 'S1'): 0.0,\n",
            " ('S4', 'S2'): 0.0,\n",
            " ('S4', 'S3'): 0.67,\n",
            " ('S4', 'S4'): 0.33,\n",
            " ('S4', 'S5'): 0.0,\n",
            " ('S5', 'S1'): 0.0,\n",
            " ('S5', 'S2'): 0.5,\n",
            " ('S5', 'S3'): 0.5,\n",
            " ('S5', 'S4'): 0.0,\n",
            " ('S5', 'S5'): 0.0}\n",
            "{('S1', 'O1'): 0.0,\n",
            " ('S1', 'O2'): 0.5,\n",
            " ('S1', 'O3'): 0.0,\n",
            " ('S1', 'O4'): 0.0,\n",
            " ('S1', 'O5'): 0.5,\n",
            " ('S2', 'O1'): 0.0,\n",
            " ('S2', 'O2'): 0.0,\n",
            " ('S2', 'O3'): 0.5,\n",
            " ('S2', 'O4'): 0.0,\n",
            " ('S2', 'O5'): 0.5,\n",
            " ('S3', 'O1'): 0.0,\n",
            " ('S3', 'O2'): 0.0,\n",
            " ('S3', 'O3'): 0.5,\n",
            " ('S3', 'O4'): 0.5,\n",
            " ('S3', 'O5'): 0.0,\n",
            " ('S4', 'O1'): 0.5,\n",
            " ('S4', 'O2'): 0.0,\n",
            " ('S4', 'O3'): 0.0,\n",
            " ('S4', 'O4'): 0.25,\n",
            " ('S4', 'O5'): 0.25,\n",
            " ('S5', 'O1'): 0.5,\n",
            " ('S5', 'O2'): 0.5,\n",
            " ('S5', 'O3'): 0.0,\n",
            " ('S5', 'O4'): 0.0,\n",
            " ('S5', 'O5'): 0.0}\n"
          ]
        }
      ]
    },
    {
      "cell_type": "code",
      "source": [
        "# create graph object\n",
        "G = nx.MultiDiGraph()\n",
        "\n",
        "# nodes correspond to states\n",
        "G.add_nodes_from(hidden_states)\n",
        "print(f'Nodes:\\n{G.nodes()}\\n')\n",
        "\n",
        "# edges represent hidden probabilities\n",
        "for k, v in hide_edges_wts.items():\n",
        "    tmp_origin, tmp_destination = k[0], k[1]\n",
        "    G.add_edge(tmp_origin, tmp_destination, weight=v, label=v)\n",
        "\n",
        "# edges represent emission probabilities\n",
        "for k, v in emit_edges_wts.items():\n",
        "    tmp_origin, tmp_destination = k[0], k[1]\n",
        "    G.add_edge(tmp_origin, tmp_destination, weight=v, label=v)\n",
        "    \n",
        "print(f'Edges:')\n",
        "pprint(G.edges(data=True))    \n",
        "\n",
        "pos = nx.drawing.nx_pydot.graphviz_layout(G, prog='neato')\n",
        "nx.draw_networkx(G, pos)\n",
        "\n",
        "# create edge labels for jupyter plot but is not necessary\n",
        "emit_edge_labels = {(n1,n2):d['label'] for n1,n2,d in G.edges(data=True)}\n",
        "nx.draw_networkx_edge_labels(G , pos, edge_labels=emit_edge_labels)\n",
        "nx.drawing.nx_pydot.write_dot(G, 'pet_dog_hidden_markov.dot')"
      ],
      "metadata": {
        "colab": {
          "base_uri": "https://localhost:8080/",
          "height": 437
        },
        "id": "wphsQUVXTCik",
        "outputId": "091e0ce1-a8c5-4c43-96f5-2cf09d77e5af"
      },
      "execution_count": null,
      "outputs": [
        {
          "output_type": "stream",
          "name": "stdout",
          "text": [
            "Nodes:\n",
            "['S1', 'S2', 'S3', 'S4', 'S5']\n",
            "\n",
            "Edges:\n",
            "OutMultiEdgeDataView([('S1', 'S1', {'weight': 0.5, 'label': 0.5}), ('S1', 'S2', {'weight': 0.0, 'label': 0.0}), ('S1', 'S3', {'weight': 0.0, 'label': 0.0}), ('S1', 'S4', {'weight': 0.5, 'label': 0.5}), ('S1', 'S5', {'weight': 0.0, 'label': 0.0}), ('S1', 'O1', {'weight': 0.0, 'label': 0.0}), ('S1', 'O2', {'weight': 0.5, 'label': 0.5}), ('S1', 'O3', {'weight': 0.0, 'label': 0.0}), ('S1', 'O4', {'weight': 0.0, 'label': 0.0}), ('S1', 'O5', {'weight': 0.5, 'label': 0.5}), ('S2', 'S1', {'weight': 0.0, 'label': 0.0}), ('S2', 'S2', {'weight': 0.5, 'label': 0.5}), ('S2', 'S3', {'weight': 0.0, 'label': 0.0}), ('S2', 'S4', {'weight': 0.5, 'label': 0.5}), ('S2', 'S5', {'weight': 0.0, 'label': 0.0}), ('S2', 'O1', {'weight': 0.0, 'label': 0.0}), ('S2', 'O2', {'weight': 0.0, 'label': 0.0}), ('S2', 'O3', {'weight': 0.5, 'label': 0.5}), ('S2', 'O4', {'weight': 0.0, 'label': 0.0}), ('S2', 'O5', {'weight': 0.5, 'label': 0.5}), ('S3', 'S1', {'weight': 0.25, 'label': 0.25}), ('S3', 'S2', {'weight': 0.0, 'label': 0.0}), ('S3', 'S3', {'weight': 0.25, 'label': 0.25}), ('S3', 'S4', {'weight': 0.25, 'label': 0.25}), ('S3', 'S5', {'weight': 0.25, 'label': 0.25}), ('S3', 'O1', {'weight': 0.0, 'label': 0.0}), ('S3', 'O2', {'weight': 0.0, 'label': 0.0}), ('S3', 'O3', {'weight': 0.5, 'label': 0.5}), ('S3', 'O4', {'weight': 0.5, 'label': 0.5}), ('S3', 'O5', {'weight': 0.0, 'label': 0.0}), ('S4', 'S1', {'weight': 0.0, 'label': 0.0}), ('S4', 'S2', {'weight': 0.0, 'label': 0.0}), ('S4', 'S3', {'weight': 0.67, 'label': 0.67}), ('S4', 'S4', {'weight': 0.33, 'label': 0.33}), ('S4', 'S5', {'weight': 0.0, 'label': 0.0}), ('S4', 'O1', {'weight': 0.5, 'label': 0.5}), ('S4', 'O2', {'weight': 0.0, 'label': 0.0}), ('S4', 'O3', {'weight': 0.0, 'label': 0.0}), ('S4', 'O4', {'weight': 0.25, 'label': 0.25}), ('S4', 'O5', {'weight': 0.25, 'label': 0.25}), ('S5', 'S1', {'weight': 0.0, 'label': 0.0}), ('S5', 'S2', {'weight': 0.5, 'label': 0.5}), ('S5', 'S3', {'weight': 0.5, 'label': 0.5}), ('S5', 'S4', {'weight': 0.0, 'label': 0.0}), ('S5', 'S5', {'weight': 0.0, 'label': 0.0}), ('S5', 'O1', {'weight': 0.5, 'label': 0.5}), ('S5', 'O2', {'weight': 0.5, 'label': 0.5}), ('S5', 'O3', {'weight': 0.0, 'label': 0.0}), ('S5', 'O4', {'weight': 0.0, 'label': 0.0}), ('S5', 'O5', {'weight': 0.0, 'label': 0.0})])\n"
          ]
        },
        {
          "output_type": "display_data",
          "data": {
            "image/png": "[encoded data removed]",
            "text/plain": [
              "<Figure size 576x396 with 1 Axes>"
            ]
          },
          "metadata": {}
        }
      ]
    },
    {
      "cell_type": "code",
      "source": [
        "def viterbi(pi, a, b, obs):\n",
        "    \n",
        "    nStates = np.shape(b)[0]\n",
        "    T = np.shape(obs)[0]\n",
        "    \n",
        "    # init blank path\n",
        "    path = np.zeros(T)\n",
        "    # delta --> highest probability of any path that reaches state i\n",
        "    delta = np.zeros((nStates, T))\n",
        "    # phi --> argmax by time step for each state\n",
        "    phi = np.zeros((nStates, T))\n",
        "    \n",
        "    # init delta and phi \n",
        "    delta[:, 0] = pi*b[:, obs[0]]\n",
        "    phi[:, 0] = 0\n",
        "\n",
        "    print('\\nStart Walk Forward\\n')    \n",
        "    # the forward algorithm extension\n",
        "    for t in range(1, T):\n",
        "        for s in range(nStates):\n",
        "            delta[s, t] = np.max(delta[:, t-1] * a[:, s]) * b[s, obs[t]] \n",
        "            phi[s, t] = np.argmax(delta[:, t-1] * a[:, s])\n",
        "            print('s={s} and t={t}: phi[{s}, {t}] = {phi}'.format(s=s, t=t, phi=phi[s, t]))\n",
        "    \n",
        "    # find optimal path\n",
        "    print('-'*50)\n",
        "    print('Start Backtrace\\n')\n",
        "    path[T-1] = np.argmax(delta[:, T-1])\n",
        "    #p('init path\\n    t={} path[{}-1]={}\\n'.format(T-1, T, path[T-1]))\n",
        "    for t in range(T-2, -1, -1):\n",
        "        #path[t] = phi[path[t+1], [t+1]]\n",
        "        path[t] = phi[int(path[t+1]) , int(t+1)] \n",
        "        #p(' '*4 + 't={t}, path[{t}+1]={path}, [{t}+1]={i}'.format(t=t, path=path[t+1], i=[t+1]))\n",
        "        print('path[{}] = {}'.format(t, path[t]))\n",
        "        \n",
        "    return path, delta, phi\n",
        "\n",
        "path, delta, phi = viterbi(pi, a, b, obs)\n",
        "print('\\nsingle best state path: \\n', path)\n",
        "print('delta:\\n', delta)\n",
        "print('phi:\\n', phi)"
      ],
      "metadata": {
        "colab": {
          "base_uri": "https://localhost:8080/"
        },
        "id": "GIRTexWFmKus",
        "outputId": "64eeaa7e-2015-4843-e411-274aeb1fe154"
      },
      "execution_count": null,
      "outputs": [
        {
          "output_type": "stream",
          "name": "stdout",
          "text": [
            "\n",
            "Start Walk Forward\n",
            "\n",
            "s=0 and t=1: phi[0, 1] = 0.0\n",
            "s=1 and t=1: phi[1, 1] = 4.0\n",
            "s=2 and t=1: phi[2, 1] = 4.0\n",
            "s=3 and t=1: phi[3, 1] = 0.0\n",
            "s=4 and t=1: phi[4, 1] = 0.0\n",
            "s=0 and t=2: phi[0, 2] = 0.0\n",
            "s=1 and t=2: phi[1, 2] = 1.0\n",
            "s=2 and t=2: phi[2, 2] = 3.0\n",
            "s=3 and t=2: phi[3, 2] = 0.0\n",
            "s=4 and t=2: phi[4, 2] = 0.0\n",
            "s=0 and t=3: phi[0, 3] = 2.0\n",
            "s=1 and t=3: phi[1, 3] = 1.0\n",
            "s=2 and t=3: phi[2, 3] = 2.0\n",
            "s=3 and t=3: phi[3, 3] = 1.0\n",
            "s=4 and t=3: phi[4, 3] = 2.0\n",
            "s=0 and t=4: phi[0, 4] = 0.0\n",
            "s=1 and t=4: phi[1, 4] = 4.0\n",
            "s=2 and t=4: phi[2, 4] = 3.0\n",
            "s=3 and t=4: phi[3, 4] = 3.0\n",
            "s=4 and t=4: phi[4, 4] = 0.0\n",
            "s=0 and t=5: phi[0, 5] = 0.0\n",
            "s=1 and t=5: phi[1, 5] = 1.0\n",
            "s=2 and t=5: phi[2, 5] = 3.0\n",
            "s=3 and t=5: phi[3, 5] = 1.0\n",
            "s=4 and t=5: phi[4, 5] = 0.0\n",
            "s=0 and t=6: phi[0, 6] = 2.0\n",
            "s=1 and t=6: phi[1, 6] = 1.0\n",
            "s=2 and t=6: phi[2, 6] = 2.0\n",
            "s=3 and t=6: phi[3, 6] = 1.0\n",
            "s=4 and t=6: phi[4, 6] = 2.0\n",
            "s=0 and t=7: phi[0, 7] = 0.0\n",
            "s=1 and t=7: phi[1, 7] = 4.0\n",
            "s=2 and t=7: phi[2, 7] = 3.0\n",
            "s=3 and t=7: phi[3, 7] = 3.0\n",
            "s=4 and t=7: phi[4, 7] = 0.0\n",
            "s=0 and t=8: phi[0, 8] = 2.0\n",
            "s=1 and t=8: phi[1, 8] = 0.0\n",
            "s=2 and t=8: phi[2, 8] = 2.0\n",
            "s=3 and t=8: phi[3, 8] = 2.0\n",
            "s=4 and t=8: phi[4, 8] = 2.0\n",
            "s=0 and t=9: phi[0, 9] = 2.0\n",
            "s=1 and t=9: phi[1, 9] = 0.0\n",
            "s=2 and t=9: phi[2, 9] = 3.0\n",
            "s=3 and t=9: phi[3, 9] = 2.0\n",
            "s=4 and t=9: phi[4, 9] = 2.0\n",
            "s=0 and t=10: phi[0, 10] = 0.0\n",
            "s=1 and t=10: phi[1, 10] = 4.0\n",
            "s=2 and t=10: phi[2, 10] = 3.0\n",
            "s=3 and t=10: phi[3, 10] = 3.0\n",
            "s=4 and t=10: phi[4, 10] = 0.0\n",
            "s=0 and t=11: phi[0, 11] = 2.0\n",
            "s=1 and t=11: phi[1, 11] = 1.0\n",
            "s=2 and t=11: phi[2, 11] = 2.0\n",
            "s=3 and t=11: phi[3, 11] = 1.0\n",
            "s=4 and t=11: phi[4, 11] = 2.0\n",
            "s=0 and t=12: phi[0, 12] = 0.0\n",
            "s=1 and t=12: phi[1, 12] = 1.0\n",
            "s=2 and t=12: phi[2, 12] = 3.0\n",
            "s=3 and t=12: phi[3, 12] = 1.0\n",
            "s=4 and t=12: phi[4, 12] = 0.0\n",
            "s=0 and t=13: phi[0, 13] = 0.0\n",
            "s=1 and t=13: phi[1, 13] = 0.0\n",
            "s=2 and t=13: phi[2, 13] = 0.0\n",
            "s=3 and t=13: phi[3, 13] = 0.0\n",
            "s=4 and t=13: phi[4, 13] = 0.0\n",
            "--------------------------------------------------\n",
            "Start Backtrace\n",
            "\n",
            "path[12] = 0.0\n",
            "path[11] = 0.0\n",
            "path[10] = 2.0\n",
            "path[9] = 3.0\n",
            "path[8] = 2.0\n",
            "path[7] = 2.0\n",
            "path[6] = 3.0\n",
            "path[5] = 1.0\n",
            "path[4] = 1.0\n",
            "path[3] = 4.0\n",
            "path[2] = 2.0\n",
            "path[1] = 3.0\n",
            "path[0] = 0.0\n",
            "\n",
            "single best state path: \n",
            " [0. 3. 2. 4. 1. 1. 3. 2. 2. 3. 2. 0. 0. 3.]\n",
            "delta:\n",
            " [[7.14285714e-02 1.78571429e-02 0.00000000e+00 0.00000000e+00\n",
            "  0.00000000e+00 0.00000000e+00 0.00000000e+00 0.00000000e+00\n",
            "  0.00000000e+00 0.00000000e+00 0.00000000e+00 1.28049084e-09\n",
            "  3.20122710e-10 0.00000000e+00]\n",
            " [0.00000000e+00 1.78571429e-02 4.46428571e-03 0.00000000e+00\n",
            "  9.34709821e-05 2.33677455e-05 0.00000000e+00 0.00000000e+00\n",
            "  0.00000000e+00 0.00000000e+00 7.64472144e-09 1.91118036e-09\n",
            "  0.00000000e+00 0.00000000e+00]\n",
            " [0.00000000e+00 0.00000000e+00 2.99107143e-03 0.00000000e+00\n",
            "  0.00000000e+00 3.08454241e-05 0.00000000e+00 1.95704869e-06\n",
            "  2.44631086e-07 0.00000000e+00 1.02439267e-08 0.00000000e+00\n",
            "  0.00000000e+00 0.00000000e+00]\n",
            " [0.00000000e+00 8.92857143e-03 0.00000000e+00 1.11607143e-03\n",
            "  9.20758929e-05 0.00000000e+00 5.84193638e-06 4.81959752e-07\n",
            "  1.22315543e-07 3.05788858e-08 0.00000000e+00 9.55590180e-10\n",
            "  0.00000000e+00 4.00153388e-11]\n",
            " [7.14285714e-02 0.00000000e+00 0.00000000e+00 3.73883929e-04\n",
            "  0.00000000e+00 0.00000000e+00 3.85567801e-06 0.00000000e+00\n",
            "  0.00000000e+00 3.05788858e-08 0.00000000e+00 0.00000000e+00\n",
            "  0.00000000e+00 0.00000000e+00]]\n",
            "phi:\n",
            " [[0. 0. 0. 2. 0. 0. 2. 0. 2. 2. 0. 2. 0. 0.]\n",
            " [0. 4. 1. 1. 4. 1. 1. 4. 0. 0. 4. 1. 1. 0.]\n",
            " [0. 4. 3. 2. 3. 3. 2. 3. 2. 3. 3. 2. 3. 0.]\n",
            " [0. 0. 0. 1. 3. 1. 1. 3. 2. 2. 3. 1. 1. 0.]\n",
            " [0. 0. 0. 2. 0. 0. 2. 0. 2. 2. 0. 2. 0. 0.]]\n"
          ]
        }
      ]
    },
    {
      "cell_type": "code",
      "source": [
        "state_map = {0:'S1', 1:'S2', 2:'S3', 3:'S4', 4:'S5'}\n",
        "state_path = [state_map[v] for v in path]\n",
        "\n",
        "(pd.DataFrame()\n",
        " .assign(Observation=obs_seq)\n",
        " .assign(Best_Path=state_path))"
      ],
      "metadata": {
        "id": "3YMMtZqP_jtk",
        "colab": {
          "base_uri": "https://localhost:8080/",
          "height": 488
        },
        "outputId": "1c152b48-f06d-470c-ac73-3ed6d29d27c4"
      },
      "execution_count": null,
      "outputs": [
        {
          "output_type": "execute_result",
          "data": {
            "text/html": [
              "\n",
              "  <div id=\"df-6b20dd06-62ab-4fcd-ab24-626278900109\">\n",
              "    <div class=\"colab-df-container\">\n",
              "      <div>\n",
              "<style scoped>\n",
              "    .dataframe tbody tr th:only-of-type {\n",
              "        vertical-align: middle;\n",
              "    }\n",
              "\n",
              "    .dataframe tbody tr th {\n",
              "        vertical-align: top;\n",
              "    }\n",
              "\n",
              "    .dataframe thead th {\n",
              "        text-align: right;\n",
              "    }\n",
              "</style>\n",
              "<table border=\"1\" class=\"dataframe\">\n",
              "  <thead>\n",
              "    <tr style=\"text-align: right;\">\n",
              "      <th></th>\n",
              "      <th>Observation</th>\n",
              "      <th>Best_Path</th>\n",
              "    </tr>\n",
              "  </thead>\n",
              "  <tbody>\n",
              "    <tr>\n",
              "      <th>0</th>\n",
              "      <td>O2</td>\n",
              "      <td>S1</td>\n",
              "    </tr>\n",
              "    <tr>\n",
              "      <th>1</th>\n",
              "      <td>O5</td>\n",
              "      <td>S4</td>\n",
              "    </tr>\n",
              "    <tr>\n",
              "      <th>2</th>\n",
              "      <td>O3</td>\n",
              "      <td>S3</td>\n",
              "    </tr>\n",
              "    <tr>\n",
              "      <th>3</th>\n",
              "      <td>O1</td>\n",
              "      <td>S5</td>\n",
              "    </tr>\n",
              "    <tr>\n",
              "      <th>4</th>\n",
              "      <td>O5</td>\n",
              "      <td>S2</td>\n",
              "    </tr>\n",
              "    <tr>\n",
              "      <th>5</th>\n",
              "      <td>O3</td>\n",
              "      <td>S2</td>\n",
              "    </tr>\n",
              "    <tr>\n",
              "      <th>6</th>\n",
              "      <td>O1</td>\n",
              "      <td>S4</td>\n",
              "    </tr>\n",
              "    <tr>\n",
              "      <th>7</th>\n",
              "      <td>O4</td>\n",
              "      <td>S3</td>\n",
              "    </tr>\n",
              "    <tr>\n",
              "      <th>8</th>\n",
              "      <td>O4</td>\n",
              "      <td>S3</td>\n",
              "    </tr>\n",
              "    <tr>\n",
              "      <th>9</th>\n",
              "      <td>O1</td>\n",
              "      <td>S4</td>\n",
              "    </tr>\n",
              "    <tr>\n",
              "      <th>10</th>\n",
              "      <td>O3</td>\n",
              "      <td>S3</td>\n",
              "    </tr>\n",
              "    <tr>\n",
              "      <th>11</th>\n",
              "      <td>O5</td>\n",
              "      <td>S1</td>\n",
              "    </tr>\n",
              "    <tr>\n",
              "      <th>12</th>\n",
              "      <td>O2</td>\n",
              "      <td>S1</td>\n",
              "    </tr>\n",
              "    <tr>\n",
              "      <th>13</th>\n",
              "      <td>O4</td>\n",
              "      <td>S4</td>\n",
              "    </tr>\n",
              "  </tbody>\n",
              "</table>\n",
              "</div>\n",
              "      <button class=\"colab-df-convert\" onclick=\"convertToInteractive('df-6b20dd06-62ab-4fcd-ab24-626278900109')\"\n",
              "              title=\"Convert this dataframe to an interactive table.\"\n",
              "              style=\"display:none;\">\n",
              "        \n",
              "  <svg xmlns=\"http://www.w3.org/2000/svg\" height=\"24px\"viewBox=\"0 0 24 24\"\n",
              "       width=\"24px\">\n",
              "    <path d=\"M0 0h24v24H0V0z\" fill=\"none\"/>\n",
              "    <path d=\"M18.56 5.44l.94 2.06.94-2.06 2.06-.94-2.06-.94-.94-2.06-.94 2.06-2.06.94zm-11 1L8.5 8.5l.94-2.06 2.06-.94-2.06-.94L8.5 2.5l-.94 2.06-2.06.94zm10 10l.94 2.06.94-2.06 2.06-.94-2.06-.94-.94-2.06-.94 2.06-2.06.94z\"/><path d=\"M17.41 7.96l-1.37-1.37c-.4-.4-.92-.59-1.43-.59-.52 0-1.04.2-1.43.59L10.3 9.45l-7.72 7.72c-.78.78-.78 2.05 0 2.83L4 21.41c.39.39.9.59 1.41.59.51 0 1.02-.2 1.41-.59l7.78-7.78 2.81-2.81c.8-.78.8-2.07 0-2.86zM5.41 20L4 18.59l7.72-7.72 1.47 1.35L5.41 20z\"/>\n",
              "  </svg>\n",
              "      </button>\n",
              "      \n",
              "  <style>\n",
              "    .colab-df-container {\n",
              "      display:flex;\n",
              "      flex-wrap:wrap;\n",
              "      gap: 12px;\n",
              "    }\n",
              "\n",
              "    .colab-df-convert {\n",
              "      background-color: #E8F0FE;\n",
              "      border: none;\n",
              "      border-radius: 50%;\n",
              "      cursor: pointer;\n",
              "      display: none;\n",
              "      fill: #1967D2;\n",
              "      height: 32px;\n",
              "      padding: 0 0 0 0;\n",
              "      width: 32px;\n",
              "    }\n",
              "\n",
              "    .colab-df-convert:hover {\n",
              "      background-color: #E2EBFA;\n",
              "      box-shadow: 0px 1px 2px rgba(60, 64, 67, 0.3), 0px 1px 3px 1px rgba(60, 64, 67, 0.15);\n",
              "      fill: #174EA6;\n",
              "    }\n",
              "\n",
              "    [theme=dark] .colab-df-convert {\n",
              "      background-color: #3B4455;\n",
              "      fill: #D2E3FC;\n",
              "    }\n",
              "\n",
              "    [theme=dark] .colab-df-convert:hover {\n",
              "      background-color: #434B5C;\n",
              "      box-shadow: 0px 1px 3px 1px rgba(0, 0, 0, 0.15);\n",
              "      filter: drop-shadow(0px 1px 2px rgba(0, 0, 0, 0.3));\n",
              "      fill: #FFFFFF;\n",
              "    }\n",
              "  </style>\n",
              "\n",
              "      <script>\n",
              "        const buttonEl =\n",
              "          document.querySelector('#df-6b20dd06-62ab-4fcd-ab24-626278900109 button.colab-df-convert');\n",
              "        buttonEl.style.display =\n",
              "          google.colab.kernel.accessAllowed ? 'block' : 'none';\n",
              "\n",
              "        async function convertToInteractive(key) {\n",
              "          const element = document.querySelector('#df-6b20dd06-62ab-4fcd-ab24-626278900109');\n",
              "          const dataTable =\n",
              "            await google.colab.kernel.invokeFunction('convertToInteractive',\n",
              "                                                     [key], {});\n",
              "          if (!dataTable) return;\n",
              "\n",
              "          const docLinkHtml = 'Like what you see? Visit the ' +\n",
              "            '<a target=\"_blank\" href=https://colab.research.google.com/notebooks/data_table.ipynb>data table notebook</a>'\n",
              "            + ' to learn more about interactive tables.';\n",
              "          element.innerHTML = '';\n",
              "          dataTable['output_type'] = 'display_data';\n",
              "          await google.colab.output.renderOutput(dataTable, element);\n",
              "          const docLink = document.createElement('div');\n",
              "          docLink.innerHTML = docLinkHtml;\n",
              "          element.appendChild(docLink);\n",
              "        }\n",
              "      </script>\n",
              "    </div>\n",
              "  </div>\n",
              "  "
            ],
            "text/plain": [
              "   Observation Best_Path\n",
              "0           O2        S1\n",
              "1           O5        S4\n",
              "2           O3        S3\n",
              "3           O1        S5\n",
              "4           O5        S2\n",
              "5           O3        S2\n",
              "6           O1        S4\n",
              "7           O4        S3\n",
              "8           O4        S3\n",
              "9           O1        S4\n",
              "10          O3        S3\n",
              "11          O5        S1\n",
              "12          O2        S1\n",
              "13          O4        S4"
            ]
          },
          "metadata": {},
          "execution_count": 331
        }
      ]
    },
    {
      "cell_type": "markdown",
      "source": [
        "# TEMPERATUR"
      ],
      "metadata": {
        "id": "kJM3QcoQQY8q"
      }
    },
    {
      "cell_type": "code",
      "source": [
        "X = db['Temperatur']\n",
        "Y = db['Wisatawan']\n",
        "S = np.zeros(14)\n",
        "for i in range (0,14):\n",
        "  S[i] = X[i+1]-X[i]\n",
        "print(S)"
      ],
      "metadata": {
        "id": "sHXOQbwAXXny",
        "colab": {
          "base_uri": "https://localhost:8080/"
        },
        "outputId": "2c1f1ef8-3c26-4732-9cad-753fa3071f66"
      },
      "execution_count": null,
      "outputs": [
        {
          "output_type": "stream",
          "name": "stdout",
          "text": [
            "[-1.03  0.54 -0.65 -7.75  7.35  0.75 -1.21  1.02  0.38 -1.81  1.59  0.56\n",
            " -1.15  0.68]\n"
          ]
        }
      ]
    },
    {
      "cell_type": "code",
      "source": [
        "Z = np.zeros(14)\n",
        "for i in range (0,14):\n",
        "  Z[i] = Y[i+1] - Y[i]\n",
        "print(Z)"
      ],
      "metadata": {
        "id": "GyA1VXu3XcmR",
        "colab": {
          "base_uri": "https://localhost:8080/"
        },
        "outputId": "7d415c54-907a-488d-bbbe-e5b4a6a7424a"
      },
      "execution_count": null,
      "outputs": [
        {
          "output_type": "stream",
          "name": "stdout",
          "text": [
            "[ 1250722.  -524493.  -445158.   483562.   258567.  -306359.   576299.\n",
            "  -211859.  -234271.   735996.  -134712. -1327158. -1519192.   604404.]\n"
          ]
        }
      ]
    },
    {
      "cell_type": "code",
      "source": [
        "#interval Wisatawan\n",
        "\n",
        "for var in Z :\n",
        "  if var > -1519193 and var <= -965210:\n",
        "    print ('S1')\n",
        "  elif var > -965210 and var <= -411227:\n",
        "    print ('S2')\n",
        "  elif var > -411227 and var <= 142756:\n",
        "    print ('S3')\n",
        "  elif var > 142756 and var <= 696739:\n",
        "    print ('S4')\n",
        "  elif var > 696739 and var <= 1250722:\n",
        "    print ('S5')\n",
        "  else :\n",
        "    print ('not valid')"
      ],
      "metadata": {
        "id": "s1sBD6AzXpnw",
        "colab": {
          "base_uri": "https://localhost:8080/"
        },
        "outputId": "51dae553-cbb4-46c1-f77e-c2b3976dab97"
      },
      "execution_count": null,
      "outputs": [
        {
          "output_type": "stream",
          "name": "stdout",
          "text": [
            "S5\n",
            "S2\n",
            "S2\n",
            "S4\n",
            "S4\n",
            "S3\n",
            "S4\n",
            "S3\n",
            "S3\n",
            "S5\n",
            "S3\n",
            "S1\n",
            "S1\n",
            "S4\n"
          ]
        }
      ]
    },
    {
      "cell_type": "code",
      "source": [
        " import pandas as pd\n",
        "transitions = [ 'S5','S2','S2','S4','S4','S3','S4','S3','S3','S5','S3',\n",
        "               'S1','S1','S4'] * 2"
      ],
      "metadata": {
        "id": "p8UH-38DX5c2"
      },
      "execution_count": null,
      "outputs": []
    },
    {
      "cell_type": "code",
      "source": [
        "df = pd.DataFrame (columns = [ 'state', 'next_state'])\n",
        "for i , val in enumerate(transitions[ : -1 ] ) :\n",
        "  df_stg = pd.DataFrame ( index =[0] )\n",
        "  df_stg [ 'state' ], df_stg [ 'next_state'] = transitions [i] ,transitions [i+1]\n",
        "\n",
        "df = pd.concat ([ df, df_stg ] , axis = 0 )\n",
        "cross_tab = pd.crosstab( df['state'] , df['next_state'])\n",
        "cross_tab.div ( cross_tab.sum(axis=1) , axis=0)"
      ],
      "metadata": {
        "id": "LHEn2BxiX_52",
        "colab": {
          "base_uri": "https://localhost:8080/",
          "height": 112
        },
        "outputId": "1fc6c8e6-0a29-4513-b87d-125ceed7a4e0"
      },
      "execution_count": null,
      "outputs": [
        {
          "output_type": "execute_result",
          "data": {
            "text/html": [
              "\n",
              "  <div id=\"df-aab0bd50-7e7c-4935-8c80-411c45f295e0\">\n",
              "    <div class=\"colab-df-container\">\n",
              "      <div>\n",
              "<style scoped>\n",
              "    .dataframe tbody tr th:only-of-type {\n",
              "        vertical-align: middle;\n",
              "    }\n",
              "\n",
              "    .dataframe tbody tr th {\n",
              "        vertical-align: top;\n",
              "    }\n",
              "\n",
              "    .dataframe thead th {\n",
              "        text-align: right;\n",
              "    }\n",
              "</style>\n",
              "<table border=\"1\" class=\"dataframe\">\n",
              "  <thead>\n",
              "    <tr style=\"text-align: right;\">\n",
              "      <th>next_state</th>\n",
              "      <th>S4</th>\n",
              "    </tr>\n",
              "    <tr>\n",
              "      <th>state</th>\n",
              "      <th></th>\n",
              "    </tr>\n",
              "  </thead>\n",
              "  <tbody>\n",
              "    <tr>\n",
              "      <th>S1</th>\n",
              "      <td>1.0</td>\n",
              "    </tr>\n",
              "  </tbody>\n",
              "</table>\n",
              "</div>\n",
              "      <button class=\"colab-df-convert\" onclick=\"convertToInteractive('df-aab0bd50-7e7c-4935-8c80-411c45f295e0')\"\n",
              "              title=\"Convert this dataframe to an interactive table.\"\n",
              "              style=\"display:none;\">\n",
              "        \n",
              "  <svg xmlns=\"http://www.w3.org/2000/svg\" height=\"24px\"viewBox=\"0 0 24 24\"\n",
              "       width=\"24px\">\n",
              "    <path d=\"M0 0h24v24H0V0z\" fill=\"none\"/>\n",
              "    <path d=\"M18.56 5.44l.94 2.06.94-2.06 2.06-.94-2.06-.94-.94-2.06-.94 2.06-2.06.94zm-11 1L8.5 8.5l.94-2.06 2.06-.94-2.06-.94L8.5 2.5l-.94 2.06-2.06.94zm10 10l.94 2.06.94-2.06 2.06-.94-2.06-.94-.94-2.06-.94 2.06-2.06.94z\"/><path d=\"M17.41 7.96l-1.37-1.37c-.4-.4-.92-.59-1.43-.59-.52 0-1.04.2-1.43.59L10.3 9.45l-7.72 7.72c-.78.78-.78 2.05 0 2.83L4 21.41c.39.39.9.59 1.41.59.51 0 1.02-.2 1.41-.59l7.78-7.78 2.81-2.81c.8-.78.8-2.07 0-2.86zM5.41 20L4 18.59l7.72-7.72 1.47 1.35L5.41 20z\"/>\n",
              "  </svg>\n",
              "      </button>\n",
              "      \n",
              "  <style>\n",
              "    .colab-df-container {\n",
              "      display:flex;\n",
              "      flex-wrap:wrap;\n",
              "      gap: 12px;\n",
              "    }\n",
              "\n",
              "    .colab-df-convert {\n",
              "      background-color: #E8F0FE;\n",
              "      border: none;\n",
              "      border-radius: 50%;\n",
              "      cursor: pointer;\n",
              "      display: none;\n",
              "      fill: #1967D2;\n",
              "      height: 32px;\n",
              "      padding: 0 0 0 0;\n",
              "      width: 32px;\n",
              "    }\n",
              "\n",
              "    .colab-df-convert:hover {\n",
              "      background-color: #E2EBFA;\n",
              "      box-shadow: 0px 1px 2px rgba(60, 64, 67, 0.3), 0px 1px 3px 1px rgba(60, 64, 67, 0.15);\n",
              "      fill: #174EA6;\n",
              "    }\n",
              "\n",
              "    [theme=dark] .colab-df-convert {\n",
              "      background-color: #3B4455;\n",
              "      fill: #D2E3FC;\n",
              "    }\n",
              "\n",
              "    [theme=dark] .colab-df-convert:hover {\n",
              "      background-color: #434B5C;\n",
              "      box-shadow: 0px 1px 3px 1px rgba(0, 0, 0, 0.15);\n",
              "      filter: drop-shadow(0px 1px 2px rgba(0, 0, 0, 0.3));\n",
              "      fill: #FFFFFF;\n",
              "    }\n",
              "  </style>\n",
              "\n",
              "      <script>\n",
              "        const buttonEl =\n",
              "          document.querySelector('#df-aab0bd50-7e7c-4935-8c80-411c45f295e0 button.colab-df-convert');\n",
              "        buttonEl.style.display =\n",
              "          google.colab.kernel.accessAllowed ? 'block' : 'none';\n",
              "\n",
              "        async function convertToInteractive(key) {\n",
              "          const element = document.querySelector('#df-aab0bd50-7e7c-4935-8c80-411c45f295e0');\n",
              "          const dataTable =\n",
              "            await google.colab.kernel.invokeFunction('convertToInteractive',\n",
              "                                                     [key], {});\n",
              "          if (!dataTable) return;\n",
              "\n",
              "          const docLinkHtml = 'Like what you see? Visit the ' +\n",
              "            '<a target=\"_blank\" href=https://colab.research.google.com/notebooks/data_table.ipynb>data table notebook</a>'\n",
              "            + ' to learn more about interactive tables.';\n",
              "          element.innerHTML = '';\n",
              "          dataTable['output_type'] = 'display_data';\n",
              "          await google.colab.output.renderOutput(dataTable, element);\n",
              "          const docLink = document.createElement('div');\n",
              "          docLink.innerHTML = docLinkHtml;\n",
              "          element.appendChild(docLink);\n",
              "        }\n",
              "      </script>\n",
              "    </div>\n",
              "  </div>\n",
              "  "
            ],
            "text/plain": [
              "next_state   S4\n",
              "state          \n",
              "S1          1.0"
            ]
          },
          "metadata": {},
          "execution_count": 336
        }
      ]
    },
    {
      "cell_type": "code",
      "source": [
        "for var in S :\n",
        "  if var > -7.8 and var <= -4.7:\n",
        "    print ( 'O1')\n",
        "  elif var > -4.7 and var <= -1.6 :\n",
        "    print ( 'O2' )\n",
        "  elif var > -1.6 and var <= 1.5:\n",
        "    print ( 'O3' )\n",
        "  elif var > 1.5 and var <= 4.6:\n",
        "    print ( 'O4' )\n",
        "  elif var > 4.6 and var <= 7.7:\n",
        "    print ( 'O5' )\n",
        "  else :\n",
        "    print ( 'not valid ' )"
      ],
      "metadata": {
        "id": "wQ0tzNd9YFXh",
        "colab": {
          "base_uri": "https://localhost:8080/"
        },
        "outputId": "595e910c-fd41-4e5c-8e03-da73c71e07ea"
      },
      "execution_count": null,
      "outputs": [
        {
          "output_type": "stream",
          "name": "stdout",
          "text": [
            "O3\n",
            "O3\n",
            "O3\n",
            "O1\n",
            "O5\n",
            "O3\n",
            "O3\n",
            "O3\n",
            "O3\n",
            "O2\n",
            "O4\n",
            "O3\n",
            "O3\n",
            "O3\n"
          ]
        }
      ]
    },
    {
      "cell_type": "code",
      "source": [
        "#probabilitas transisi variable terobservasi\n",
        "import pandas as pd\n",
        "transitions = ['O3','O3' , 'O3' , 'O1' , 'O5' , 'O3' , 'O3' , 'O3' ,\n",
        "'O3' , 'O2' , 'O4' , 'O3' , 'O3' , 'O3' ] * 2\n"
      ],
      "metadata": {
        "id": "rDYLR4fHYNRA"
      },
      "execution_count": null,
      "outputs": []
    },
    {
      "cell_type": "code",
      "source": [
        "df = pd.DataFrame (columns = [ 'state', 'next_state'])\n",
        "for i , val in enumerate(transitions[ : -1 ] ) :\n",
        "  df_stg = pd.DataFrame ( index =[0] )\n",
        "  df_stg [ 'state' ], df_stg [ 'next_state'] = transitions [i] ,transitions [i+1]\n",
        "\n",
        "df = pd.concat ([ df, df_stg ] , axis = 0 )\n",
        "cross_tab = pd.crosstab( df['state'] , df['next_state'])\n",
        "cross_tab.div ( cross_tab.sum(axis=1) , axis=0)"
      ],
      "metadata": {
        "id": "f8NjTF4HYUTI",
        "colab": {
          "base_uri": "https://localhost:8080/",
          "height": 112
        },
        "outputId": "6cf34352-1137-4891-b627-7e9d167e2bbb"
      },
      "execution_count": null,
      "outputs": [
        {
          "output_type": "execute_result",
          "data": {
            "text/html": [
              "\n",
              "  <div id=\"df-28dd7324-67fe-4fc9-a64e-0e3a2c841ff5\">\n",
              "    <div class=\"colab-df-container\">\n",
              "      <div>\n",
              "<style scoped>\n",
              "    .dataframe tbody tr th:only-of-type {\n",
              "        vertical-align: middle;\n",
              "    }\n",
              "\n",
              "    .dataframe tbody tr th {\n",
              "        vertical-align: top;\n",
              "    }\n",
              "\n",
              "    .dataframe thead th {\n",
              "        text-align: right;\n",
              "    }\n",
              "</style>\n",
              "<table border=\"1\" class=\"dataframe\">\n",
              "  <thead>\n",
              "    <tr style=\"text-align: right;\">\n",
              "      <th>next_state</th>\n",
              "      <th>O3</th>\n",
              "    </tr>\n",
              "    <tr>\n",
              "      <th>state</th>\n",
              "      <th></th>\n",
              "    </tr>\n",
              "  </thead>\n",
              "  <tbody>\n",
              "    <tr>\n",
              "      <th>O3</th>\n",
              "      <td>1.0</td>\n",
              "    </tr>\n",
              "  </tbody>\n",
              "</table>\n",
              "</div>\n",
              "      <button class=\"colab-df-convert\" onclick=\"convertToInteractive('df-28dd7324-67fe-4fc9-a64e-0e3a2c841ff5')\"\n",
              "              title=\"Convert this dataframe to an interactive table.\"\n",
              "              style=\"display:none;\">\n",
              "        \n",
              "  <svg xmlns=\"http://www.w3.org/2000/svg\" height=\"24px\"viewBox=\"0 0 24 24\"\n",
              "       width=\"24px\">\n",
              "    <path d=\"M0 0h24v24H0V0z\" fill=\"none\"/>\n",
              "    <path d=\"M18.56 5.44l.94 2.06.94-2.06 2.06-.94-2.06-.94-.94-2.06-.94 2.06-2.06.94zm-11 1L8.5 8.5l.94-2.06 2.06-.94-2.06-.94L8.5 2.5l-.94 2.06-2.06.94zm10 10l.94 2.06.94-2.06 2.06-.94-2.06-.94-.94-2.06-.94 2.06-2.06.94z\"/><path d=\"M17.41 7.96l-1.37-1.37c-.4-.4-.92-.59-1.43-.59-.52 0-1.04.2-1.43.59L10.3 9.45l-7.72 7.72c-.78.78-.78 2.05 0 2.83L4 21.41c.39.39.9.59 1.41.59.51 0 1.02-.2 1.41-.59l7.78-7.78 2.81-2.81c.8-.78.8-2.07 0-2.86zM5.41 20L4 18.59l7.72-7.72 1.47 1.35L5.41 20z\"/>\n",
              "  </svg>\n",
              "      </button>\n",
              "      \n",
              "  <style>\n",
              "    .colab-df-container {\n",
              "      display:flex;\n",
              "      flex-wrap:wrap;\n",
              "      gap: 12px;\n",
              "    }\n",
              "\n",
              "    .colab-df-convert {\n",
              "      background-color: #E8F0FE;\n",
              "      border: none;\n",
              "      border-radius: 50%;\n",
              "      cursor: pointer;\n",
              "      display: none;\n",
              "      fill: #1967D2;\n",
              "      height: 32px;\n",
              "      padding: 0 0 0 0;\n",
              "      width: 32px;\n",
              "    }\n",
              "\n",
              "    .colab-df-convert:hover {\n",
              "      background-color: #E2EBFA;\n",
              "      box-shadow: 0px 1px 2px rgba(60, 64, 67, 0.3), 0px 1px 3px 1px rgba(60, 64, 67, 0.15);\n",
              "      fill: #174EA6;\n",
              "    }\n",
              "\n",
              "    [theme=dark] .colab-df-convert {\n",
              "      background-color: #3B4455;\n",
              "      fill: #D2E3FC;\n",
              "    }\n",
              "\n",
              "    [theme=dark] .colab-df-convert:hover {\n",
              "      background-color: #434B5C;\n",
              "      box-shadow: 0px 1px 3px 1px rgba(0, 0, 0, 0.15);\n",
              "      filter: drop-shadow(0px 1px 2px rgba(0, 0, 0, 0.3));\n",
              "      fill: #FFFFFF;\n",
              "    }\n",
              "  </style>\n",
              "\n",
              "      <script>\n",
              "        const buttonEl =\n",
              "          document.querySelector('#df-28dd7324-67fe-4fc9-a64e-0e3a2c841ff5 button.colab-df-convert');\n",
              "        buttonEl.style.display =\n",
              "          google.colab.kernel.accessAllowed ? 'block' : 'none';\n",
              "\n",
              "        async function convertToInteractive(key) {\n",
              "          const element = document.querySelector('#df-28dd7324-67fe-4fc9-a64e-0e3a2c841ff5');\n",
              "          const dataTable =\n",
              "            await google.colab.kernel.invokeFunction('convertToInteractive',\n",
              "                                                     [key], {});\n",
              "          if (!dataTable) return;\n",
              "\n",
              "          const docLinkHtml = 'Like what you see? Visit the ' +\n",
              "            '<a target=\"_blank\" href=https://colab.research.google.com/notebooks/data_table.ipynb>data table notebook</a>'\n",
              "            + ' to learn more about interactive tables.';\n",
              "          element.innerHTML = '';\n",
              "          dataTable['output_type'] = 'display_data';\n",
              "          await google.colab.output.renderOutput(dataTable, element);\n",
              "          const docLink = document.createElement('div');\n",
              "          docLink.innerHTML = docLinkHtml;\n",
              "          element.appendChild(docLink);\n",
              "        }\n",
              "      </script>\n",
              "    </div>\n",
              "  </div>\n",
              "  "
            ],
            "text/plain": [
              "next_state   O3\n",
              "state          \n",
              "O3          1.0"
            ]
          },
          "metadata": {},
          "execution_count": 339
        }
      ]
    },
    {
      "cell_type": "code",
      "source": [
        "#prediksi pola variabel terhadap panen\n",
        "\n",
        "#create state space and initial state probabilies\n",
        "states = [ 'O1', 'O2' , 'O3' , 'O4', 'O5']\n",
        "pi = [ 2/14 , 2/14 , 4/14, 4/14 , 2/14 ]\n",
        "state_space = pd.Series ( pi , index = states , name='states' )\n",
        "print ( state_space)\n",
        "print ( state_space.sum( ) )\n"
      ],
      "metadata": {
        "id": "YGt0qN48Yk2D",
        "colab": {
          "base_uri": "https://localhost:8080/"
        },
        "outputId": "f3a98b61-b813-42df-88e3-c225d1484fcd"
      },
      "execution_count": null,
      "outputs": [
        {
          "output_type": "stream",
          "name": "stdout",
          "text": [
            "O1    0.142857\n",
            "O2    0.142857\n",
            "O3    0.285714\n",
            "O4    0.285714\n",
            "O5    0.142857\n",
            "Name: states, dtype: float64\n",
            "1.0\n"
          ]
        }
      ]
    },
    {
      "cell_type": "code",
      "source": [
        "#create transition matrix\n",
        "#equals transition probability matrix of changing state given a state\n",
        "#matrix is size (M x M) where M is number of states\n",
        "\n",
        "#probabilitas transisi variabel terobervasi\n",
        "\n",
        "q_df = pd.DataFrame ( columns=states , index=states )\n",
        "q_df.loc[ states[0] ] = [ 0.0  , 0.0 , 0.0 , 0.0 , 1.0 ]\n",
        "q_df.loc[ states[1] ] = [ 0.0  , 0.0 , 0.0 , 1.0  , 0.0  ]\n",
        "q_df.loc[ states[2] ] = [ 0.11 , 0.11 , 0.78 , 0.0 , 0.0 ]\n",
        "q_df.loc[ states[3] ] = [ 0.0  , 0.0 , 1.0 , 0.0  , 0.0  ]\n",
        "q_df.loc[ states[4] ] = [ 0.0  , 0.0, 1.0 , 0.0  , 0.0  ]\n",
        "print ( q_df )\n"
      ],
      "metadata": {
        "id": "x98WjJz0Y8LF",
        "colab": {
          "base_uri": "https://localhost:8080/"
        },
        "outputId": "7b374ef7-3d76-454b-a876-10e6fc0892f9"
      },
      "execution_count": null,
      "outputs": [
        {
          "output_type": "stream",
          "name": "stdout",
          "text": [
            "      O1    O2    O3 O4 O5\n",
            "O1     0     0     0  0  1\n",
            "O2     0     0     0  1  0\n",
            "O3  0.11  0.11  0.78  0  0\n",
            "O4     0     0     1  0  0\n",
            "O5     0     0     1  0  0\n"
          ]
        }
      ]
    },
    {
      "cell_type": "code",
      "source": [
        "#create state space and initial state probabilities\n",
        "hidden_states = [ 'S1' , 'S2' , 'S3' , 'S4', 'S5']\n",
        "pi = [ 2/14 , 2/14 , 4/14, 4/14 , 2/14 ]\n",
        "print ( '\\n' )\n",
        "state_space = pd.Series ( pi , index = hidden_states , name='states')\n",
        "print (state_space)\n",
        "print('\\n')\n",
        "print(state_space.sum())"
      ],
      "metadata": {
        "id": "QStEIofhZRtm",
        "colab": {
          "base_uri": "https://localhost:8080/"
        },
        "outputId": "24227cbc-2f12-4668-9bf7-db4b47fffc33"
      },
      "execution_count": null,
      "outputs": [
        {
          "output_type": "stream",
          "name": "stdout",
          "text": [
            "\n",
            "\n",
            "S1    0.142857\n",
            "S2    0.142857\n",
            "S3    0.285714\n",
            "S4    0.285714\n",
            "S5    0.142857\n",
            "Name: states, dtype: float64\n",
            "\n",
            "\n",
            "1.0\n"
          ]
        }
      ]
    },
    {
      "cell_type": "code",
      "source": [
        "#create hidden transition matrix\n",
        "#a or alpha = transition probability matrix of changing states given a state\n",
        "#matrix is size (M x M) where M is number of states\n",
        "\n",
        "a_df = pd.DataFrame(columns = hidden_states , index=hidden_states )\n",
        "a_df.loc[ hidden_states[ 0 ] ] = [ 0.5 , 0.0 , 0.0 , 0.5 , 0.0 ]\n",
        "a_df.loc[ hidden_states[ 1 ] ] = [ 0.0 , 0.5 , 0.0 , 0.5 , 0.0 ]\n",
        "a_df.loc[ hidden_states[ 2 ] ] = [ 0.25 , 0.0 , 0.25 , 0.25, 0.25 ]\n",
        "a_df.loc[ hidden_states[ 3 ] ] = [ 0.0 , 0.0 , 0.67 , 0.33 , 0.0 ]\n",
        "a_df.loc[ hidden_states[ 4 ] ] = [ 0.0 , 0.5 , 0.5 , 0.0 , 0.0 ]\n",
        "print ( a_df )\n"
      ],
      "metadata": {
        "id": "TjXKuawoZXnO",
        "colab": {
          "base_uri": "https://localhost:8080/"
        },
        "outputId": "14813beb-9bbb-4257-e479-066725f30fbe"
      },
      "execution_count": null,
      "outputs": [
        {
          "output_type": "stream",
          "name": "stdout",
          "text": [
            "      S1   S2    S3    S4    S5\n",
            "S1   0.5    0     0   0.5     0\n",
            "S2     0  0.5     0   0.5     0\n",
            "S3  0.25    0  0.25  0.25  0.25\n",
            "S4     0    0  0.67  0.33     0\n",
            "S5     0  0.5   0.5     0     0\n"
          ]
        }
      ]
    },
    {
      "cell_type": "code",
      "source": [
        "a = a_df.values\n",
        "print ( a )\n",
        "print ( '\\n')\n",
        "print ( a.shape )\n",
        "print ( '\\n ')\n",
        "print ( a_df.sum( axis = 1))\n"
      ],
      "metadata": {
        "id": "OWLOAyEWZbm2",
        "colab": {
          "base_uri": "https://localhost:8080/"
        },
        "outputId": "74d04d50-d17f-40ef-ecec-c519734bfa99"
      },
      "execution_count": null,
      "outputs": [
        {
          "output_type": "stream",
          "name": "stdout",
          "text": [
            "[[0.5 0.0 0.0 0.5 0.0]\n",
            " [0.0 0.5 0.0 0.5 0.0]\n",
            " [0.25 0.0 0.25 0.25 0.25]\n",
            " [0.0 0.0 0.67 0.33 0.0]\n",
            " [0.0 0.5 0.5 0.0 0.0]]\n",
            "\n",
            "\n",
            "(5, 5)\n",
            "\n",
            " \n",
            "S1    1.0\n",
            "S2    1.0\n",
            "S3    1.0\n",
            "S4    1.0\n",
            "S5    1.0\n",
            "dtype: float64\n"
          ]
        }
      ]
    },
    {
      "cell_type": "code",
      "source": [
        "#create matrix of observation (emission) probabilities\n",
        "#b or beta = observation probabilities given state\n",
        "#matrix is size (M x O) where M is number of states\n",
        "# and O is number of different possible observations\n",
        "\n",
        "observable_states = states\n",
        "b_df = pd.DataFrame(columns = observable_states , index=hidden_states )\n",
        "b_df.loc[ hidden_states[ 0 ] ] = [ 0.0 , 0.0 , 1.0 , 0.0 , 0.0 ]\n",
        "b_df.loc[ hidden_states[ 1 ] ] = [ 0.0 , 0.0 , 1.0 , 0.0 , 0.0 ]\n",
        "b_df.loc[ hidden_states[ 2 ] ] = [ 0.0 , 0.0 , 0.75 , 0.25 , 0.0 ]\n",
        "b_df.loc[ hidden_states[ 3 ] ] = [ 0.25 , 0.0 , 0.5 , 0.0 , 0.25 ]\n",
        "b_df.loc[ hidden_states[ 4 ] ] = [ 0.0 , 0.5 , 0.5 , 0.0 , 0.0 ]\n",
        "print ( b_df )\n"
      ],
      "metadata": {
        "id": "mhsuYvlyZgkO",
        "colab": {
          "base_uri": "https://localhost:8080/"
        },
        "outputId": "ce0a9a34-b069-4159-c1ef-872957f7d24c"
      },
      "execution_count": null,
      "outputs": [
        {
          "output_type": "stream",
          "name": "stdout",
          "text": [
            "      O1   O2    O3    O4    O5\n",
            "S1     0    0     1     0     0\n",
            "S2     0    0     1     0     0\n",
            "S3     0    0  0.75  0.25     0\n",
            "S4  0.25    0   0.5     0  0.25\n",
            "S5     0  0.5   0.5     0     0\n"
          ]
        }
      ]
    },
    {
      "cell_type": "code",
      "source": [
        "b = b_df.values\n",
        "\n",
        "print ( b )\n",
        "print( '\\n' )\n",
        "print ( b.shape )\n",
        "print ( '\\n' )\n",
        "print ( b_df.sum( axis = 1))\n"
      ],
      "metadata": {
        "id": "rAx8_0buZlGX",
        "colab": {
          "base_uri": "https://localhost:8080/"
        },
        "outputId": "48c33514-159d-40c2-c1de-a0763898d0d9"
      },
      "execution_count": null,
      "outputs": [
        {
          "output_type": "stream",
          "name": "stdout",
          "text": [
            "[[0.0 0.0 1.0 0.0 0.0]\n",
            " [0.0 0.0 1.0 0.0 0.0]\n",
            " [0.0 0.0 0.75 0.25 0.0]\n",
            " [0.25 0.0 0.5 0.0 0.25]\n",
            " [0.0 0.5 0.5 0.0 0.0]]\n",
            "\n",
            "\n",
            "(5, 5)\n",
            "\n",
            "\n",
            "S1    1.0\n",
            "S2    1.0\n",
            "S3    1.0\n",
            "S4    1.0\n",
            "S5    1.0\n",
            "dtype: float64\n"
          ]
        }
      ]
    },
    {
      "cell_type": "code",
      "source": [
        "#create edge labels\n",
        "#emit_edge_labels = {(n1,n2):d['label'] for n1,n2,d in G.edges(data = True)}\n",
        "#nx.draw_networkx_edge_labels(G, pos, edge_labels = emit_edge_labels)\n",
        "#plt .show()\n",
        "#nx.drawing.nx_pydot.write dot(G, 'hidden markov.dot')\n",
        "\n",
        "# observation sequence of dog's behaviors \n",
        "# observations are encoded numerically\n",
        "\n",
        "obs_map = {'O1':0, 'O2':1, 'O3':2, 'O4':3, 'O5':4}\n",
        "obs = np.array([2, 2, 2, 0, 4, 2, 2, 2, 2, 1, 3, 2, 2, 2])\n",
        "\n",
        "inv_obs_map = dict((v,k) for k, v in obs_map.items())\n",
        "obs_seq = [inv_obs_map[v] for v in list(obs)]\n",
        "\n",
        "print(pd.DataFrame(np.column_stack([obs, obs_seq]),\n",
        "                   columns = ['Obs_code', 'Obs_seq']))\n",
        "\n"
      ],
      "metadata": {
        "id": "hccnk4b0Z6DU",
        "colab": {
          "base_uri": "https://localhost:8080/"
        },
        "outputId": "654a4f77-d4f9-45b3-c8d5-c8385f66c2f8"
      },
      "execution_count": null,
      "outputs": [
        {
          "output_type": "stream",
          "name": "stdout",
          "text": [
            "   Obs_code Obs_seq\n",
            "0         2      O3\n",
            "1         2      O3\n",
            "2         2      O3\n",
            "3         0      O1\n",
            "4         4      O5\n",
            "5         2      O3\n",
            "6         2      O3\n",
            "7         2      O3\n",
            "8         2      O3\n",
            "9         1      O2\n",
            "10        3      O4\n",
            "11        2      O3\n",
            "12        2      O3\n",
            "13        2      O3\n"
          ]
        }
      ]
    },
    {
      "cell_type": "code",
      "source": [
        "# create graph object\n",
        "G = nx.MultiDiGraph()\n",
        "\n",
        "# nodes correspond to states\n",
        "G.add_nodes_from(hidden_states)\n",
        "print(f'Nodes:\\n{G.nodes()}\\n')\n",
        "\n",
        "# edges represent hidden probabilities\n",
        "for k, v in hide_edges_wts.items():\n",
        "    tmp_origin, tmp_destination = k[0], k[1]\n",
        "    G.add_edge(tmp_origin, tmp_destination, weight=v, label=v)\n",
        "\n",
        "# edges represent emission probabilities\n",
        "for k, v in emit_edges_wts.items():\n",
        "    tmp_origin, tmp_destination = k[0], k[1]\n",
        "    G.add_edge(tmp_origin, tmp_destination, weight=v, label=v)\n",
        "    \n",
        "print(f'Edges:')\n",
        "pprint(G.edges(data=True))    \n",
        "\n",
        "pos = nx.drawing.nx_pydot.graphviz_layout(G, prog='neato')\n",
        "nx.draw_networkx(G, pos)\n",
        "\n",
        "# create edge labels for jupyter plot but is not necessary\n",
        "emit_edge_labels = {(n1,n2):d['label'] for n1,n2,d in G.edges(data=True)}\n",
        "nx.draw_networkx_edge_labels(G , pos, edge_labels=emit_edge_labels)\n",
        "nx.drawing.nx_pydot.write_dot(G, 'pet_dog_hidden_markov.dot')"
      ],
      "metadata": {
        "id": "s5OxXXdTZ-7A",
        "colab": {
          "base_uri": "https://localhost:8080/",
          "height": 437
        },
        "outputId": "571e6e07-91f3-4501-b29c-cf350e922302"
      },
      "execution_count": null,
      "outputs": [
        {
          "output_type": "stream",
          "name": "stdout",
          "text": [
            "Nodes:\n",
            "['S1', 'S2', 'S3', 'S4', 'S5']\n",
            "\n",
            "Edges:\n",
            "OutMultiEdgeDataView([('S1', 'S1', {'weight': 0.5, 'label': 0.5}), ('S1', 'S2', {'weight': 0.0, 'label': 0.0}), ('S1', 'S3', {'weight': 0.0, 'label': 0.0}), ('S1', 'S4', {'weight': 0.5, 'label': 0.5}), ('S1', 'S5', {'weight': 0.0, 'label': 0.0}), ('S1', 'O1', {'weight': 0.0, 'label': 0.0}), ('S1', 'O2', {'weight': 0.5, 'label': 0.5}), ('S1', 'O3', {'weight': 0.0, 'label': 0.0}), ('S1', 'O4', {'weight': 0.0, 'label': 0.0}), ('S1', 'O5', {'weight': 0.5, 'label': 0.5}), ('S2', 'S1', {'weight': 0.0, 'label': 0.0}), ('S2', 'S2', {'weight': 0.5, 'label': 0.5}), ('S2', 'S3', {'weight': 0.0, 'label': 0.0}), ('S2', 'S4', {'weight': 0.5, 'label': 0.5}), ('S2', 'S5', {'weight': 0.0, 'label': 0.0}), ('S2', 'O1', {'weight': 0.0, 'label': 0.0}), ('S2', 'O2', {'weight': 0.0, 'label': 0.0}), ('S2', 'O3', {'weight': 0.5, 'label': 0.5}), ('S2', 'O4', {'weight': 0.0, 'label': 0.0}), ('S2', 'O5', {'weight': 0.5, 'label': 0.5}), ('S3', 'S1', {'weight': 0.25, 'label': 0.25}), ('S3', 'S2', {'weight': 0.0, 'label': 0.0}), ('S3', 'S3', {'weight': 0.25, 'label': 0.25}), ('S3', 'S4', {'weight': 0.25, 'label': 0.25}), ('S3', 'S5', {'weight': 0.25, 'label': 0.25}), ('S3', 'O1', {'weight': 0.0, 'label': 0.0}), ('S3', 'O2', {'weight': 0.0, 'label': 0.0}), ('S3', 'O3', {'weight': 0.5, 'label': 0.5}), ('S3', 'O4', {'weight': 0.5, 'label': 0.5}), ('S3', 'O5', {'weight': 0.0, 'label': 0.0}), ('S4', 'S1', {'weight': 0.0, 'label': 0.0}), ('S4', 'S2', {'weight': 0.0, 'label': 0.0}), ('S4', 'S3', {'weight': 0.67, 'label': 0.67}), ('S4', 'S4', {'weight': 0.33, 'label': 0.33}), ('S4', 'S5', {'weight': 0.0, 'label': 0.0}), ('S4', 'O1', {'weight': 0.5, 'label': 0.5}), ('S4', 'O2', {'weight': 0.0, 'label': 0.0}), ('S4', 'O3', {'weight': 0.0, 'label': 0.0}), ('S4', 'O4', {'weight': 0.25, 'label': 0.25}), ('S4', 'O5', {'weight': 0.25, 'label': 0.25}), ('S5', 'S1', {'weight': 0.0, 'label': 0.0}), ('S5', 'S2', {'weight': 0.5, 'label': 0.5}), ('S5', 'S3', {'weight': 0.5, 'label': 0.5}), ('S5', 'S4', {'weight': 0.0, 'label': 0.0}), ('S5', 'S5', {'weight': 0.0, 'label': 0.0}), ('S5', 'O1', {'weight': 0.5, 'label': 0.5}), ('S5', 'O2', {'weight': 0.5, 'label': 0.5}), ('S5', 'O3', {'weight': 0.0, 'label': 0.0}), ('S5', 'O4', {'weight': 0.0, 'label': 0.0}), ('S5', 'O5', {'weight': 0.0, 'label': 0.0})])\n"
          ]
        },
        {
          "output_type": "display_data",
          "data": {
            "image/png": "[encoded data removed]",
            "text/plain": [
              "<Figure size 576x396 with 1 Axes>"
            ]
          },
          "metadata": {}
        }
      ]
    },
    {
      "cell_type": "code",
      "source": [
        "def viterbi(pi, a, b, obs):\n",
        "    \n",
        "    nStates = np.shape(b)[0]\n",
        "    T = np.shape(obs)[0]\n",
        "    \n",
        "    # init blank path\n",
        "    path = np.zeros(T)\n",
        "    # delta --> highest probability of any path that reaches state i\n",
        "    delta = np.zeros((nStates, T))\n",
        "    # phi --> argmax by time step for each state\n",
        "    phi = np.zeros((nStates, T))\n",
        "    \n",
        "    # init delta and phi \n",
        "    delta[:, 0] = pi*b[:, obs[0]]\n",
        "    phi[:, 0] = 0\n",
        "\n",
        "    print('\\nStart Walk Forward\\n')    \n",
        "    # the forward algorithm extension\n",
        "    for t in range(1, T):\n",
        "        for s in range(nStates):\n",
        "            delta[s, t] = np.max(delta[:, t-1] * a[:, s]) * b[s, obs[t]] \n",
        "            phi[s, t] = np.argmax(delta[:, t-1] * a[:, s])\n",
        "            print('s={s} and t={t}: phi[{s}, {t}] = {phi}'.format(s=s, t=t, phi=phi[s, t]))\n",
        "    \n",
        "    # find optimal path\n",
        "    print('-'*50)\n",
        "    print('Start Backtrace\\n')\n",
        "    path[T-1] = np.argmax(delta[:, T-1])\n",
        "    #p('init path\\n    t={} path[{}-1]={}\\n'.format(T-1, T, path[T-1]))\n",
        "    for t in range(T-2, -1, -1):\n",
        "        #path[t] = phi[path[t+1], [t+1]]\n",
        "        path[t] = phi[int(path[t+1]) , int(t+1)] \n",
        "        #p(' '*4 + 't={t}, path[{t}+1]={path}, [{t}+1]={i}'.format(t=t, path=path[t+1], i=[t+1]))\n",
        "        print('path[{}] = {}'.format(t, path[t]))\n",
        "        \n",
        "    return path, delta, phi\n",
        "\n",
        "path, delta, phi = viterbi(pi, a, b, obs)\n",
        "print('\\nsingle best state path: \\n', path)\n",
        "print('delta:\\n', delta)\n",
        "print('phi:\\n', phi)"
      ],
      "metadata": {
        "colab": {
          "base_uri": "https://localhost:8080/"
        },
        "id": "LHzQRz80qyoI",
        "outputId": "275082aa-22ae-4993-ef4d-6d52d7c90e64"
      },
      "execution_count": null,
      "outputs": [
        {
          "output_type": "stream",
          "name": "stdout",
          "text": [
            "\n",
            "Start Walk Forward\n",
            "\n",
            "s=0 and t=1: phi[0, 1] = 0.0\n",
            "s=1 and t=1: phi[1, 1] = 1.0\n",
            "s=2 and t=1: phi[2, 1] = 3.0\n",
            "s=3 and t=1: phi[3, 1] = 0.0\n",
            "s=4 and t=1: phi[4, 1] = 2.0\n",
            "s=0 and t=2: phi[0, 2] = 0.0\n",
            "s=1 and t=2: phi[1, 2] = 1.0\n",
            "s=2 and t=2: phi[2, 2] = 3.0\n",
            "s=3 and t=2: phi[3, 2] = 0.0\n",
            "s=4 and t=2: phi[4, 2] = 2.0\n",
            "s=0 and t=3: phi[0, 3] = 0.0\n",
            "s=1 and t=3: phi[1, 3] = 1.0\n",
            "s=2 and t=3: phi[2, 3] = 3.0\n",
            "s=3 and t=3: phi[3, 3] = 0.0\n",
            "s=4 and t=3: phi[4, 3] = 2.0\n",
            "s=0 and t=4: phi[0, 4] = 0.0\n",
            "s=1 and t=4: phi[1, 4] = 0.0\n",
            "s=2 and t=4: phi[2, 4] = 3.0\n",
            "s=3 and t=4: phi[3, 4] = 3.0\n",
            "s=4 and t=4: phi[4, 4] = 0.0\n",
            "s=0 and t=5: phi[0, 5] = 0.0\n",
            "s=1 and t=5: phi[1, 5] = 0.0\n",
            "s=2 and t=5: phi[2, 5] = 3.0\n",
            "s=3 and t=5: phi[3, 5] = 3.0\n",
            "s=4 and t=5: phi[4, 5] = 0.0\n",
            "s=0 and t=6: phi[0, 6] = 2.0\n",
            "s=1 and t=6: phi[1, 6] = 0.0\n",
            "s=2 and t=6: phi[2, 6] = 2.0\n",
            "s=3 and t=6: phi[3, 6] = 2.0\n",
            "s=4 and t=6: phi[4, 6] = 2.0\n",
            "s=0 and t=7: phi[0, 7] = 0.0\n",
            "s=1 and t=7: phi[1, 7] = 4.0\n",
            "s=2 and t=7: phi[2, 7] = 3.0\n",
            "s=3 and t=7: phi[3, 7] = 0.0\n",
            "s=4 and t=7: phi[4, 7] = 2.0\n",
            "s=0 and t=8: phi[0, 8] = 0.0\n",
            "s=1 and t=8: phi[1, 8] = 1.0\n",
            "s=2 and t=8: phi[2, 8] = 3.0\n",
            "s=3 and t=8: phi[3, 8] = 0.0\n",
            "s=4 and t=8: phi[4, 8] = 2.0\n",
            "s=0 and t=9: phi[0, 9] = 0.0\n",
            "s=1 and t=9: phi[1, 9] = 1.0\n",
            "s=2 and t=9: phi[2, 9] = 3.0\n",
            "s=3 and t=9: phi[3, 9] = 0.0\n",
            "s=4 and t=9: phi[4, 9] = 2.0\n",
            "s=0 and t=10: phi[0, 10] = 0.0\n",
            "s=1 and t=10: phi[1, 10] = 4.0\n",
            "s=2 and t=10: phi[2, 10] = 4.0\n",
            "s=3 and t=10: phi[3, 10] = 0.0\n",
            "s=4 and t=10: phi[4, 10] = 0.0\n",
            "s=0 and t=11: phi[0, 11] = 2.0\n",
            "s=1 and t=11: phi[1, 11] = 0.0\n",
            "s=2 and t=11: phi[2, 11] = 2.0\n",
            "s=3 and t=11: phi[3, 11] = 2.0\n",
            "s=4 and t=11: phi[4, 11] = 2.0\n",
            "s=0 and t=12: phi[0, 12] = 0.0\n",
            "s=1 and t=12: phi[1, 12] = 4.0\n",
            "s=2 and t=12: phi[2, 12] = 3.0\n",
            "s=3 and t=12: phi[3, 12] = 0.0\n",
            "s=4 and t=12: phi[4, 12] = 2.0\n",
            "s=0 and t=13: phi[0, 13] = 0.0\n",
            "s=1 and t=13: phi[1, 13] = 1.0\n",
            "s=2 and t=13: phi[2, 13] = 3.0\n",
            "s=3 and t=13: phi[3, 13] = 0.0\n",
            "s=4 and t=13: phi[4, 13] = 2.0\n",
            "--------------------------------------------------\n",
            "Start Backtrace\n",
            "\n",
            "path[12] = 0.0\n",
            "path[11] = 0.0\n",
            "path[10] = 2.0\n",
            "path[9] = 4.0\n",
            "path[8] = 2.0\n",
            "path[7] = 3.0\n",
            "path[6] = 0.0\n",
            "path[5] = 2.0\n",
            "path[4] = 3.0\n",
            "path[3] = 3.0\n",
            "path[2] = 0.0\n",
            "path[1] = 0.0\n",
            "path[0] = 0.0\n",
            "\n",
            "single best state path: \n",
            " [0. 0. 0. 3. 3. 2. 0. 3. 2. 4. 2. 0. 0. 0.]\n",
            "delta:\n",
            " [[1.42857143e-01 7.14285714e-02 3.57142857e-02 0.00000000e+00\n",
            "  0.00000000e+00 0.00000000e+00 4.62681362e-05 2.31340681e-05\n",
            "  1.15670340e-05 0.00000000e+00 0.00000000e+00 2.27048227e-08\n",
            "  1.13524113e-08 5.67620567e-09]\n",
            " [1.42857143e-01 7.14285714e-02 3.57142857e-02 0.00000000e+00\n",
            "  0.00000000e+00 0.00000000e+00 0.00000000e+00 1.15670340e-05\n",
            "  5.78351702e-06 0.00000000e+00 0.00000000e+00 0.00000000e+00\n",
            "  5.67620567e-09 2.83810283e-09]\n",
            " [2.14285714e-01 7.17857143e-02 1.79464286e-02 0.00000000e+00\n",
            "  0.00000000e+00 1.85072545e-04 3.47011021e-05 1.16248692e-05\n",
            "  5.81243461e-06 0.00000000e+00 9.08192907e-08 1.70286170e-08\n",
            "  5.70458670e-09 2.85229335e-09]\n",
            " [1.42857143e-01 3.57142857e-02 1.78571429e-02 4.46428571e-03\n",
            "  3.68303571e-04 6.07700893e-05 2.31340681e-05 1.15670340e-05\n",
            "  5.78351702e-06 0.00000000e+00 0.00000000e+00 1.13524113e-08\n",
            "  5.67620567e-09 2.83810283e-09]\n",
            " [7.14285714e-02 2.67857143e-02 8.97321429e-03 0.00000000e+00\n",
            "  0.00000000e+00 0.00000000e+00 2.31340681e-05 4.33763777e-06\n",
            "  1.45310865e-06 7.26554326e-07 0.00000000e+00 1.13524113e-08\n",
            "  2.12857713e-09 7.13073337e-10]]\n",
            "phi:\n",
            " [[0. 0. 0. 0. 0. 0. 2. 0. 0. 0. 0. 2. 0. 0.]\n",
            " [0. 1. 1. 1. 0. 0. 0. 4. 1. 1. 4. 0. 4. 1.]\n",
            " [0. 3. 3. 3. 3. 3. 2. 3. 3. 3. 4. 2. 3. 3.]\n",
            " [0. 0. 0. 0. 3. 3. 2. 0. 0. 0. 0. 2. 0. 0.]\n",
            " [0. 2. 2. 2. 0. 0. 2. 2. 2. 2. 0. 2. 2. 2.]]\n"
          ]
        }
      ]
    },
    {
      "cell_type": "code",
      "source": [
        "state_map = {0:'S1', 1:'S2', 2:'S3', 3:'S4', 4:'S5'}\n",
        "state_path = [state_map[v] for v in path]\n",
        "\n",
        "(pd.DataFrame()\n",
        " .assign(Observation=obs_seq)\n",
        " .assign(Best_Path=state_path))"
      ],
      "metadata": {
        "id": "4MfSYdCea3eY",
        "colab": {
          "base_uri": "https://localhost:8080/",
          "height": 488
        },
        "outputId": "af0cac3f-54fb-436e-c6e7-969e6f87df79"
      },
      "execution_count": null,
      "outputs": [
        {
          "output_type": "execute_result",
          "data": {
            "text/html": [
              "\n",
              "  <div id=\"df-3ff22150-61b8-4631-a343-844c8b12a861\">\n",
              "    <div class=\"colab-df-container\">\n",
              "      <div>\n",
              "<style scoped>\n",
              "    .dataframe tbody tr th:only-of-type {\n",
              "        vertical-align: middle;\n",
              "    }\n",
              "\n",
              "    .dataframe tbody tr th {\n",
              "        vertical-align: top;\n",
              "    }\n",
              "\n",
              "    .dataframe thead th {\n",
              "        text-align: right;\n",
              "    }\n",
              "</style>\n",
              "<table border=\"1\" class=\"dataframe\">\n",
              "  <thead>\n",
              "    <tr style=\"text-align: right;\">\n",
              "      <th></th>\n",
              "      <th>Observation</th>\n",
              "      <th>Best_Path</th>\n",
              "    </tr>\n",
              "  </thead>\n",
              "  <tbody>\n",
              "    <tr>\n",
              "      <th>0</th>\n",
              "      <td>O3</td>\n",
              "      <td>S1</td>\n",
              "    </tr>\n",
              "    <tr>\n",
              "      <th>1</th>\n",
              "      <td>O3</td>\n",
              "      <td>S1</td>\n",
              "    </tr>\n",
              "    <tr>\n",
              "      <th>2</th>\n",
              "      <td>O3</td>\n",
              "      <td>S1</td>\n",
              "    </tr>\n",
              "    <tr>\n",
              "      <th>3</th>\n",
              "      <td>O1</td>\n",
              "      <td>S4</td>\n",
              "    </tr>\n",
              "    <tr>\n",
              "      <th>4</th>\n",
              "      <td>O5</td>\n",
              "      <td>S4</td>\n",
              "    </tr>\n",
              "    <tr>\n",
              "      <th>5</th>\n",
              "      <td>O3</td>\n",
              "      <td>S3</td>\n",
              "    </tr>\n",
              "    <tr>\n",
              "      <th>6</th>\n",
              "      <td>O3</td>\n",
              "      <td>S1</td>\n",
              "    </tr>\n",
              "    <tr>\n",
              "      <th>7</th>\n",
              "      <td>O3</td>\n",
              "      <td>S4</td>\n",
              "    </tr>\n",
              "    <tr>\n",
              "      <th>8</th>\n",
              "      <td>O3</td>\n",
              "      <td>S3</td>\n",
              "    </tr>\n",
              "    <tr>\n",
              "      <th>9</th>\n",
              "      <td>O2</td>\n",
              "      <td>S5</td>\n",
              "    </tr>\n",
              "    <tr>\n",
              "      <th>10</th>\n",
              "      <td>O4</td>\n",
              "      <td>S3</td>\n",
              "    </tr>\n",
              "    <tr>\n",
              "      <th>11</th>\n",
              "      <td>O3</td>\n",
              "      <td>S1</td>\n",
              "    </tr>\n",
              "    <tr>\n",
              "      <th>12</th>\n",
              "      <td>O3</td>\n",
              "      <td>S1</td>\n",
              "    </tr>\n",
              "    <tr>\n",
              "      <th>13</th>\n",
              "      <td>O3</td>\n",
              "      <td>S1</td>\n",
              "    </tr>\n",
              "  </tbody>\n",
              "</table>\n",
              "</div>\n",
              "      <button class=\"colab-df-convert\" onclick=\"convertToInteractive('df-3ff22150-61b8-4631-a343-844c8b12a861')\"\n",
              "              title=\"Convert this dataframe to an interactive table.\"\n",
              "              style=\"display:none;\">\n",
              "        \n",
              "  <svg xmlns=\"http://www.w3.org/2000/svg\" height=\"24px\"viewBox=\"0 0 24 24\"\n",
              "       width=\"24px\">\n",
              "    <path d=\"M0 0h24v24H0V0z\" fill=\"none\"/>\n",
              "    <path d=\"M18.56 5.44l.94 2.06.94-2.06 2.06-.94-2.06-.94-.94-2.06-.94 2.06-2.06.94zm-11 1L8.5 8.5l.94-2.06 2.06-.94-2.06-.94L8.5 2.5l-.94 2.06-2.06.94zm10 10l.94 2.06.94-2.06 2.06-.94-2.06-.94-.94-2.06-.94 2.06-2.06.94z\"/><path d=\"M17.41 7.96l-1.37-1.37c-.4-.4-.92-.59-1.43-.59-.52 0-1.04.2-1.43.59L10.3 9.45l-7.72 7.72c-.78.78-.78 2.05 0 2.83L4 21.41c.39.39.9.59 1.41.59.51 0 1.02-.2 1.41-.59l7.78-7.78 2.81-2.81c.8-.78.8-2.07 0-2.86zM5.41 20L4 18.59l7.72-7.72 1.47 1.35L5.41 20z\"/>\n",
              "  </svg>\n",
              "      </button>\n",
              "      \n",
              "  <style>\n",
              "    .colab-df-container {\n",
              "      display:flex;\n",
              "      flex-wrap:wrap;\n",
              "      gap: 12px;\n",
              "    }\n",
              "\n",
              "    .colab-df-convert {\n",
              "      background-color: #E8F0FE;\n",
              "      border: none;\n",
              "      border-radius: 50%;\n",
              "      cursor: pointer;\n",
              "      display: none;\n",
              "      fill: #1967D2;\n",
              "      height: 32px;\n",
              "      padding: 0 0 0 0;\n",
              "      width: 32px;\n",
              "    }\n",
              "\n",
              "    .colab-df-convert:hover {\n",
              "      background-color: #E2EBFA;\n",
              "      box-shadow: 0px 1px 2px rgba(60, 64, 67, 0.3), 0px 1px 3px 1px rgba(60, 64, 67, 0.15);\n",
              "      fill: #174EA6;\n",
              "    }\n",
              "\n",
              "    [theme=dark] .colab-df-convert {\n",
              "      background-color: #3B4455;\n",
              "      fill: #D2E3FC;\n",
              "    }\n",
              "\n",
              "    [theme=dark] .colab-df-convert:hover {\n",
              "      background-color: #434B5C;\n",
              "      box-shadow: 0px 1px 3px 1px rgba(0, 0, 0, 0.15);\n",
              "      filter: drop-shadow(0px 1px 2px rgba(0, 0, 0, 0.3));\n",
              "      fill: #FFFFFF;\n",
              "    }\n",
              "  </style>\n",
              "\n",
              "      <script>\n",
              "        const buttonEl =\n",
              "          document.querySelector('#df-3ff22150-61b8-4631-a343-844c8b12a861 button.colab-df-convert');\n",
              "        buttonEl.style.display =\n",
              "          google.colab.kernel.accessAllowed ? 'block' : 'none';\n",
              "\n",
              "        async function convertToInteractive(key) {\n",
              "          const element = document.querySelector('#df-3ff22150-61b8-4631-a343-844c8b12a861');\n",
              "          const dataTable =\n",
              "            await google.colab.kernel.invokeFunction('convertToInteractive',\n",
              "                                                     [key], {});\n",
              "          if (!dataTable) return;\n",
              "\n",
              "          const docLinkHtml = 'Like what you see? Visit the ' +\n",
              "            '<a target=\"_blank\" href=https://colab.research.google.com/notebooks/data_table.ipynb>data table notebook</a>'\n",
              "            + ' to learn more about interactive tables.';\n",
              "          element.innerHTML = '';\n",
              "          dataTable['output_type'] = 'display_data';\n",
              "          await google.colab.output.renderOutput(dataTable, element);\n",
              "          const docLink = document.createElement('div');\n",
              "          docLink.innerHTML = docLinkHtml;\n",
              "          element.appendChild(docLink);\n",
              "        }\n",
              "      </script>\n",
              "    </div>\n",
              "  </div>\n",
              "  "
            ],
            "text/plain": [
              "   Observation Best_Path\n",
              "0           O3        S1\n",
              "1           O3        S1\n",
              "2           O3        S1\n",
              "3           O1        S4\n",
              "4           O5        S4\n",
              "5           O3        S3\n",
              "6           O3        S1\n",
              "7           O3        S4\n",
              "8           O3        S3\n",
              "9           O2        S5\n",
              "10          O4        S3\n",
              "11          O3        S1\n",
              "12          O3        S1\n",
              "13          O3        S1"
            ]
          },
          "metadata": {},
          "execution_count": 350
        }
      ]
    },
    {
      "cell_type": "markdown",
      "source": [
        "# KELEMBABAN"
      ],
      "metadata": {
        "id": "6icXmFdPkkhp"
      }
    },
    {
      "cell_type": "code",
      "source": [
        "X = db['Kelembapan']\n",
        "Y = db['Wisatawan']\n",
        "S = np.zeros(14)\n",
        "for i in range (0,14):\n",
        "  S[i] = X[i+1]-X[i]\n",
        "print(S)"
      ],
      "metadata": {
        "id": "OoTMNf9Hl0Lb",
        "colab": {
          "base_uri": "https://localhost:8080/"
        },
        "outputId": "653858a7-44d9-4b55-adf8-aa2caa8d104f"
      },
      "execution_count": null,
      "outputs": [
        {
          "output_type": "stream",
          "name": "stdout",
          "text": [
            "[ 9.700e-01 -2.000e-02  4.000e-02 -2.072e+01  2.039e+01  5.100e-01\n",
            " -2.050e+00  6.800e-01  4.060e+00 -5.500e+00 -1.800e+00  3.630e+00\n",
            "  7.600e-01 -9.900e-01]\n"
          ]
        }
      ]
    },
    {
      "cell_type": "code",
      "source": [
        "Z = np.zeros(14)\n",
        "for i in range (0,14):\n",
        "  Z[i] = Y[i+1] - Y[i]\n",
        "print(Z)"
      ],
      "metadata": {
        "id": "iQxF7pVVl0Lc",
        "colab": {
          "base_uri": "https://localhost:8080/"
        },
        "outputId": "7936098b-af1a-46c8-9822-f378c2e820c8"
      },
      "execution_count": null,
      "outputs": [
        {
          "output_type": "stream",
          "name": "stdout",
          "text": [
            "[ 1250722.  -524493.  -445158.   483562.   258567.  -306359.   576299.\n",
            "  -211859.  -234271.   735996.  -134712. -1327158. -1519192.   604404.]\n"
          ]
        }
      ]
    },
    {
      "cell_type": "code",
      "source": [
        "#interval Wisatawan\n",
        "\n",
        "for var in Z :\n",
        "  if var > -1519193 and var <= -965210:\n",
        "    print ('S1')\n",
        "  elif var > -965210 and var <= -411227:\n",
        "    print ('S2')\n",
        "  elif var > -411227 and var <= 142756:\n",
        "    print ('S3')\n",
        "  elif var > 142756 and var <= 696739:\n",
        "    print ('S4')\n",
        "  elif var > 696739 and var <= 1250722:\n",
        "    print ('S5')\n",
        "  else :\n",
        "    print ('not valid')"
      ],
      "metadata": {
        "id": "_-Oh0xRwl0Lc",
        "colab": {
          "base_uri": "https://localhost:8080/"
        },
        "outputId": "422fac9c-80d2-40db-c659-5c19dbc8938b"
      },
      "execution_count": null,
      "outputs": [
        {
          "output_type": "stream",
          "name": "stdout",
          "text": [
            "S5\n",
            "S2\n",
            "S2\n",
            "S4\n",
            "S4\n",
            "S3\n",
            "S4\n",
            "S3\n",
            "S3\n",
            "S5\n",
            "S3\n",
            "S1\n",
            "S1\n",
            "S4\n"
          ]
        }
      ]
    },
    {
      "cell_type": "code",
      "source": [
        " import pandas as pd\n",
        "transitions = [ 'S5','S2','S2','S4','S4','S3','S4','S3','S3','S5','S3',\n",
        "               'S1','S1','S4'] * 2"
      ],
      "metadata": {
        "id": "Kcz2ndtFl0Ld"
      },
      "execution_count": null,
      "outputs": []
    },
    {
      "cell_type": "code",
      "source": [
        "df = pd.DataFrame (columns = [ 'state', 'next_state'])\n",
        "for i , val in enumerate(transitions[ : -1 ] ) :\n",
        "  df_stg = pd.DataFrame ( index =[0] )\n",
        "  df_stg [ 'state' ], df_stg [ 'next_state'] = transitions [i] ,transitions [i+1]\n",
        "\n",
        "df = pd.concat ([ df, df_stg ] , axis = 0 )\n",
        "cross_tab = pd.crosstab( df['state'] , df['next_state'])\n",
        "cross_tab.div ( cross_tab.sum(axis=1) , axis=0)"
      ],
      "metadata": {
        "id": "OyPR6U-bl0Ld",
        "colab": {
          "base_uri": "https://localhost:8080/",
          "height": 112
        },
        "outputId": "169b02d6-9411-4fa0-e903-0ac039a495b2"
      },
      "execution_count": null,
      "outputs": [
        {
          "output_type": "execute_result",
          "data": {
            "text/html": [
              "\n",
              "  <div id=\"df-737b8f5c-5311-4e38-b7af-27707298f9cf\">\n",
              "    <div class=\"colab-df-container\">\n",
              "      <div>\n",
              "<style scoped>\n",
              "    .dataframe tbody tr th:only-of-type {\n",
              "        vertical-align: middle;\n",
              "    }\n",
              "\n",
              "    .dataframe tbody tr th {\n",
              "        vertical-align: top;\n",
              "    }\n",
              "\n",
              "    .dataframe thead th {\n",
              "        text-align: right;\n",
              "    }\n",
              "</style>\n",
              "<table border=\"1\" class=\"dataframe\">\n",
              "  <thead>\n",
              "    <tr style=\"text-align: right;\">\n",
              "      <th>next_state</th>\n",
              "      <th>S4</th>\n",
              "    </tr>\n",
              "    <tr>\n",
              "      <th>state</th>\n",
              "      <th></th>\n",
              "    </tr>\n",
              "  </thead>\n",
              "  <tbody>\n",
              "    <tr>\n",
              "      <th>S1</th>\n",
              "      <td>1.0</td>\n",
              "    </tr>\n",
              "  </tbody>\n",
              "</table>\n",
              "</div>\n",
              "      <button class=\"colab-df-convert\" onclick=\"convertToInteractive('df-737b8f5c-5311-4e38-b7af-27707298f9cf')\"\n",
              "              title=\"Convert this dataframe to an interactive table.\"\n",
              "              style=\"display:none;\">\n",
              "        \n",
              "  <svg xmlns=\"http://www.w3.org/2000/svg\" height=\"24px\"viewBox=\"0 0 24 24\"\n",
              "       width=\"24px\">\n",
              "    <path d=\"M0 0h24v24H0V0z\" fill=\"none\"/>\n",
              "    <path d=\"M18.56 5.44l.94 2.06.94-2.06 2.06-.94-2.06-.94-.94-2.06-.94 2.06-2.06.94zm-11 1L8.5 8.5l.94-2.06 2.06-.94-2.06-.94L8.5 2.5l-.94 2.06-2.06.94zm10 10l.94 2.06.94-2.06 2.06-.94-2.06-.94-.94-2.06-.94 2.06-2.06.94z\"/><path d=\"M17.41 7.96l-1.37-1.37c-.4-.4-.92-.59-1.43-.59-.52 0-1.04.2-1.43.59L10.3 9.45l-7.72 7.72c-.78.78-.78 2.05 0 2.83L4 21.41c.39.39.9.59 1.41.59.51 0 1.02-.2 1.41-.59l7.78-7.78 2.81-2.81c.8-.78.8-2.07 0-2.86zM5.41 20L4 18.59l7.72-7.72 1.47 1.35L5.41 20z\"/>\n",
              "  </svg>\n",
              "      </button>\n",
              "      \n",
              "  <style>\n",
              "    .colab-df-container {\n",
              "      display:flex;\n",
              "      flex-wrap:wrap;\n",
              "      gap: 12px;\n",
              "    }\n",
              "\n",
              "    .colab-df-convert {\n",
              "      background-color: #E8F0FE;\n",
              "      border: none;\n",
              "      border-radius: 50%;\n",
              "      cursor: pointer;\n",
              "      display: none;\n",
              "      fill: #1967D2;\n",
              "      height: 32px;\n",
              "      padding: 0 0 0 0;\n",
              "      width: 32px;\n",
              "    }\n",
              "\n",
              "    .colab-df-convert:hover {\n",
              "      background-color: #E2EBFA;\n",
              "      box-shadow: 0px 1px 2px rgba(60, 64, 67, 0.3), 0px 1px 3px 1px rgba(60, 64, 67, 0.15);\n",
              "      fill: #174EA6;\n",
              "    }\n",
              "\n",
              "    [theme=dark] .colab-df-convert {\n",
              "      background-color: #3B4455;\n",
              "      fill: #D2E3FC;\n",
              "    }\n",
              "\n",
              "    [theme=dark] .colab-df-convert:hover {\n",
              "      background-color: #434B5C;\n",
              "      box-shadow: 0px 1px 3px 1px rgba(0, 0, 0, 0.15);\n",
              "      filter: drop-shadow(0px 1px 2px rgba(0, 0, 0, 0.3));\n",
              "      fill: #FFFFFF;\n",
              "    }\n",
              "  </style>\n",
              "\n",
              "      <script>\n",
              "        const buttonEl =\n",
              "          document.querySelector('#df-737b8f5c-5311-4e38-b7af-27707298f9cf button.colab-df-convert');\n",
              "        buttonEl.style.display =\n",
              "          google.colab.kernel.accessAllowed ? 'block' : 'none';\n",
              "\n",
              "        async function convertToInteractive(key) {\n",
              "          const element = document.querySelector('#df-737b8f5c-5311-4e38-b7af-27707298f9cf');\n",
              "          const dataTable =\n",
              "            await google.colab.kernel.invokeFunction('convertToInteractive',\n",
              "                                                     [key], {});\n",
              "          if (!dataTable) return;\n",
              "\n",
              "          const docLinkHtml = 'Like what you see? Visit the ' +\n",
              "            '<a target=\"_blank\" href=https://colab.research.google.com/notebooks/data_table.ipynb>data table notebook</a>'\n",
              "            + ' to learn more about interactive tables.';\n",
              "          element.innerHTML = '';\n",
              "          dataTable['output_type'] = 'display_data';\n",
              "          await google.colab.output.renderOutput(dataTable, element);\n",
              "          const docLink = document.createElement('div');\n",
              "          docLink.innerHTML = docLinkHtml;\n",
              "          element.appendChild(docLink);\n",
              "        }\n",
              "      </script>\n",
              "    </div>\n",
              "  </div>\n",
              "  "
            ],
            "text/plain": [
              "next_state   S4\n",
              "state          \n",
              "S1          1.0"
            ]
          },
          "metadata": {},
          "execution_count": 355
        }
      ]
    },
    {
      "cell_type": "code",
      "source": [
        "for var in S :\n",
        "  if var > -21 and var <= -12.5:\n",
        "    print ( 'O1')\n",
        "  elif var > -12.5 and var <= -4 :\n",
        "    print ( 'O2' )\n",
        "  elif var > -4 and var <= 4.5:\n",
        "    print ( 'O3' )\n",
        "  elif var > 4.5 and var <= 13:\n",
        "    print ( 'O4' )\n",
        "  elif var > 13 and var <= 21.5:\n",
        "    print ( 'O5' )\n",
        "  else :\n",
        "    print ( 'not valid ' )"
      ],
      "metadata": {
        "id": "bwhfxbBwl0Ld",
        "colab": {
          "base_uri": "https://localhost:8080/"
        },
        "outputId": "d0e3fcd6-4976-444b-dfad-cef5fee347c8"
      },
      "execution_count": null,
      "outputs": [
        {
          "output_type": "stream",
          "name": "stdout",
          "text": [
            "O3\n",
            "O3\n",
            "O3\n",
            "O1\n",
            "O5\n",
            "O3\n",
            "O3\n",
            "O3\n",
            "O3\n",
            "O2\n",
            "O3\n",
            "O3\n",
            "O3\n",
            "O3\n"
          ]
        }
      ]
    },
    {
      "cell_type": "code",
      "source": [
        "#probabilitas transisi variable terobservasi\n",
        "import pandas as pd\n",
        "transitions = ['O3','O3' , 'O3' , 'O1' , 'O5' , 'O3' , 'O3' , 'O3' ,\n",
        "'O3' , 'O2' , 'O3' , 'O3' , 'O3' , 'O3' ] * 2\n"
      ],
      "metadata": {
        "id": "8gzobpVal0Le"
      },
      "execution_count": null,
      "outputs": []
    },
    {
      "cell_type": "code",
      "source": [
        "df = pd.DataFrame (columns = [ 'state', 'next_state'])\n",
        "for i , val in enumerate(transitions[ : -1 ] ) :\n",
        "  df_stg = pd.DataFrame ( index =[0] )\n",
        "  df_stg [ 'state' ], df_stg [ 'next_state'] = transitions [i] ,transitions [i+1]\n",
        "\n",
        "df = pd.concat ([ df, df_stg ] , axis = 0 )\n",
        "cross_tab = pd.crosstab( df['state'] , df['next_state'])\n",
        "cross_tab.div ( cross_tab.sum(axis=1) , axis=0)"
      ],
      "metadata": {
        "id": "r-3RUp0Rl0Le",
        "colab": {
          "base_uri": "https://localhost:8080/",
          "height": 112
        },
        "outputId": "01309865-3b54-4f9a-e2c0-9725a38a9d53"
      },
      "execution_count": null,
      "outputs": [
        {
          "output_type": "execute_result",
          "data": {
            "text/html": [
              "\n",
              "  <div id=\"df-9487eddc-26ea-41e9-b010-b96ebf30821d\">\n",
              "    <div class=\"colab-df-container\">\n",
              "      <div>\n",
              "<style scoped>\n",
              "    .dataframe tbody tr th:only-of-type {\n",
              "        vertical-align: middle;\n",
              "    }\n",
              "\n",
              "    .dataframe tbody tr th {\n",
              "        vertical-align: top;\n",
              "    }\n",
              "\n",
              "    .dataframe thead th {\n",
              "        text-align: right;\n",
              "    }\n",
              "</style>\n",
              "<table border=\"1\" class=\"dataframe\">\n",
              "  <thead>\n",
              "    <tr style=\"text-align: right;\">\n",
              "      <th>next_state</th>\n",
              "      <th>O3</th>\n",
              "    </tr>\n",
              "    <tr>\n",
              "      <th>state</th>\n",
              "      <th></th>\n",
              "    </tr>\n",
              "  </thead>\n",
              "  <tbody>\n",
              "    <tr>\n",
              "      <th>O3</th>\n",
              "      <td>1.0</td>\n",
              "    </tr>\n",
              "  </tbody>\n",
              "</table>\n",
              "</div>\n",
              "      <button class=\"colab-df-convert\" onclick=\"convertToInteractive('df-9487eddc-26ea-41e9-b010-b96ebf30821d')\"\n",
              "              title=\"Convert this dataframe to an interactive table.\"\n",
              "              style=\"display:none;\">\n",
              "        \n",
              "  <svg xmlns=\"http://www.w3.org/2000/svg\" height=\"24px\"viewBox=\"0 0 24 24\"\n",
              "       width=\"24px\">\n",
              "    <path d=\"M0 0h24v24H0V0z\" fill=\"none\"/>\n",
              "    <path d=\"M18.56 5.44l.94 2.06.94-2.06 2.06-.94-2.06-.94-.94-2.06-.94 2.06-2.06.94zm-11 1L8.5 8.5l.94-2.06 2.06-.94-2.06-.94L8.5 2.5l-.94 2.06-2.06.94zm10 10l.94 2.06.94-2.06 2.06-.94-2.06-.94-.94-2.06-.94 2.06-2.06.94z\"/><path d=\"M17.41 7.96l-1.37-1.37c-.4-.4-.92-.59-1.43-.59-.52 0-1.04.2-1.43.59L10.3 9.45l-7.72 7.72c-.78.78-.78 2.05 0 2.83L4 21.41c.39.39.9.59 1.41.59.51 0 1.02-.2 1.41-.59l7.78-7.78 2.81-2.81c.8-.78.8-2.07 0-2.86zM5.41 20L4 18.59l7.72-7.72 1.47 1.35L5.41 20z\"/>\n",
              "  </svg>\n",
              "      </button>\n",
              "      \n",
              "  <style>\n",
              "    .colab-df-container {\n",
              "      display:flex;\n",
              "      flex-wrap:wrap;\n",
              "      gap: 12px;\n",
              "    }\n",
              "\n",
              "    .colab-df-convert {\n",
              "      background-color: #E8F0FE;\n",
              "      border: none;\n",
              "      border-radius: 50%;\n",
              "      cursor: pointer;\n",
              "      display: none;\n",
              "      fill: #1967D2;\n",
              "      height: 32px;\n",
              "      padding: 0 0 0 0;\n",
              "      width: 32px;\n",
              "    }\n",
              "\n",
              "    .colab-df-convert:hover {\n",
              "      background-color: #E2EBFA;\n",
              "      box-shadow: 0px 1px 2px rgba(60, 64, 67, 0.3), 0px 1px 3px 1px rgba(60, 64, 67, 0.15);\n",
              "      fill: #174EA6;\n",
              "    }\n",
              "\n",
              "    [theme=dark] .colab-df-convert {\n",
              "      background-color: #3B4455;\n",
              "      fill: #D2E3FC;\n",
              "    }\n",
              "\n",
              "    [theme=dark] .colab-df-convert:hover {\n",
              "      background-color: #434B5C;\n",
              "      box-shadow: 0px 1px 3px 1px rgba(0, 0, 0, 0.15);\n",
              "      filter: drop-shadow(0px 1px 2px rgba(0, 0, 0, 0.3));\n",
              "      fill: #FFFFFF;\n",
              "    }\n",
              "  </style>\n",
              "\n",
              "      <script>\n",
              "        const buttonEl =\n",
              "          document.querySelector('#df-9487eddc-26ea-41e9-b010-b96ebf30821d button.colab-df-convert');\n",
              "        buttonEl.style.display =\n",
              "          google.colab.kernel.accessAllowed ? 'block' : 'none';\n",
              "\n",
              "        async function convertToInteractive(key) {\n",
              "          const element = document.querySelector('#df-9487eddc-26ea-41e9-b010-b96ebf30821d');\n",
              "          const dataTable =\n",
              "            await google.colab.kernel.invokeFunction('convertToInteractive',\n",
              "                                                     [key], {});\n",
              "          if (!dataTable) return;\n",
              "\n",
              "          const docLinkHtml = 'Like what you see? Visit the ' +\n",
              "            '<a target=\"_blank\" href=https://colab.research.google.com/notebooks/data_table.ipynb>data table notebook</a>'\n",
              "            + ' to learn more about interactive tables.';\n",
              "          element.innerHTML = '';\n",
              "          dataTable['output_type'] = 'display_data';\n",
              "          await google.colab.output.renderOutput(dataTable, element);\n",
              "          const docLink = document.createElement('div');\n",
              "          docLink.innerHTML = docLinkHtml;\n",
              "          element.appendChild(docLink);\n",
              "        }\n",
              "      </script>\n",
              "    </div>\n",
              "  </div>\n",
              "  "
            ],
            "text/plain": [
              "next_state   O3\n",
              "state          \n",
              "O3          1.0"
            ]
          },
          "metadata": {},
          "execution_count": 358
        }
      ]
    },
    {
      "cell_type": "code",
      "source": [
        "#prediksi pola variabel terhadap panen\n",
        "\n",
        "#create state space and initial state probabilies\n",
        "states = [ 'O1', 'O2' , 'O3' , 'O4', 'O5']\n",
        "pi = [ 2/14 , 2/14 , 4/14, 4/14 , 2/14 ]\n",
        "state_space = pd.Series ( pi , index = states , name='states' )\n",
        "print ( state_space)\n",
        "print ( state_space.sum( ) )\n"
      ],
      "metadata": {
        "id": "w0X1G7znl0Le",
        "colab": {
          "base_uri": "https://localhost:8080/"
        },
        "outputId": "53cd565c-a3e2-44c1-e027-fcb605e538ac"
      },
      "execution_count": null,
      "outputs": [
        {
          "output_type": "stream",
          "name": "stdout",
          "text": [
            "O1    0.142857\n",
            "O2    0.142857\n",
            "O3    0.285714\n",
            "O4    0.285714\n",
            "O5    0.142857\n",
            "Name: states, dtype: float64\n",
            "1.0\n"
          ]
        }
      ]
    },
    {
      "cell_type": "code",
      "source": [
        "#create transition matrix\n",
        "#equals transition probability matrix of changing state given a state\n",
        "#matrix is size (M x M) where M is number of states\n",
        "\n",
        "#probabilitas transisi variabel terobervasi\n",
        "\n",
        "q_df = pd.DataFrame ( columns=states , index=states )\n",
        "q_df.loc[ states[0] ] = [ 0.0  , 0.0 , 0.0 , 0.0 , 1.0 ]\n",
        "q_df.loc[ states[1] ] = [ 0.0  , 0.0 , 1.0 , 0.0  , 0.0  ]\n",
        "q_df.loc[ states[2] ] = [ 0.1 , 0.1 , 0.8 , 0.0  , 0.0 ]\n",
        "q_df.loc[ states[3] ] = [ 0.0  , 0.0 , 0.0  , 0.0  , 0.0  ]\n",
        "q_df.loc[ states[4] ] = [ 0.0  , 0.0, 1.0 , 0.0  , 0.0  ]\n",
        "print ( q_df )\n"
      ],
      "metadata": {
        "id": "pXqc2w5-l0Le",
        "colab": {
          "base_uri": "https://localhost:8080/"
        },
        "outputId": "a98a1be5-b9fb-4dfb-9172-4dec7ecabd1a"
      },
      "execution_count": null,
      "outputs": [
        {
          "output_type": "stream",
          "name": "stdout",
          "text": [
            "     O1   O2   O3 O4 O5\n",
            "O1    0    0    0  0  1\n",
            "O2    0    0    1  0  0\n",
            "O3  0.1  0.1  0.8  0  0\n",
            "O4    0    0    0  0  0\n",
            "O5    0    0    1  0  0\n"
          ]
        }
      ]
    },
    {
      "cell_type": "code",
      "source": [
        "#create state space and initial state probabilities\n",
        "hidden_states = [ 'S1' , 'S2' , 'S3' , 'S4', 'S5']\n",
        "pi = [ 2/14 , 2/14 , 4/14, 4/14 , 2/14 ]\n",
        "print ( '\\n' )\n",
        "state_space = pd.Series ( pi , index = hidden_states , name='states')\n",
        "print (state_space)\n",
        "print('\\n')\n",
        "print(state_space.sum())"
      ],
      "metadata": {
        "id": "ccCNEqOEl0Lf",
        "colab": {
          "base_uri": "https://localhost:8080/"
        },
        "outputId": "1d0c5507-c074-4265-cdf5-f9ff4c8cdac3"
      },
      "execution_count": null,
      "outputs": [
        {
          "output_type": "stream",
          "name": "stdout",
          "text": [
            "\n",
            "\n",
            "S1    0.142857\n",
            "S2    0.142857\n",
            "S3    0.285714\n",
            "S4    0.285714\n",
            "S5    0.142857\n",
            "Name: states, dtype: float64\n",
            "\n",
            "\n",
            "1.0\n"
          ]
        }
      ]
    },
    {
      "cell_type": "code",
      "source": [
        "#create hidden transition matrix\n",
        "#a or alpha = transition probability matrix of changing states given a state\n",
        "#matrix is size (M x M) where M is number of states\n",
        "\n",
        "a_df = pd.DataFrame(columns = hidden_states , index=hidden_states )\n",
        "a_df.loc[ hidden_states[ 0 ] ] = [ 0.5 , 0.0 , 0.0 , 0.5 , 0.0 ]\n",
        "a_df.loc[ hidden_states[ 1 ] ] = [ 0.0 , 0.5 , 0.0 , 0.5 , 0.0 ]\n",
        "a_df.loc[ hidden_states[ 2 ] ] = [ 0.25 , 0.0 , 0.25 , 0.25, 0.25 ]\n",
        "a_df.loc[ hidden_states[ 3 ] ] = [ 0.0 , 0.0 , 0.67 , 0.33 , 0.0 ]\n",
        "a_df.loc[ hidden_states[ 4 ] ] = [ 0.0 , 0.5 , 0.5 , 0.0 , 0.0 ]\n",
        "print ( a_df )\n"
      ],
      "metadata": {
        "id": "Ipq41eRxl0Lf",
        "colab": {
          "base_uri": "https://localhost:8080/"
        },
        "outputId": "e3d99dd1-c893-4390-9ec9-c332eb9885f0"
      },
      "execution_count": null,
      "outputs": [
        {
          "output_type": "stream",
          "name": "stdout",
          "text": [
            "      S1   S2    S3    S4    S5\n",
            "S1   0.5    0     0   0.5     0\n",
            "S2     0  0.5     0   0.5     0\n",
            "S3  0.25    0  0.25  0.25  0.25\n",
            "S4     0    0  0.67  0.33     0\n",
            "S5     0  0.5   0.5     0     0\n"
          ]
        }
      ]
    },
    {
      "cell_type": "code",
      "source": [
        "a = a_df.values\n",
        "print ( a )\n",
        "print ( '\\n')\n",
        "print ( a.shape )\n",
        "print ( '\\n ')\n",
        "print ( a_df.sum( axis = 1))\n"
      ],
      "metadata": {
        "id": "vysKklRtl0Lf",
        "colab": {
          "base_uri": "https://localhost:8080/"
        },
        "outputId": "8c39f8a1-4929-4bae-c181-3954f9523727"
      },
      "execution_count": null,
      "outputs": [
        {
          "output_type": "stream",
          "name": "stdout",
          "text": [
            "[[0.5 0.0 0.0 0.5 0.0]\n",
            " [0.0 0.5 0.0 0.5 0.0]\n",
            " [0.25 0.0 0.25 0.25 0.25]\n",
            " [0.0 0.0 0.67 0.33 0.0]\n",
            " [0.0 0.5 0.5 0.0 0.0]]\n",
            "\n",
            "\n",
            "(5, 5)\n",
            "\n",
            " \n",
            "S1    1.0\n",
            "S2    1.0\n",
            "S3    1.0\n",
            "S4    1.0\n",
            "S5    1.0\n",
            "dtype: float64\n"
          ]
        }
      ]
    },
    {
      "cell_type": "code",
      "source": [
        "#create matrix of observation (emission) probabilities\n",
        "#b or beta = observation probabilities given state\n",
        "#matrix is size (M x O) where M is number of states\n",
        "# and O is number of different possible observations\n",
        "\n",
        "observable_states = states\n",
        "b_df = pd.DataFrame(columns = observable_states , index=hidden_states )\n",
        "b_df.loc[ hidden_states[ 0 ] ] = [ 0.0 , 0.0 , 1.0 , 0.0 , 0.0 ]\n",
        "b_df.loc[ hidden_states[ 1 ] ] = [ 0.0 , 0.0 , 1.0 , 0.0 , 0.0 ]\n",
        "b_df.loc[ hidden_states[ 2 ] ] = [ 0.0 , 0.0 , 1.0 , 0.0 , 0.0 ]\n",
        "b_df.loc[ hidden_states[ 3 ] ] = [ 0.25 , 0.0 , 0.5 , 0.0 , 0.25 ]\n",
        "b_df.loc[ hidden_states[ 4 ] ] = [ 0.0 , 0.5 , 0.5 , 0.0 , 0.0 ]\n",
        "print ( b_df )\n"
      ],
      "metadata": {
        "id": "e27-64wJl0Lf",
        "colab": {
          "base_uri": "https://localhost:8080/"
        },
        "outputId": "6f8582b4-55c0-4ea6-d2ca-68af47a696e8"
      },
      "execution_count": null,
      "outputs": [
        {
          "output_type": "stream",
          "name": "stdout",
          "text": [
            "      O1   O2   O3 O4    O5\n",
            "S1     0    0    1  0     0\n",
            "S2     0    0    1  0     0\n",
            "S3     0    0    1  0     0\n",
            "S4  0.25    0  0.5  0  0.25\n",
            "S5     0  0.5  0.5  0     0\n"
          ]
        }
      ]
    },
    {
      "cell_type": "code",
      "source": [
        "b = b_df.values\n",
        "\n",
        "print ( b )\n",
        "print( '\\n' )\n",
        "print ( b.shape )\n",
        "print ( '\\n' )\n",
        "print ( b_df.sum( axis = 1))\n"
      ],
      "metadata": {
        "id": "O6_qMmXfl0Lg",
        "colab": {
          "base_uri": "https://localhost:8080/"
        },
        "outputId": "86b50dd3-77ab-4bff-c0c5-4d1c8c480f25"
      },
      "execution_count": null,
      "outputs": [
        {
          "output_type": "stream",
          "name": "stdout",
          "text": [
            "[[0.0 0.0 1.0 0.0 0.0]\n",
            " [0.0 0.0 1.0 0.0 0.0]\n",
            " [0.0 0.0 1.0 0.0 0.0]\n",
            " [0.25 0.0 0.5 0.0 0.25]\n",
            " [0.0 0.5 0.5 0.0 0.0]]\n",
            "\n",
            "\n",
            "(5, 5)\n",
            "\n",
            "\n",
            "S1    1.0\n",
            "S2    1.0\n",
            "S3    1.0\n",
            "S4    1.0\n",
            "S5    1.0\n",
            "dtype: float64\n"
          ]
        }
      ]
    },
    {
      "cell_type": "code",
      "source": [
        "#create edge labels\n",
        "#emit_edge_labels = {(n1,n2):d['label'] for n1,n2,d in G.edges(data = True)}\n",
        "#nx.draw_networkx_edge_labels(G, pos, edge_labels = emit_edge_labels)\n",
        "#plt .show()\n",
        "#nx.drawing.nx_pydot.write dot(G, 'hidden markov.dot')\n",
        "\n",
        "# observation sequence of dog's behaviors \n",
        "# observations are encoded numerically\n",
        "\n",
        "obs_map = {'O1':0, 'O2':1, 'O3':2, 'O4':3, 'O5':4}\n",
        "obs = np.array([2, 2, 2, 0, 4, 2, 2, 2, 2, 1, 2, 2, 2, 2])\n",
        "\n",
        "inv_obs_map = dict((v,k) for k, v in obs_map.items())\n",
        "obs_seq = [inv_obs_map[v] for v in list(obs)]\n",
        "\n",
        "print(pd.DataFrame(np.column_stack([obs, obs_seq]),\n",
        "                   columns = ['Obs_code', 'Obs_seq']))\n",
        "\n"
      ],
      "metadata": {
        "id": "Ag79k07cl0Lg",
        "colab": {
          "base_uri": "https://localhost:8080/"
        },
        "outputId": "bbf6ad9c-d3d5-4be4-a406-1eabe4efd1e1"
      },
      "execution_count": null,
      "outputs": [
        {
          "output_type": "stream",
          "name": "stdout",
          "text": [
            "   Obs_code Obs_seq\n",
            "0         2      O3\n",
            "1         2      O3\n",
            "2         2      O3\n",
            "3         0      O1\n",
            "4         4      O5\n",
            "5         2      O3\n",
            "6         2      O3\n",
            "7         2      O3\n",
            "8         2      O3\n",
            "9         1      O2\n",
            "10        2      O3\n",
            "11        2      O3\n",
            "12        2      O3\n",
            "13        2      O3\n"
          ]
        }
      ]
    },
    {
      "cell_type": "code",
      "source": [
        "# create graph object\n",
        "G = nx.MultiDiGraph()\n",
        "\n",
        "# nodes correspond to states\n",
        "G.add_nodes_from(hidden_states)\n",
        "print(f'Nodes:\\n{G.nodes()}\\n')\n",
        "\n",
        "# edges represent hidden probabilities\n",
        "for k, v in hide_edges_wts.items():\n",
        "    tmp_origin, tmp_destination = k[0], k[1]\n",
        "    G.add_edge(tmp_origin, tmp_destination, weight=v, label=v)\n",
        "\n",
        "# edges represent emission probabilities\n",
        "for k, v in emit_edges_wts.items():\n",
        "    tmp_origin, tmp_destination = k[0], k[1]\n",
        "    G.add_edge(tmp_origin, tmp_destination, weight=v, label=v)\n",
        "    \n",
        "print(f'Edges:')\n",
        "pprint(G.edges(data=True))    \n",
        "\n",
        "pos = nx.drawing.nx_pydot.graphviz_layout(G, prog='neato')\n",
        "nx.draw_networkx(G, pos)\n",
        "\n",
        "# create edge labels for jupyter plot but is not necessary\n",
        "emit_edge_labels = {(n1,n2):d['label'] for n1,n2,d in G.edges(data=True)}\n",
        "nx.draw_networkx_edge_labels(G , pos, edge_labels=emit_edge_labels)\n",
        "nx.drawing.nx_pydot.write_dot(G, 'pet_dog_hidden_markov.dot')"
      ],
      "metadata": {
        "id": "Ohk-QGLgl0Lg",
        "colab": {
          "base_uri": "https://localhost:8080/",
          "height": 437
        },
        "outputId": "1fabee78-ffc8-429e-a7fc-df99792e5719"
      },
      "execution_count": null,
      "outputs": [
        {
          "output_type": "stream",
          "name": "stdout",
          "text": [
            "Nodes:\n",
            "['S1', 'S2', 'S3', 'S4', 'S5']\n",
            "\n",
            "Edges:\n",
            "OutMultiEdgeDataView([('S1', 'S1', {'weight': 0.5, 'label': 0.5}), ('S1', 'S2', {'weight': 0.0, 'label': 0.0}), ('S1', 'S3', {'weight': 0.0, 'label': 0.0}), ('S1', 'S4', {'weight': 0.5, 'label': 0.5}), ('S1', 'S5', {'weight': 0.0, 'label': 0.0}), ('S1', 'O1', {'weight': 0.0, 'label': 0.0}), ('S1', 'O2', {'weight': 0.5, 'label': 0.5}), ('S1', 'O3', {'weight': 0.0, 'label': 0.0}), ('S1', 'O4', {'weight': 0.0, 'label': 0.0}), ('S1', 'O5', {'weight': 0.5, 'label': 0.5}), ('S2', 'S1', {'weight': 0.0, 'label': 0.0}), ('S2', 'S2', {'weight': 0.5, 'label': 0.5}), ('S2', 'S3', {'weight': 0.0, 'label': 0.0}), ('S2', 'S4', {'weight': 0.5, 'label': 0.5}), ('S2', 'S5', {'weight': 0.0, 'label': 0.0}), ('S2', 'O1', {'weight': 0.0, 'label': 0.0}), ('S2', 'O2', {'weight': 0.0, 'label': 0.0}), ('S2', 'O3', {'weight': 0.5, 'label': 0.5}), ('S2', 'O4', {'weight': 0.0, 'label': 0.0}), ('S2', 'O5', {'weight': 0.5, 'label': 0.5}), ('S3', 'S1', {'weight': 0.25, 'label': 0.25}), ('S3', 'S2', {'weight': 0.0, 'label': 0.0}), ('S3', 'S3', {'weight': 0.25, 'label': 0.25}), ('S3', 'S4', {'weight': 0.25, 'label': 0.25}), ('S3', 'S5', {'weight': 0.25, 'label': 0.25}), ('S3', 'O1', {'weight': 0.0, 'label': 0.0}), ('S3', 'O2', {'weight': 0.0, 'label': 0.0}), ('S3', 'O3', {'weight': 0.5, 'label': 0.5}), ('S3', 'O4', {'weight': 0.5, 'label': 0.5}), ('S3', 'O5', {'weight': 0.0, 'label': 0.0}), ('S4', 'S1', {'weight': 0.0, 'label': 0.0}), ('S4', 'S2', {'weight': 0.0, 'label': 0.0}), ('S4', 'S3', {'weight': 0.67, 'label': 0.67}), ('S4', 'S4', {'weight': 0.33, 'label': 0.33}), ('S4', 'S5', {'weight': 0.0, 'label': 0.0}), ('S4', 'O1', {'weight': 0.5, 'label': 0.5}), ('S4', 'O2', {'weight': 0.0, 'label': 0.0}), ('S4', 'O3', {'weight': 0.0, 'label': 0.0}), ('S4', 'O4', {'weight': 0.25, 'label': 0.25}), ('S4', 'O5', {'weight': 0.25, 'label': 0.25}), ('S5', 'S1', {'weight': 0.0, 'label': 0.0}), ('S5', 'S2', {'weight': 0.5, 'label': 0.5}), ('S5', 'S3', {'weight': 0.5, 'label': 0.5}), ('S5', 'S4', {'weight': 0.0, 'label': 0.0}), ('S5', 'S5', {'weight': 0.0, 'label': 0.0}), ('S5', 'O1', {'weight': 0.5, 'label': 0.5}), ('S5', 'O2', {'weight': 0.5, 'label': 0.5}), ('S5', 'O3', {'weight': 0.0, 'label': 0.0}), ('S5', 'O4', {'weight': 0.0, 'label': 0.0}), ('S5', 'O5', {'weight': 0.0, 'label': 0.0})])\n"
          ]
        },
        {
          "output_type": "display_data",
          "data": {
            "image/png": "[encoded data removed]",
            "text/plain": [
              "<Figure size 576x396 with 1 Axes>"
            ]
          },
          "metadata": {}
        }
      ]
    },
    {
      "cell_type": "code",
      "source": [
        "def viterbi(pi, a, b, obs):\n",
        "    \n",
        "    nStates = np.shape(b)[0]\n",
        "    T = np.shape(obs)[0]\n",
        "    \n",
        "    # init blank path\n",
        "    path = np.zeros(T)\n",
        "    # delta --> highest probability of any path that reaches state i\n",
        "    delta = np.zeros((nStates, T))\n",
        "    # phi --> argmax by time step for each state\n",
        "    phi = np.zeros((nStates, T))\n",
        "    \n",
        "    # init delta and phi \n",
        "    delta[:, 0] = pi*b[:, obs[0]]\n",
        "    phi[:, 0] = 0\n",
        "\n",
        "    print('\\nStart Walk Forward\\n')    \n",
        "    # the forward algorithm extension\n",
        "    for t in range(1, T):\n",
        "        for s in range(nStates):\n",
        "            delta[s, t] = np.max(delta[:, t-1] * a[:, s]) * b[s, obs[t]] \n",
        "            phi[s, t] = np.argmax(delta[:, t-1] * a[:, s])\n",
        "            print('s={s} and t={t}: phi[{s}, {t}] = {phi}'.format(s=s, t=t, phi=phi[s, t]))\n",
        "    \n",
        "    # find optimal path\n",
        "    print('-'*50)\n",
        "    print('Start Backtrace\\n')\n",
        "    path[T-1] = np.argmax(delta[:, T-1])\n",
        "    #p('init path\\n    t={} path[{}-1]={}\\n'.format(T-1, T, path[T-1]))\n",
        "    for t in range(T-2, -1, -1):\n",
        "        #path[t] = phi[path[t+1], [t+1]]\n",
        "        path[t] = phi[int(path[t+1]) , int(t+1)] \n",
        "        #p(' '*4 + 't={t}, path[{t}+1]={path}, [{t}+1]={i}'.format(t=t, path=path[t+1], i=[t+1]))\n",
        "        print('path[{}] = {}'.format(t, path[t]))\n",
        "        \n",
        "    return path, delta, phi\n",
        "\n",
        "path, delta, phi = viterbi(pi, a, b, obs)\n",
        "print('\\nsingle best state path: \\n', path)\n",
        "print('delta:\\n', delta)\n",
        "print('phi:\\n', phi)"
      ],
      "metadata": {
        "colab": {
          "base_uri": "https://localhost:8080/"
        },
        "id": "uV2P8yCMsL2h",
        "outputId": "b7f74f78-e8ce-4ded-b694-6cdc4565cf1a"
      },
      "execution_count": null,
      "outputs": [
        {
          "output_type": "stream",
          "name": "stdout",
          "text": [
            "\n",
            "Start Walk Forward\n",
            "\n",
            "s=0 and t=1: phi[0, 1] = 0.0\n",
            "s=1 and t=1: phi[1, 1] = 1.0\n",
            "s=2 and t=1: phi[2, 1] = 3.0\n",
            "s=3 and t=1: phi[3, 1] = 0.0\n",
            "s=4 and t=1: phi[4, 1] = 2.0\n",
            "s=0 and t=2: phi[0, 2] = 0.0\n",
            "s=1 and t=2: phi[1, 2] = 1.0\n",
            "s=2 and t=2: phi[2, 2] = 2.0\n",
            "s=3 and t=2: phi[3, 2] = 0.0\n",
            "s=4 and t=2: phi[4, 2] = 2.0\n",
            "s=0 and t=3: phi[0, 3] = 0.0\n",
            "s=1 and t=3: phi[1, 3] = 1.0\n",
            "s=2 and t=3: phi[2, 3] = 3.0\n",
            "s=3 and t=3: phi[3, 3] = 0.0\n",
            "s=4 and t=3: phi[4, 3] = 2.0\n",
            "s=0 and t=4: phi[0, 4] = 0.0\n",
            "s=1 and t=4: phi[1, 4] = 0.0\n",
            "s=2 and t=4: phi[2, 4] = 3.0\n",
            "s=3 and t=4: phi[3, 4] = 3.0\n",
            "s=4 and t=4: phi[4, 4] = 0.0\n",
            "s=0 and t=5: phi[0, 5] = 0.0\n",
            "s=1 and t=5: phi[1, 5] = 0.0\n",
            "s=2 and t=5: phi[2, 5] = 3.0\n",
            "s=3 and t=5: phi[3, 5] = 3.0\n",
            "s=4 and t=5: phi[4, 5] = 0.0\n",
            "s=0 and t=6: phi[0, 6] = 2.0\n",
            "s=1 and t=6: phi[1, 6] = 0.0\n",
            "s=2 and t=6: phi[2, 6] = 2.0\n",
            "s=3 and t=6: phi[3, 6] = 2.0\n",
            "s=4 and t=6: phi[4, 6] = 2.0\n",
            "s=0 and t=7: phi[0, 7] = 0.0\n",
            "s=1 and t=7: phi[1, 7] = 4.0\n",
            "s=2 and t=7: phi[2, 7] = 3.0\n",
            "s=3 and t=7: phi[3, 7] = 0.0\n",
            "s=4 and t=7: phi[4, 7] = 2.0\n",
            "s=0 and t=8: phi[0, 8] = 0.0\n",
            "s=1 and t=8: phi[1, 8] = 1.0\n",
            "s=2 and t=8: phi[2, 8] = 3.0\n",
            "s=3 and t=8: phi[3, 8] = 0.0\n",
            "s=4 and t=8: phi[4, 8] = 2.0\n",
            "s=0 and t=9: phi[0, 9] = 0.0\n",
            "s=1 and t=9: phi[1, 9] = 1.0\n",
            "s=2 and t=9: phi[2, 9] = 3.0\n",
            "s=3 and t=9: phi[3, 9] = 0.0\n",
            "s=4 and t=9: phi[4, 9] = 2.0\n",
            "s=0 and t=10: phi[0, 10] = 0.0\n",
            "s=1 and t=10: phi[1, 10] = 4.0\n",
            "s=2 and t=10: phi[2, 10] = 4.0\n",
            "s=3 and t=10: phi[3, 10] = 0.0\n",
            "s=4 and t=10: phi[4, 10] = 0.0\n",
            "s=0 and t=11: phi[0, 11] = 2.0\n",
            "s=1 and t=11: phi[1, 11] = 1.0\n",
            "s=2 and t=11: phi[2, 11] = 2.0\n",
            "s=3 and t=11: phi[3, 11] = 1.0\n",
            "s=4 and t=11: phi[4, 11] = 2.0\n",
            "s=0 and t=12: phi[0, 12] = 0.0\n",
            "s=1 and t=12: phi[1, 12] = 1.0\n",
            "s=2 and t=12: phi[2, 12] = 3.0\n",
            "s=3 and t=12: phi[3, 12] = 1.0\n",
            "s=4 and t=12: phi[4, 12] = 2.0\n",
            "s=0 and t=13: phi[0, 13] = 0.0\n",
            "s=1 and t=13: phi[1, 13] = 1.0\n",
            "s=2 and t=13: phi[2, 13] = 3.0\n",
            "s=3 and t=13: phi[3, 13] = 1.0\n",
            "s=4 and t=13: phi[4, 13] = 2.0\n",
            "--------------------------------------------------\n",
            "Start Backtrace\n",
            "\n",
            "path[12] = 1.0\n",
            "path[11] = 1.0\n",
            "path[10] = 1.0\n",
            "path[9] = 4.0\n",
            "path[8] = 2.0\n",
            "path[7] = 3.0\n",
            "path[6] = 0.0\n",
            "path[5] = 2.0\n",
            "path[4] = 3.0\n",
            "path[3] = 3.0\n",
            "path[2] = 0.0\n",
            "path[1] = 0.0\n",
            "path[0] = 0.0\n",
            "\n",
            "single best state path: \n",
            " [0. 0. 0. 3. 3. 2. 0. 3. 2. 4. 1. 1. 1. 1.]\n",
            "delta:\n",
            " [[1.42857143e-01 7.14285714e-02 3.57142857e-02 0.00000000e+00\n",
            "  0.00000000e+00 0.00000000e+00 6.16908482e-05 3.08454241e-05\n",
            "  1.54227121e-05 0.00000000e+00 0.00000000e+00 1.61456517e-07\n",
            "  8.07282584e-08 4.03641292e-08]\n",
            " [1.42857143e-01 7.14285714e-02 3.57142857e-02 0.00000000e+00\n",
            "  0.00000000e+00 0.00000000e+00 0.00000000e+00 1.54227121e-05\n",
            "  7.71135603e-06 0.00000000e+00 6.45826067e-07 3.22913034e-07\n",
            "  1.61456517e-07 8.07282584e-08]\n",
            " [2.85714286e-01 9.57142857e-02 2.39285714e-02 0.00000000e+00\n",
            "  0.00000000e+00 2.46763393e-04 6.16908482e-05 2.06664342e-05\n",
            "  1.03332171e-05 0.00000000e+00 6.45826067e-07 1.61456517e-07\n",
            "  1.08175866e-07 5.40879331e-08]\n",
            " [1.42857143e-01 3.57142857e-02 1.78571429e-02 4.46428571e-03\n",
            "  3.68303571e-04 6.07700893e-05 3.08454241e-05 1.54227121e-05\n",
            "  7.71135603e-06 0.00000000e+00 0.00000000e+00 1.61456517e-07\n",
            "  8.07282584e-08 4.03641292e-08]\n",
            " [7.14285714e-02 3.57142857e-02 1.19642857e-02 0.00000000e+00\n",
            "  0.00000000e+00 0.00000000e+00 3.08454241e-05 7.71135603e-06\n",
            "  2.58330427e-06 1.29165213e-06 0.00000000e+00 8.07282584e-08\n",
            "  2.01820646e-08 1.35219833e-08]]\n",
            "phi:\n",
            " [[0. 0. 0. 0. 0. 0. 2. 0. 0. 0. 0. 2. 0. 0.]\n",
            " [0. 1. 1. 1. 0. 0. 0. 4. 1. 1. 4. 1. 1. 1.]\n",
            " [0. 3. 2. 3. 3. 3. 2. 3. 3. 3. 4. 2. 3. 3.]\n",
            " [0. 0. 0. 0. 3. 3. 2. 0. 0. 0. 0. 1. 1. 1.]\n",
            " [0. 2. 2. 2. 0. 0. 2. 2. 2. 2. 0. 2. 2. 2.]]\n"
          ]
        }
      ]
    },
    {
      "cell_type": "code",
      "source": [
        "state_map = {0:'S1', 1:'S2', 2:'S3', 3:'S4', 4:'S5'}\n",
        "state_path = [state_map[v] for v in path]\n",
        "\n",
        "(pd.DataFrame()\n",
        " .assign(Observation=obs_seq)\n",
        " .assign(Best_Path=state_path))"
      ],
      "metadata": {
        "id": "5rRMUFDzl0Lh",
        "colab": {
          "base_uri": "https://localhost:8080/",
          "height": 488
        },
        "outputId": "9a506b63-645c-480e-fbd1-b3ccff926340"
      },
      "execution_count": null,
      "outputs": [
        {
          "output_type": "execute_result",
          "data": {
            "text/html": [
              "\n",
              "  <div id=\"df-7f10e32c-aa4d-44a5-be51-5e2545be49a2\">\n",
              "    <div class=\"colab-df-container\">\n",
              "      <div>\n",
              "<style scoped>\n",
              "    .dataframe tbody tr th:only-of-type {\n",
              "        vertical-align: middle;\n",
              "    }\n",
              "\n",
              "    .dataframe tbody tr th {\n",
              "        vertical-align: top;\n",
              "    }\n",
              "\n",
              "    .dataframe thead th {\n",
              "        text-align: right;\n",
              "    }\n",
              "</style>\n",
              "<table border=\"1\" class=\"dataframe\">\n",
              "  <thead>\n",
              "    <tr style=\"text-align: right;\">\n",
              "      <th></th>\n",
              "      <th>Observation</th>\n",
              "      <th>Best_Path</th>\n",
              "    </tr>\n",
              "  </thead>\n",
              "  <tbody>\n",
              "    <tr>\n",
              "      <th>0</th>\n",
              "      <td>O3</td>\n",
              "      <td>S1</td>\n",
              "    </tr>\n",
              "    <tr>\n",
              "      <th>1</th>\n",
              "      <td>O3</td>\n",
              "      <td>S1</td>\n",
              "    </tr>\n",
              "    <tr>\n",
              "      <th>2</th>\n",
              "      <td>O3</td>\n",
              "      <td>S1</td>\n",
              "    </tr>\n",
              "    <tr>\n",
              "      <th>3</th>\n",
              "      <td>O1</td>\n",
              "      <td>S4</td>\n",
              "    </tr>\n",
              "    <tr>\n",
              "      <th>4</th>\n",
              "      <td>O5</td>\n",
              "      <td>S4</td>\n",
              "    </tr>\n",
              "    <tr>\n",
              "      <th>5</th>\n",
              "      <td>O3</td>\n",
              "      <td>S3</td>\n",
              "    </tr>\n",
              "    <tr>\n",
              "      <th>6</th>\n",
              "      <td>O3</td>\n",
              "      <td>S1</td>\n",
              "    </tr>\n",
              "    <tr>\n",
              "      <th>7</th>\n",
              "      <td>O3</td>\n",
              "      <td>S4</td>\n",
              "    </tr>\n",
              "    <tr>\n",
              "      <th>8</th>\n",
              "      <td>O3</td>\n",
              "      <td>S3</td>\n",
              "    </tr>\n",
              "    <tr>\n",
              "      <th>9</th>\n",
              "      <td>O2</td>\n",
              "      <td>S5</td>\n",
              "    </tr>\n",
              "    <tr>\n",
              "      <th>10</th>\n",
              "      <td>O3</td>\n",
              "      <td>S2</td>\n",
              "    </tr>\n",
              "    <tr>\n",
              "      <th>11</th>\n",
              "      <td>O3</td>\n",
              "      <td>S2</td>\n",
              "    </tr>\n",
              "    <tr>\n",
              "      <th>12</th>\n",
              "      <td>O3</td>\n",
              "      <td>S2</td>\n",
              "    </tr>\n",
              "    <tr>\n",
              "      <th>13</th>\n",
              "      <td>O3</td>\n",
              "      <td>S2</td>\n",
              "    </tr>\n",
              "  </tbody>\n",
              "</table>\n",
              "</div>\n",
              "      <button class=\"colab-df-convert\" onclick=\"convertToInteractive('df-7f10e32c-aa4d-44a5-be51-5e2545be49a2')\"\n",
              "              title=\"Convert this dataframe to an interactive table.\"\n",
              "              style=\"display:none;\">\n",
              "        \n",
              "  <svg xmlns=\"http://www.w3.org/2000/svg\" height=\"24px\"viewBox=\"0 0 24 24\"\n",
              "       width=\"24px\">\n",
              "    <path d=\"M0 0h24v24H0V0z\" fill=\"none\"/>\n",
              "    <path d=\"M18.56 5.44l.94 2.06.94-2.06 2.06-.94-2.06-.94-.94-2.06-.94 2.06-2.06.94zm-11 1L8.5 8.5l.94-2.06 2.06-.94-2.06-.94L8.5 2.5l-.94 2.06-2.06.94zm10 10l.94 2.06.94-2.06 2.06-.94-2.06-.94-.94-2.06-.94 2.06-2.06.94z\"/><path d=\"M17.41 7.96l-1.37-1.37c-.4-.4-.92-.59-1.43-.59-.52 0-1.04.2-1.43.59L10.3 9.45l-7.72 7.72c-.78.78-.78 2.05 0 2.83L4 21.41c.39.39.9.59 1.41.59.51 0 1.02-.2 1.41-.59l7.78-7.78 2.81-2.81c.8-.78.8-2.07 0-2.86zM5.41 20L4 18.59l7.72-7.72 1.47 1.35L5.41 20z\"/>\n",
              "  </svg>\n",
              "      </button>\n",
              "      \n",
              "  <style>\n",
              "    .colab-df-container {\n",
              "      display:flex;\n",
              "      flex-wrap:wrap;\n",
              "      gap: 12px;\n",
              "    }\n",
              "\n",
              "    .colab-df-convert {\n",
              "      background-color: #E8F0FE;\n",
              "      border: none;\n",
              "      border-radius: 50%;\n",
              "      cursor: pointer;\n",
              "      display: none;\n",
              "      fill: #1967D2;\n",
              "      height: 32px;\n",
              "      padding: 0 0 0 0;\n",
              "      width: 32px;\n",
              "    }\n",
              "\n",
              "    .colab-df-convert:hover {\n",
              "      background-color: #E2EBFA;\n",
              "      box-shadow: 0px 1px 2px rgba(60, 64, 67, 0.3), 0px 1px 3px 1px rgba(60, 64, 67, 0.15);\n",
              "      fill: #174EA6;\n",
              "    }\n",
              "\n",
              "    [theme=dark] .colab-df-convert {\n",
              "      background-color: #3B4455;\n",
              "      fill: #D2E3FC;\n",
              "    }\n",
              "\n",
              "    [theme=dark] .colab-df-convert:hover {\n",
              "      background-color: #434B5C;\n",
              "      box-shadow: 0px 1px 3px 1px rgba(0, 0, 0, 0.15);\n",
              "      filter: drop-shadow(0px 1px 2px rgba(0, 0, 0, 0.3));\n",
              "      fill: #FFFFFF;\n",
              "    }\n",
              "  </style>\n",
              "\n",
              "      <script>\n",
              "        const buttonEl =\n",
              "          document.querySelector('#df-7f10e32c-aa4d-44a5-be51-5e2545be49a2 button.colab-df-convert');\n",
              "        buttonEl.style.display =\n",
              "          google.colab.kernel.accessAllowed ? 'block' : 'none';\n",
              "\n",
              "        async function convertToInteractive(key) {\n",
              "          const element = document.querySelector('#df-7f10e32c-aa4d-44a5-be51-5e2545be49a2');\n",
              "          const dataTable =\n",
              "            await google.colab.kernel.invokeFunction('convertToInteractive',\n",
              "                                                     [key], {});\n",
              "          if (!dataTable) return;\n",
              "\n",
              "          const docLinkHtml = 'Like what you see? Visit the ' +\n",
              "            '<a target=\"_blank\" href=https://colab.research.google.com/notebooks/data_table.ipynb>data table notebook</a>'\n",
              "            + ' to learn more about interactive tables.';\n",
              "          element.innerHTML = '';\n",
              "          dataTable['output_type'] = 'display_data';\n",
              "          await google.colab.output.renderOutput(dataTable, element);\n",
              "          const docLink = document.createElement('div');\n",
              "          docLink.innerHTML = docLinkHtml;\n",
              "          element.appendChild(docLink);\n",
              "        }\n",
              "      </script>\n",
              "    </div>\n",
              "  </div>\n",
              "  "
            ],
            "text/plain": [
              "   Observation Best_Path\n",
              "0           O3        S1\n",
              "1           O3        S1\n",
              "2           O3        S1\n",
              "3           O1        S4\n",
              "4           O5        S4\n",
              "5           O3        S3\n",
              "6           O3        S1\n",
              "7           O3        S4\n",
              "8           O3        S3\n",
              "9           O2        S5\n",
              "10          O3        S2\n",
              "11          O3        S2\n",
              "12          O3        S2\n",
              "13          O3        S2"
            ]
          },
          "metadata": {},
          "execution_count": 369
        }
      ]
    },
    {
      "cell_type": "markdown",
      "source": [
        "# KECEPATAN ANGIN"
      ],
      "metadata": {
        "id": "2paBUbgdn3us"
      }
    },
    {
      "cell_type": "code",
      "source": [
        "X = db['KecepatanAngin']\n",
        "Y = db['Wisatawan']\n",
        "S = np.zeros(14)\n",
        "for i in range (0,14):\n",
        "  S[i] = X[i+1]-X[i]\n",
        "print(S)"
      ],
      "metadata": {
        "id": "TqLq2jqoopJW",
        "colab": {
          "base_uri": "https://localhost:8080/"
        },
        "outputId": "ab9e95ab-54ba-4a96-a351-a3d89ccd8b3b"
      },
      "execution_count": null,
      "outputs": [
        {
          "output_type": "stream",
          "name": "stdout",
          "text": [
            "[ 0.55  0.01  0.09 -0.29  0.02  0.45  0.52 -1.1   0.37  0.57 -0.97  0.17\n",
            "  0.81 -0.61]\n"
          ]
        }
      ]
    },
    {
      "cell_type": "code",
      "source": [
        "Z = np.zeros(14)\n",
        "for i in range (0,14):\n",
        "  Z[i] = Y[i+1] - Y[i]\n",
        "print(Z)"
      ],
      "metadata": {
        "id": "JTULuIzoopJX",
        "colab": {
          "base_uri": "https://localhost:8080/"
        },
        "outputId": "bebedb6c-98ed-42e9-dbf0-1fe683359bd7"
      },
      "execution_count": null,
      "outputs": [
        {
          "output_type": "stream",
          "name": "stdout",
          "text": [
            "[ 1250722.  -524493.  -445158.   483562.   258567.  -306359.   576299.\n",
            "  -211859.  -234271.   735996.  -134712. -1327158. -1519192.   604404.]\n"
          ]
        }
      ]
    },
    {
      "cell_type": "code",
      "source": [
        "#interval Wisatawan\n",
        "\n",
        "for var in Z :\n",
        "  if var > -1519193 and var <= -965210:\n",
        "    print ('S1')\n",
        "  elif var > -965210 and var <= -411227:\n",
        "    print ('S2')\n",
        "  elif var > -411227 and var <= 142756:\n",
        "    print ('S3')\n",
        "  elif var > 142756 and var <= 696739:\n",
        "    print ('S4')\n",
        "  elif var > 696739 and var <= 1250722:\n",
        "    print ('S5')\n",
        "  else :\n",
        "    print ('not valid')"
      ],
      "metadata": {
        "id": "kCbKghpkopJX",
        "colab": {
          "base_uri": "https://localhost:8080/"
        },
        "outputId": "e092fbe4-1f06-42ef-84bc-89ad73cab36f"
      },
      "execution_count": null,
      "outputs": [
        {
          "output_type": "stream",
          "name": "stdout",
          "text": [
            "S5\n",
            "S2\n",
            "S2\n",
            "S4\n",
            "S4\n",
            "S3\n",
            "S4\n",
            "S3\n",
            "S3\n",
            "S5\n",
            "S3\n",
            "S1\n",
            "S1\n",
            "S4\n"
          ]
        }
      ]
    },
    {
      "cell_type": "code",
      "source": [
        " import pandas as pd\n",
        "transitions = [ 'S5','S2','S2','S4','S4','S3','S4','S3','S3','S5','S3',\n",
        "               'S1','S1','S4'] * 2"
      ],
      "metadata": {
        "id": "-bCcc9k_opJX"
      },
      "execution_count": null,
      "outputs": []
    },
    {
      "cell_type": "code",
      "source": [
        "df = pd.DataFrame (columns = [ 'state', 'next_state'])\n",
        "for i , val in enumerate(transitions[ : -1 ] ) :\n",
        "  df_stg = pd.DataFrame ( index =[0] )\n",
        "  df_stg [ 'state' ], df_stg [ 'next_state'] = transitions [i] ,transitions [i+1]\n",
        "\n",
        "df = pd.concat ([ df, df_stg ] , axis = 0 )\n",
        "cross_tab = pd.crosstab( df['state'] , df['next_state'])\n",
        "cross_tab.div ( cross_tab.sum(axis=1) , axis=0)"
      ],
      "metadata": {
        "id": "s7lEH6-iopJY",
        "colab": {
          "base_uri": "https://localhost:8080/",
          "height": 112
        },
        "outputId": "dbba61ad-a7bd-45d1-dd8c-48c0241bc818"
      },
      "execution_count": null,
      "outputs": [
        {
          "output_type": "execute_result",
          "data": {
            "text/html": [
              "\n",
              "  <div id=\"df-240d4ba5-23e6-4bf7-ac5e-cc9f8010292b\">\n",
              "    <div class=\"colab-df-container\">\n",
              "      <div>\n",
              "<style scoped>\n",
              "    .dataframe tbody tr th:only-of-type {\n",
              "        vertical-align: middle;\n",
              "    }\n",
              "\n",
              "    .dataframe tbody tr th {\n",
              "        vertical-align: top;\n",
              "    }\n",
              "\n",
              "    .dataframe thead th {\n",
              "        text-align: right;\n",
              "    }\n",
              "</style>\n",
              "<table border=\"1\" class=\"dataframe\">\n",
              "  <thead>\n",
              "    <tr style=\"text-align: right;\">\n",
              "      <th>next_state</th>\n",
              "      <th>S4</th>\n",
              "    </tr>\n",
              "    <tr>\n",
              "      <th>state</th>\n",
              "      <th></th>\n",
              "    </tr>\n",
              "  </thead>\n",
              "  <tbody>\n",
              "    <tr>\n",
              "      <th>S1</th>\n",
              "      <td>1.0</td>\n",
              "    </tr>\n",
              "  </tbody>\n",
              "</table>\n",
              "</div>\n",
              "      <button class=\"colab-df-convert\" onclick=\"convertToInteractive('df-240d4ba5-23e6-4bf7-ac5e-cc9f8010292b')\"\n",
              "              title=\"Convert this dataframe to an interactive table.\"\n",
              "              style=\"display:none;\">\n",
              "        \n",
              "  <svg xmlns=\"http://www.w3.org/2000/svg\" height=\"24px\"viewBox=\"0 0 24 24\"\n",
              "       width=\"24px\">\n",
              "    <path d=\"M0 0h24v24H0V0z\" fill=\"none\"/>\n",
              "    <path d=\"M18.56 5.44l.94 2.06.94-2.06 2.06-.94-2.06-.94-.94-2.06-.94 2.06-2.06.94zm-11 1L8.5 8.5l.94-2.06 2.06-.94-2.06-.94L8.5 2.5l-.94 2.06-2.06.94zm10 10l.94 2.06.94-2.06 2.06-.94-2.06-.94-.94-2.06-.94 2.06-2.06.94z\"/><path d=\"M17.41 7.96l-1.37-1.37c-.4-.4-.92-.59-1.43-.59-.52 0-1.04.2-1.43.59L10.3 9.45l-7.72 7.72c-.78.78-.78 2.05 0 2.83L4 21.41c.39.39.9.59 1.41.59.51 0 1.02-.2 1.41-.59l7.78-7.78 2.81-2.81c.8-.78.8-2.07 0-2.86zM5.41 20L4 18.59l7.72-7.72 1.47 1.35L5.41 20z\"/>\n",
              "  </svg>\n",
              "      </button>\n",
              "      \n",
              "  <style>\n",
              "    .colab-df-container {\n",
              "      display:flex;\n",
              "      flex-wrap:wrap;\n",
              "      gap: 12px;\n",
              "    }\n",
              "\n",
              "    .colab-df-convert {\n",
              "      background-color: #E8F0FE;\n",
              "      border: none;\n",
              "      border-radius: 50%;\n",
              "      cursor: pointer;\n",
              "      display: none;\n",
              "      fill: #1967D2;\n",
              "      height: 32px;\n",
              "      padding: 0 0 0 0;\n",
              "      width: 32px;\n",
              "    }\n",
              "\n",
              "    .colab-df-convert:hover {\n",
              "      background-color: #E2EBFA;\n",
              "      box-shadow: 0px 1px 2px rgba(60, 64, 67, 0.3), 0px 1px 3px 1px rgba(60, 64, 67, 0.15);\n",
              "      fill: #174EA6;\n",
              "    }\n",
              "\n",
              "    [theme=dark] .colab-df-convert {\n",
              "      background-color: #3B4455;\n",
              "      fill: #D2E3FC;\n",
              "    }\n",
              "\n",
              "    [theme=dark] .colab-df-convert:hover {\n",
              "      background-color: #434B5C;\n",
              "      box-shadow: 0px 1px 3px 1px rgba(0, 0, 0, 0.15);\n",
              "      filter: drop-shadow(0px 1px 2px rgba(0, 0, 0, 0.3));\n",
              "      fill: #FFFFFF;\n",
              "    }\n",
              "  </style>\n",
              "\n",
              "      <script>\n",
              "        const buttonEl =\n",
              "          document.querySelector('#df-240d4ba5-23e6-4bf7-ac5e-cc9f8010292b button.colab-df-convert');\n",
              "        buttonEl.style.display =\n",
              "          google.colab.kernel.accessAllowed ? 'block' : 'none';\n",
              "\n",
              "        async function convertToInteractive(key) {\n",
              "          const element = document.querySelector('#df-240d4ba5-23e6-4bf7-ac5e-cc9f8010292b');\n",
              "          const dataTable =\n",
              "            await google.colab.kernel.invokeFunction('convertToInteractive',\n",
              "                                                     [key], {});\n",
              "          if (!dataTable) return;\n",
              "\n",
              "          const docLinkHtml = 'Like what you see? Visit the ' +\n",
              "            '<a target=\"_blank\" href=https://colab.research.google.com/notebooks/data_table.ipynb>data table notebook</a>'\n",
              "            + ' to learn more about interactive tables.';\n",
              "          element.innerHTML = '';\n",
              "          dataTable['output_type'] = 'display_data';\n",
              "          await google.colab.output.renderOutput(dataTable, element);\n",
              "          const docLink = document.createElement('div');\n",
              "          docLink.innerHTML = docLinkHtml;\n",
              "          element.appendChild(docLink);\n",
              "        }\n",
              "      </script>\n",
              "    </div>\n",
              "  </div>\n",
              "  "
            ],
            "text/plain": [
              "next_state   S4\n",
              "state          \n",
              "S1          1.0"
            ]
          },
          "metadata": {},
          "execution_count": 374
        }
      ]
    },
    {
      "cell_type": "code",
      "source": [
        "for var in S :\n",
        "  if var > -1.15 and var <= -0.75:\n",
        "    print ( 'O1')\n",
        "  elif var > -0.75 and var <= -0.35 :\n",
        "    print ( 'O2' )\n",
        "  elif var > -0.35 and var <= 0.05:\n",
        "    print ( 'O3' )\n",
        "  elif var > 0.05 and var <= 0.45:\n",
        "    print ( 'O4' )\n",
        "  elif var > 0.45 and var <= 0.85:\n",
        "    print ( 'O5' )\n",
        "  else :\n",
        "    print ( 'not valid ' )"
      ],
      "metadata": {
        "id": "2Rukknt_opJY",
        "colab": {
          "base_uri": "https://localhost:8080/"
        },
        "outputId": "36dbad98-6d57-4247-e58d-4ba26fd6c8d5"
      },
      "execution_count": null,
      "outputs": [
        {
          "output_type": "stream",
          "name": "stdout",
          "text": [
            "O5\n",
            "O3\n",
            "O4\n",
            "O3\n",
            "O3\n",
            "O5\n",
            "O5\n",
            "O1\n",
            "O4\n",
            "O5\n",
            "O1\n",
            "O4\n",
            "O5\n",
            "O2\n"
          ]
        }
      ]
    },
    {
      "cell_type": "code",
      "source": [
        "#probabilitas transisi variable terobservasi\n",
        "import pandas as pd\n",
        "transitions = ['O5','O3' , 'O4' , 'O3' , 'O3' , 'O5' , 'O5' , 'O1' ,\n",
        "'O4' , 'O5' , 'O1' , 'O4' , 'O5' , 'O2' ] * 2\n"
      ],
      "metadata": {
        "id": "NqYPKitpopJY"
      },
      "execution_count": null,
      "outputs": []
    },
    {
      "cell_type": "code",
      "source": [
        "df = pd.DataFrame (columns = [ 'state', 'next_state'])\n",
        "for i , val in enumerate(transitions[ : -1 ] ) :\n",
        "  df_stg = pd.DataFrame ( index =[0] )\n",
        "  df_stg [ 'state' ], df_stg [ 'next_state'] = transitions [i] ,transitions [i+1]\n",
        "\n",
        "df = pd.concat ([ df, df_stg ] , axis = 0 )\n",
        "cross_tab = pd.crosstab( df['state'] , df['next_state'])\n",
        "cross_tab.div ( cross_tab.sum(axis=1) , axis=0)"
      ],
      "metadata": {
        "id": "SoRTcr-2opJZ",
        "colab": {
          "base_uri": "https://localhost:8080/",
          "height": 112
        },
        "outputId": "015684b1-708e-4996-81c9-376c0d739453"
      },
      "execution_count": null,
      "outputs": [
        {
          "output_type": "execute_result",
          "data": {
            "text/html": [
              "\n",
              "  <div id=\"df-cf7c1737-84e7-43f5-ac4e-52452a326221\">\n",
              "    <div class=\"colab-df-container\">\n",
              "      <div>\n",
              "<style scoped>\n",
              "    .dataframe tbody tr th:only-of-type {\n",
              "        vertical-align: middle;\n",
              "    }\n",
              "\n",
              "    .dataframe tbody tr th {\n",
              "        vertical-align: top;\n",
              "    }\n",
              "\n",
              "    .dataframe thead th {\n",
              "        text-align: right;\n",
              "    }\n",
              "</style>\n",
              "<table border=\"1\" class=\"dataframe\">\n",
              "  <thead>\n",
              "    <tr style=\"text-align: right;\">\n",
              "      <th>next_state</th>\n",
              "      <th>O2</th>\n",
              "    </tr>\n",
              "    <tr>\n",
              "      <th>state</th>\n",
              "      <th></th>\n",
              "    </tr>\n",
              "  </thead>\n",
              "  <tbody>\n",
              "    <tr>\n",
              "      <th>O5</th>\n",
              "      <td>1.0</td>\n",
              "    </tr>\n",
              "  </tbody>\n",
              "</table>\n",
              "</div>\n",
              "      <button class=\"colab-df-convert\" onclick=\"convertToInteractive('df-cf7c1737-84e7-43f5-ac4e-52452a326221')\"\n",
              "              title=\"Convert this dataframe to an interactive table.\"\n",
              "              style=\"display:none;\">\n",
              "        \n",
              "  <svg xmlns=\"http://www.w3.org/2000/svg\" height=\"24px\"viewBox=\"0 0 24 24\"\n",
              "       width=\"24px\">\n",
              "    <path d=\"M0 0h24v24H0V0z\" fill=\"none\"/>\n",
              "    <path d=\"M18.56 5.44l.94 2.06.94-2.06 2.06-.94-2.06-.94-.94-2.06-.94 2.06-2.06.94zm-11 1L8.5 8.5l.94-2.06 2.06-.94-2.06-.94L8.5 2.5l-.94 2.06-2.06.94zm10 10l.94 2.06.94-2.06 2.06-.94-2.06-.94-.94-2.06-.94 2.06-2.06.94z\"/><path d=\"M17.41 7.96l-1.37-1.37c-.4-.4-.92-.59-1.43-.59-.52 0-1.04.2-1.43.59L10.3 9.45l-7.72 7.72c-.78.78-.78 2.05 0 2.83L4 21.41c.39.39.9.59 1.41.59.51 0 1.02-.2 1.41-.59l7.78-7.78 2.81-2.81c.8-.78.8-2.07 0-2.86zM5.41 20L4 18.59l7.72-7.72 1.47 1.35L5.41 20z\"/>\n",
              "  </svg>\n",
              "      </button>\n",
              "      \n",
              "  <style>\n",
              "    .colab-df-container {\n",
              "      display:flex;\n",
              "      flex-wrap:wrap;\n",
              "      gap: 12px;\n",
              "    }\n",
              "\n",
              "    .colab-df-convert {\n",
              "      background-color: #E8F0FE;\n",
              "      border: none;\n",
              "      border-radius: 50%;\n",
              "      cursor: pointer;\n",
              "      display: none;\n",
              "      fill: #1967D2;\n",
              "      height: 32px;\n",
              "      padding: 0 0 0 0;\n",
              "      width: 32px;\n",
              "    }\n",
              "\n",
              "    .colab-df-convert:hover {\n",
              "      background-color: #E2EBFA;\n",
              "      box-shadow: 0px 1px 2px rgba(60, 64, 67, 0.3), 0px 1px 3px 1px rgba(60, 64, 67, 0.15);\n",
              "      fill: #174EA6;\n",
              "    }\n",
              "\n",
              "    [theme=dark] .colab-df-convert {\n",
              "      background-color: #3B4455;\n",
              "      fill: #D2E3FC;\n",
              "    }\n",
              "\n",
              "    [theme=dark] .colab-df-convert:hover {\n",
              "      background-color: #434B5C;\n",
              "      box-shadow: 0px 1px 3px 1px rgba(0, 0, 0, 0.15);\n",
              "      filter: drop-shadow(0px 1px 2px rgba(0, 0, 0, 0.3));\n",
              "      fill: #FFFFFF;\n",
              "    }\n",
              "  </style>\n",
              "\n",
              "      <script>\n",
              "        const buttonEl =\n",
              "          document.querySelector('#df-cf7c1737-84e7-43f5-ac4e-52452a326221 button.colab-df-convert');\n",
              "        buttonEl.style.display =\n",
              "          google.colab.kernel.accessAllowed ? 'block' : 'none';\n",
              "\n",
              "        async function convertToInteractive(key) {\n",
              "          const element = document.querySelector('#df-cf7c1737-84e7-43f5-ac4e-52452a326221');\n",
              "          const dataTable =\n",
              "            await google.colab.kernel.invokeFunction('convertToInteractive',\n",
              "                                                     [key], {});\n",
              "          if (!dataTable) return;\n",
              "\n",
              "          const docLinkHtml = 'Like what you see? Visit the ' +\n",
              "            '<a target=\"_blank\" href=https://colab.research.google.com/notebooks/data_table.ipynb>data table notebook</a>'\n",
              "            + ' to learn more about interactive tables.';\n",
              "          element.innerHTML = '';\n",
              "          dataTable['output_type'] = 'display_data';\n",
              "          await google.colab.output.renderOutput(dataTable, element);\n",
              "          const docLink = document.createElement('div');\n",
              "          docLink.innerHTML = docLinkHtml;\n",
              "          element.appendChild(docLink);\n",
              "        }\n",
              "      </script>\n",
              "    </div>\n",
              "  </div>\n",
              "  "
            ],
            "text/plain": [
              "next_state   O2\n",
              "state          \n",
              "O5          1.0"
            ]
          },
          "metadata": {},
          "execution_count": 377
        }
      ]
    },
    {
      "cell_type": "code",
      "source": [
        "#prediksi pola variabel terhadap panen\n",
        "\n",
        "#create state space and initial state probabilies\n",
        "states = [ 'O1', 'O2' , 'O3' , 'O4', 'O5']\n",
        "pi = [ 2/14 , 2/14 , 4/14, 4/14 , 2/14 ]\n",
        "state_space = pd.Series ( pi , index = states , name='states' )\n",
        "print ( state_space)\n",
        "print ( state_space.sum( ) )\n"
      ],
      "metadata": {
        "id": "0Stg_1P2opJZ",
        "colab": {
          "base_uri": "https://localhost:8080/"
        },
        "outputId": "5a74ee86-06af-4398-de43-e74a69ad309d"
      },
      "execution_count": null,
      "outputs": [
        {
          "output_type": "stream",
          "name": "stdout",
          "text": [
            "O1    0.142857\n",
            "O2    0.142857\n",
            "O3    0.285714\n",
            "O4    0.285714\n",
            "O5    0.142857\n",
            "Name: states, dtype: float64\n",
            "1.0\n"
          ]
        }
      ]
    },
    {
      "cell_type": "code",
      "source": [
        "#create transition matrix\n",
        "#equals transition probability matrix of changing state given a state\n",
        "#matrix is size (M x M) where M is number of states\n",
        "\n",
        "#probabilitas transisi variabel terobervasi\n",
        "\n",
        "q_df = pd.DataFrame ( columns=states , index=states )\n",
        "q_df.loc[ states[0] ] = [ 0.0  , 0.0 , 0.0 , 1.0 , 0.0 ]\n",
        "q_df.loc[ states[1] ] = [ 0.0  , 0.0 , 0.0 , 0.0  , 0.0  ]\n",
        "q_df.loc[ states[2] ] = [ 0.0 , 0.0 , 0.33 , 0.67  , 0.0 ]\n",
        "q_df.loc[ states[3] ] = [ 0.0  , 0.0 , 0.25  , 0.0  , 0.75  ]\n",
        "q_df.loc[ states[4] ] = [ 0.5  , 0.25 , 0.25 , 0.0  , 0.0  ]\n",
        "print ( q_df )\n"
      ],
      "metadata": {
        "id": "9q6JEROVopJZ",
        "colab": {
          "base_uri": "https://localhost:8080/"
        },
        "outputId": "c06c4194-95b5-47bc-d04a-d919d7432ed8"
      },
      "execution_count": null,
      "outputs": [
        {
          "output_type": "stream",
          "name": "stdout",
          "text": [
            "     O1    O2    O3    O4    O5\n",
            "O1    0     0     0     1     0\n",
            "O2    0     0     0     0     0\n",
            "O3    0     0  0.33  0.67     0\n",
            "O4    0     0  0.25     0  0.75\n",
            "O5  0.5  0.25  0.25     0     0\n"
          ]
        }
      ]
    },
    {
      "cell_type": "code",
      "source": [
        "#create state space and initial state probabilities\n",
        "hidden_states = [ 'S1' , 'S2' , 'S3' , 'S4', 'S5']\n",
        "pi = [ 2/14 , 2/14 , 4/14, 4/14 , 2/14 ]\n",
        "print ( '\\n' )\n",
        "state_space = pd.Series ( pi , index = hidden_states , name='states')\n",
        "print (state_space)\n",
        "print('\\n')\n",
        "print(state_space.sum())"
      ],
      "metadata": {
        "id": "AunK62H-opJa",
        "colab": {
          "base_uri": "https://localhost:8080/"
        },
        "outputId": "9a19f64d-cb47-4990-9174-94db4d95a838"
      },
      "execution_count": null,
      "outputs": [
        {
          "output_type": "stream",
          "name": "stdout",
          "text": [
            "\n",
            "\n",
            "S1    0.142857\n",
            "S2    0.142857\n",
            "S3    0.285714\n",
            "S4    0.285714\n",
            "S5    0.142857\n",
            "Name: states, dtype: float64\n",
            "\n",
            "\n",
            "1.0\n"
          ]
        }
      ]
    },
    {
      "cell_type": "code",
      "source": [
        "#create hidden transition matrix\n",
        "#a or alpha = transition probability matrix of changing states given a state\n",
        "#matrix is size (M x M) where M is number of states\n",
        "\n",
        "a_df = pd.DataFrame(columns = hidden_states , index=hidden_states )\n",
        "a_df.loc[ hidden_states[ 0 ] ] = [ 0.5 , 0.0 , 0.0 , 0.5 , 0.0 ]\n",
        "a_df.loc[ hidden_states[ 1 ] ] = [ 0.0 , 0.5 , 0.0 , 0.5 , 0.0 ]\n",
        "a_df.loc[ hidden_states[ 2 ] ] = [ 0.25 , 0.0 , 0.25 , 0.25, 0.25 ]\n",
        "a_df.loc[ hidden_states[ 3 ] ] = [ 0.0 , 0.0 , 0.67 , 0.33 , 0.0 ]\n",
        "a_df.loc[ hidden_states[ 4 ] ] = [ 0.0 , 0.5 , 0.5 , 0.0 , 0.0 ]\n",
        "print ( a_df )\n"
      ],
      "metadata": {
        "id": "rciUHf5TopJa",
        "colab": {
          "base_uri": "https://localhost:8080/"
        },
        "outputId": "d6f6f5f5-3a12-4524-a626-89de7b02967b"
      },
      "execution_count": null,
      "outputs": [
        {
          "output_type": "stream",
          "name": "stdout",
          "text": [
            "      S1   S2    S3    S4    S5\n",
            "S1   0.5    0     0   0.5     0\n",
            "S2     0  0.5     0   0.5     0\n",
            "S3  0.25    0  0.25  0.25  0.25\n",
            "S4     0    0  0.67  0.33     0\n",
            "S5     0  0.5   0.5     0     0\n"
          ]
        }
      ]
    },
    {
      "cell_type": "code",
      "source": [
        "a = a_df.values\n",
        "print ( a )\n",
        "print ( '\\n')\n",
        "print ( a.shape )\n",
        "print ( '\\n ')\n",
        "print ( a_df.sum( axis = 1))\n"
      ],
      "metadata": {
        "id": "nP12s8shopJa",
        "colab": {
          "base_uri": "https://localhost:8080/"
        },
        "outputId": "1e3132a5-4605-4fe7-ce20-805f0715f3fd"
      },
      "execution_count": null,
      "outputs": [
        {
          "output_type": "stream",
          "name": "stdout",
          "text": [
            "[[0.5 0.0 0.0 0.5 0.0]\n",
            " [0.0 0.5 0.0 0.5 0.0]\n",
            " [0.25 0.0 0.25 0.25 0.25]\n",
            " [0.0 0.0 0.67 0.33 0.0]\n",
            " [0.0 0.5 0.5 0.0 0.0]]\n",
            "\n",
            "\n",
            "(5, 5)\n",
            "\n",
            " \n",
            "S1    1.0\n",
            "S2    1.0\n",
            "S3    1.0\n",
            "S4    1.0\n",
            "S5    1.0\n",
            "dtype: float64\n"
          ]
        }
      ]
    },
    {
      "cell_type": "code",
      "source": [
        "#create matrix of observation (emission) probabilities\n",
        "#b or beta = observation probabilities given state\n",
        "#matrix is size (M x O) where M is number of states\n",
        "# and O is number of different possible observations\n",
        "\n",
        "observable_states = states\n",
        "b_df = pd.DataFrame(columns = observable_states , index=hidden_states )\n",
        "b_df.loc[ hidden_states[ 0 ] ] = [ 0.0 , 0.0 , 0.0 , 0.5 , 0.5 ]\n",
        "b_df.loc[ hidden_states[ 1 ] ] = [ 0.0 , 0.0 , 0.5 , 0.5 , 0.0 ]\n",
        "b_df.loc[ hidden_states[ 2 ] ] = [ 0.5 , 0.0 , 0.0 , 0.5 , 0.0 ]\n",
        "b_df.loc[ hidden_states[ 3 ] ] = [ 0.0 , 0.25 , 0.5 , 0.0 , 0.25 ]\n",
        "b_df.loc[ hidden_states[ 4 ] ] = [ 0.0 , 0.0 , 0.0 , 0.0 , 1.0 ]\n",
        "print ( b_df )\n"
      ],
      "metadata": {
        "id": "q8ZN6qU5opJa",
        "colab": {
          "base_uri": "https://localhost:8080/"
        },
        "outputId": "4238436a-278f-4662-848d-f0ce05eeb23e"
      },
      "execution_count": null,
      "outputs": [
        {
          "output_type": "stream",
          "name": "stdout",
          "text": [
            "     O1    O2   O3   O4    O5\n",
            "S1    0     0    0  0.5   0.5\n",
            "S2    0     0  0.5  0.5     0\n",
            "S3  0.5     0    0  0.5     0\n",
            "S4    0  0.25  0.5    0  0.25\n",
            "S5    0     0    0    0     1\n"
          ]
        }
      ]
    },
    {
      "cell_type": "code",
      "source": [
        "b = b_df.values\n",
        "\n",
        "print ( b )\n",
        "print( '\\n' )\n",
        "print ( b.shape )\n",
        "print ( '\\n' )\n",
        "print ( b_df.sum( axis = 1))\n"
      ],
      "metadata": {
        "id": "BQE4OAr2opJb",
        "colab": {
          "base_uri": "https://localhost:8080/"
        },
        "outputId": "f30ab51a-c509-4ce4-b329-c3245aa941a5"
      },
      "execution_count": null,
      "outputs": [
        {
          "output_type": "stream",
          "name": "stdout",
          "text": [
            "[[0.0 0.0 0.0 0.5 0.5]\n",
            " [0.0 0.0 0.5 0.5 0.0]\n",
            " [0.5 0.0 0.0 0.5 0.0]\n",
            " [0.0 0.25 0.5 0.0 0.25]\n",
            " [0.0 0.0 0.0 0.0 1.0]]\n",
            "\n",
            "\n",
            "(5, 5)\n",
            "\n",
            "\n",
            "S1    1.0\n",
            "S2    1.0\n",
            "S3    1.0\n",
            "S4    1.0\n",
            "S5    1.0\n",
            "dtype: float64\n"
          ]
        }
      ]
    },
    {
      "cell_type": "code",
      "source": [
        "#create edge labels\n",
        "#emit_edge_labels = {(n1,n2):d['label'] for n1,n2,d in G.edges(data = True)}\n",
        "#nx.draw_networkx_edge_labels(G, pos, edge_labels = emit_edge_labels)\n",
        "#plt .show()\n",
        "#nx.drawing.nx_pydot.write dot(G, 'hidden markov.dot')\n",
        "\n",
        "# observation sequence of dog's behaviors \n",
        "# observations are encoded numerically\n",
        "\n",
        "obs_map = {'O1':0, 'O2':1, 'O3':2, 'O4':3, 'O5':4}\n",
        "obs = np.array([4, 2, 3, 2, 2, 3, 4, 0, 3, 4, 0, 3, 4, 1])\n",
        "\n",
        "inv_obs_map = dict((v,k) for k, v in obs_map.items())\n",
        "obs_seq = [inv_obs_map[v] for v in list(obs)]\n",
        "\n",
        "print(pd.DataFrame(np.column_stack([obs, obs_seq]),\n",
        "                   columns = ['Obs_code', 'Obs_seq']))\n",
        "\n"
      ],
      "metadata": {
        "id": "STwpuq-zopJb",
        "colab": {
          "base_uri": "https://localhost:8080/"
        },
        "outputId": "3ee1ab7b-923c-4d3e-cf92-ff526e5b0977"
      },
      "execution_count": null,
      "outputs": [
        {
          "output_type": "stream",
          "name": "stdout",
          "text": [
            "   Obs_code Obs_seq\n",
            "0         4      O5\n",
            "1         2      O3\n",
            "2         3      O4\n",
            "3         2      O3\n",
            "4         2      O3\n",
            "5         3      O4\n",
            "6         4      O5\n",
            "7         0      O1\n",
            "8         3      O4\n",
            "9         4      O5\n",
            "10        0      O1\n",
            "11        3      O4\n",
            "12        4      O5\n",
            "13        1      O2\n"
          ]
        }
      ]
    },
    {
      "cell_type": "code",
      "source": [
        "# create graph object\n",
        "G = nx.MultiDiGraph()\n",
        "\n",
        "# nodes correspond to states\n",
        "G.add_nodes_from(hidden_states)\n",
        "print(f'Nodes:\\n{G.nodes()}\\n')\n",
        "\n",
        "# edges represent hidden probabilities\n",
        "for k, v in hide_edges_wts.items():\n",
        "    tmp_origin, tmp_destination = k[0], k[1]\n",
        "    G.add_edge(tmp_origin, tmp_destination, weight=v, label=v)\n",
        "\n",
        "# edges represent emission probabilities\n",
        "for k, v in emit_edges_wts.items():\n",
        "    tmp_origin, tmp_destination = k[0], k[1]\n",
        "    G.add_edge(tmp_origin, tmp_destination, weight=v, label=v)\n",
        "    \n",
        "print(f'Edges:')\n",
        "pprint(G.edges(data=True))    \n",
        "\n",
        "pos = nx.drawing.nx_pydot.graphviz_layout(G, prog='neato')\n",
        "nx.draw_networkx(G, pos)\n",
        "\n",
        "# create edge labels for jupyter plot but is not necessary\n",
        "emit_edge_labels = {(n1,n2):d['label'] for n1,n2,d in G.edges(data=True)}\n",
        "nx.draw_networkx_edge_labels(G , pos, edge_labels=emit_edge_labels)\n",
        "nx.drawing.nx_pydot.write_dot(G, 'pet_dog_hidden_markov.dot')"
      ],
      "metadata": {
        "id": "VBrLGp3AopJb",
        "colab": {
          "base_uri": "https://localhost:8080/",
          "height": 437
        },
        "outputId": "762cf0b1-8d76-4ba2-8c7f-074a25638f19"
      },
      "execution_count": null,
      "outputs": [
        {
          "output_type": "stream",
          "name": "stdout",
          "text": [
            "Nodes:\n",
            "['S1', 'S2', 'S3', 'S4', 'S5']\n",
            "\n",
            "Edges:\n",
            "OutMultiEdgeDataView([('S1', 'S1', {'weight': 0.5, 'label': 0.5}), ('S1', 'S2', {'weight': 0.0, 'label': 0.0}), ('S1', 'S3', {'weight': 0.0, 'label': 0.0}), ('S1', 'S4', {'weight': 0.5, 'label': 0.5}), ('S1', 'S5', {'weight': 0.0, 'label': 0.0}), ('S1', 'O1', {'weight': 0.0, 'label': 0.0}), ('S1', 'O2', {'weight': 0.5, 'label': 0.5}), ('S1', 'O3', {'weight': 0.0, 'label': 0.0}), ('S1', 'O4', {'weight': 0.0, 'label': 0.0}), ('S1', 'O5', {'weight': 0.5, 'label': 0.5}), ('S2', 'S1', {'weight': 0.0, 'label': 0.0}), ('S2', 'S2', {'weight': 0.5, 'label': 0.5}), ('S2', 'S3', {'weight': 0.0, 'label': 0.0}), ('S2', 'S4', {'weight': 0.5, 'label': 0.5}), ('S2', 'S5', {'weight': 0.0, 'label': 0.0}), ('S2', 'O1', {'weight': 0.0, 'label': 0.0}), ('S2', 'O2', {'weight': 0.0, 'label': 0.0}), ('S2', 'O3', {'weight': 0.5, 'label': 0.5}), ('S2', 'O4', {'weight': 0.0, 'label': 0.0}), ('S2', 'O5', {'weight': 0.5, 'label': 0.5}), ('S3', 'S1', {'weight': 0.25, 'label': 0.25}), ('S3', 'S2', {'weight': 0.0, 'label': 0.0}), ('S3', 'S3', {'weight': 0.25, 'label': 0.25}), ('S3', 'S4', {'weight': 0.25, 'label': 0.25}), ('S3', 'S5', {'weight': 0.25, 'label': 0.25}), ('S3', 'O1', {'weight': 0.0, 'label': 0.0}), ('S3', 'O2', {'weight': 0.0, 'label': 0.0}), ('S3', 'O3', {'weight': 0.5, 'label': 0.5}), ('S3', 'O4', {'weight': 0.5, 'label': 0.5}), ('S3', 'O5', {'weight': 0.0, 'label': 0.0}), ('S4', 'S1', {'weight': 0.0, 'label': 0.0}), ('S4', 'S2', {'weight': 0.0, 'label': 0.0}), ('S4', 'S3', {'weight': 0.67, 'label': 0.67}), ('S4', 'S4', {'weight': 0.33, 'label': 0.33}), ('S4', 'S5', {'weight': 0.0, 'label': 0.0}), ('S4', 'O1', {'weight': 0.5, 'label': 0.5}), ('S4', 'O2', {'weight': 0.0, 'label': 0.0}), ('S4', 'O3', {'weight': 0.0, 'label': 0.0}), ('S4', 'O4', {'weight': 0.25, 'label': 0.25}), ('S4', 'O5', {'weight': 0.25, 'label': 0.25}), ('S5', 'S1', {'weight': 0.0, 'label': 0.0}), ('S5', 'S2', {'weight': 0.5, 'label': 0.5}), ('S5', 'S3', {'weight': 0.5, 'label': 0.5}), ('S5', 'S4', {'weight': 0.0, 'label': 0.0}), ('S5', 'S5', {'weight': 0.0, 'label': 0.0}), ('S5', 'O1', {'weight': 0.5, 'label': 0.5}), ('S5', 'O2', {'weight': 0.5, 'label': 0.5}), ('S5', 'O3', {'weight': 0.0, 'label': 0.0}), ('S5', 'O4', {'weight': 0.0, 'label': 0.0}), ('S5', 'O5', {'weight': 0.0, 'label': 0.0})])\n"
          ]
        },
        {
          "output_type": "display_data",
          "data": {
            "image/png": "[encoded data removed]",
            "text/plain": [
              "<Figure size 576x396 with 1 Axes>"
            ]
          },
          "metadata": {}
        }
      ]
    },
    {
      "cell_type": "code",
      "source": [
        "def viterbi(pi, a, b, obs):\n",
        "    \n",
        "    nStates = np.shape(b)[0]\n",
        "    T = np.shape(obs)[0]\n",
        "    \n",
        "    # init blank path\n",
        "    path = np.zeros(T)\n",
        "    # delta --> highest probability of any path that reaches state i\n",
        "    delta = np.zeros((nStates, T))\n",
        "    # phi --> argmax by time step for each state\n",
        "    phi = np.zeros((nStates, T))\n",
        "    \n",
        "    # init delta and phi \n",
        "    delta[:, 0] = pi*b[:, obs[0]]\n",
        "    phi[:, 0] = 0\n",
        "\n",
        "    print('\\nStart Walk Forward\\n')    \n",
        "    # the forward algorithm extension\n",
        "    for t in range(1, T):\n",
        "        for s in range(nStates):\n",
        "            delta[s, t] = np.max(delta[:, t-1] * a[:, s]) * b[s, obs[t]] \n",
        "            phi[s, t] = np.argmax(delta[:, t-1] * a[:, s])\n",
        "            print('s={s} and t={t}: phi[{s}, {t}] = {phi}'.format(s=s, t=t, phi=phi[s, t]))\n",
        "    \n",
        "    # find optimal path\n",
        "    print('-'*50)\n",
        "    print('Start Backtrace\\n')\n",
        "    path[T-1] = np.argmax(delta[:, T-1])\n",
        "    #p('init path\\n    t={} path[{}-1]={}\\n'.format(T-1, T, path[T-1]))\n",
        "    for t in range(T-2, -1, -1):\n",
        "        #path[t] = phi[path[t+1], [t+1]]\n",
        "        path[t] = phi[int(path[t+1]) , int(t+1)] \n",
        "        #p(' '*4 + 't={t}, path[{t}+1]={path}, [{t}+1]={i}'.format(t=t, path=path[t+1], i=[t+1]))\n",
        "        print('path[{}] = {}'.format(t, path[t]))\n",
        "        \n",
        "    return path, delta, phi\n",
        "\n",
        "path, delta, phi = viterbi(pi, a, b, obs)\n",
        "print('\\nsingle best state path: \\n', path)\n",
        "print('delta:\\n', delta)\n",
        "print('phi:\\n', phi)"
      ],
      "metadata": {
        "colab": {
          "base_uri": "https://localhost:8080/"
        },
        "id": "1bG9J3dltpEm",
        "outputId": "d6979d3f-2dad-4c89-ecfe-10ce4e3b22e8"
      },
      "execution_count": null,
      "outputs": [
        {
          "output_type": "stream",
          "name": "stdout",
          "text": [
            "\n",
            "Start Walk Forward\n",
            "\n",
            "s=0 and t=1: phi[0, 1] = 0.0\n",
            "s=1 and t=1: phi[1, 1] = 4.0\n",
            "s=2 and t=1: phi[2, 1] = 4.0\n",
            "s=3 and t=1: phi[3, 1] = 0.0\n",
            "s=4 and t=1: phi[4, 1] = 0.0\n",
            "s=0 and t=2: phi[0, 2] = 0.0\n",
            "s=1 and t=2: phi[1, 2] = 1.0\n",
            "s=2 and t=2: phi[2, 2] = 3.0\n",
            "s=3 and t=2: phi[3, 2] = 1.0\n",
            "s=4 and t=2: phi[4, 2] = 0.0\n",
            "s=0 and t=3: phi[0, 3] = 2.0\n",
            "s=1 and t=3: phi[1, 3] = 1.0\n",
            "s=2 and t=3: phi[2, 3] = 2.0\n",
            "s=3 and t=3: phi[3, 3] = 1.0\n",
            "s=4 and t=3: phi[4, 3] = 2.0\n",
            "s=0 and t=4: phi[0, 4] = 0.0\n",
            "s=1 and t=4: phi[1, 4] = 1.0\n",
            "s=2 and t=4: phi[2, 4] = 3.0\n",
            "s=3 and t=4: phi[3, 4] = 1.0\n",
            "s=4 and t=4: phi[4, 4] = 0.0\n",
            "s=0 and t=5: phi[0, 5] = 0.0\n",
            "s=1 and t=5: phi[1, 5] = 1.0\n",
            "s=2 and t=5: phi[2, 5] = 3.0\n",
            "s=3 and t=5: phi[3, 5] = 1.0\n",
            "s=4 and t=5: phi[4, 5] = 0.0\n",
            "s=0 and t=6: phi[0, 6] = 2.0\n",
            "s=1 and t=6: phi[1, 6] = 1.0\n",
            "s=2 and t=6: phi[2, 6] = 2.0\n",
            "s=3 and t=6: phi[3, 6] = 1.0\n",
            "s=4 and t=6: phi[4, 6] = 2.0\n",
            "s=0 and t=7: phi[0, 7] = 0.0\n",
            "s=1 and t=7: phi[1, 7] = 4.0\n",
            "s=2 and t=7: phi[2, 7] = 4.0\n",
            "s=3 and t=7: phi[3, 7] = 0.0\n",
            "s=4 and t=7: phi[4, 7] = 0.0\n",
            "s=0 and t=8: phi[0, 8] = 2.0\n",
            "s=1 and t=8: phi[1, 8] = 0.0\n",
            "s=2 and t=8: phi[2, 8] = 2.0\n",
            "s=3 and t=8: phi[3, 8] = 2.0\n",
            "s=4 and t=8: phi[4, 8] = 2.0\n",
            "s=0 and t=9: phi[0, 9] = 0.0\n",
            "s=1 and t=9: phi[1, 9] = 0.0\n",
            "s=2 and t=9: phi[2, 9] = 2.0\n",
            "s=3 and t=9: phi[3, 9] = 0.0\n",
            "s=4 and t=9: phi[4, 9] = 2.0\n",
            "s=0 and t=10: phi[0, 10] = 0.0\n",
            "s=1 and t=10: phi[1, 10] = 4.0\n",
            "s=2 and t=10: phi[2, 10] = 4.0\n",
            "s=3 and t=10: phi[3, 10] = 0.0\n",
            "s=4 and t=10: phi[4, 10] = 0.0\n",
            "s=0 and t=11: phi[0, 11] = 2.0\n",
            "s=1 and t=11: phi[1, 11] = 0.0\n",
            "s=2 and t=11: phi[2, 11] = 2.0\n",
            "s=3 and t=11: phi[3, 11] = 2.0\n",
            "s=4 and t=11: phi[4, 11] = 2.0\n",
            "s=0 and t=12: phi[0, 12] = 0.0\n",
            "s=1 and t=12: phi[1, 12] = 0.0\n",
            "s=2 and t=12: phi[2, 12] = 2.0\n",
            "s=3 and t=12: phi[3, 12] = 0.0\n",
            "s=4 and t=12: phi[4, 12] = 2.0\n",
            "s=0 and t=13: phi[0, 13] = 0.0\n",
            "s=1 and t=13: phi[1, 13] = 4.0\n",
            "s=2 and t=13: phi[2, 13] = 4.0\n",
            "s=3 and t=13: phi[3, 13] = 0.0\n",
            "s=4 and t=13: phi[4, 13] = 0.0\n",
            "--------------------------------------------------\n",
            "Start Backtrace\n",
            "\n",
            "path[12] = 0.0\n",
            "path[11] = 0.0\n",
            "path[10] = 2.0\n",
            "path[9] = 4.0\n",
            "path[8] = 2.0\n",
            "path[7] = 2.0\n",
            "path[6] = 4.0\n",
            "path[5] = 2.0\n",
            "path[4] = 3.0\n",
            "path[3] = 1.0\n",
            "path[2] = 1.0\n",
            "path[1] = 1.0\n",
            "path[0] = 4.0\n",
            "\n",
            "single best state path: \n",
            " [4. 1. 1. 1. 3. 2. 4. 2. 2. 4. 2. 0. 0. 3.]\n",
            "delta:\n",
            " [[7.14285714e-02 0.00000000e+00 0.00000000e+00 0.00000000e+00\n",
            "  0.00000000e+00 0.00000000e+00 2.33677455e-05 0.00000000e+00\n",
            "  1.46048410e-06 3.65121024e-07 0.00000000e+00 1.14100320e-08\n",
            "  2.85250800e-09 0.00000000e+00]\n",
            " [0.00000000e+00 3.57142857e-02 8.92857143e-03 2.23214286e-03\n",
            "  5.58035714e-04 1.39508929e-04 0.00000000e+00 0.00000000e+00\n",
            "  0.00000000e+00 0.00000000e+00 0.00000000e+00 0.00000000e+00\n",
            "  0.00000000e+00 0.00000000e+00]\n",
            " [0.00000000e+00 0.00000000e+00 5.98214286e-03 0.00000000e+00\n",
            "  0.00000000e+00 1.86941964e-04 0.00000000e+00 1.16838728e-05\n",
            "  1.46048410e-06 0.00000000e+00 9.12802560e-08 1.14100320e-08\n",
            "  0.00000000e+00 0.00000000e+00]\n",
            " [7.14285714e-02 1.78571429e-02 0.00000000e+00 2.23214286e-03\n",
            "  5.58035714e-04 0.00000000e+00 1.74386161e-05 0.00000000e+00\n",
            "  0.00000000e+00 1.82560512e-07 0.00000000e+00 0.00000000e+00\n",
            "  1.42625400e-09 3.56563500e-10]\n",
            " [1.42857143e-01 0.00000000e+00 0.00000000e+00 0.00000000e+00\n",
            "  0.00000000e+00 0.00000000e+00 4.67354911e-05 0.00000000e+00\n",
            "  0.00000000e+00 3.65121024e-07 0.00000000e+00 0.00000000e+00\n",
            "  2.85250800e-09 0.00000000e+00]]\n",
            "phi:\n",
            " [[0. 0. 0. 2. 0. 0. 2. 0. 2. 0. 0. 2. 0. 0.]\n",
            " [0. 4. 1. 1. 1. 1. 1. 4. 0. 0. 4. 0. 0. 4.]\n",
            " [0. 4. 3. 2. 3. 3. 2. 4. 2. 2. 4. 2. 2. 4.]\n",
            " [0. 0. 1. 1. 1. 1. 1. 0. 2. 0. 0. 2. 0. 0.]\n",
            " [0. 0. 0. 2. 0. 0. 2. 0. 2. 2. 0. 2. 2. 0.]]\n"
          ]
        }
      ]
    },
    {
      "cell_type": "code",
      "source": [
        "state_map = {0:'S1', 1:'S2', 2:'S3', 3:'S4', 4:'S5'}\n",
        "state_path = [state_map[v] for v in path]\n",
        "\n",
        "(pd.DataFrame()\n",
        " .assign(Observation=obs_seq)\n",
        " .assign(Best_Path=state_path))"
      ],
      "metadata": {
        "id": "8CvwVAjWopJc",
        "colab": {
          "base_uri": "https://localhost:8080/",
          "height": 488
        },
        "outputId": "2e5aaf4b-39b7-4c8f-c3c7-00ae0b820f96"
      },
      "execution_count": null,
      "outputs": [
        {
          "output_type": "execute_result",
          "data": {
            "text/html": [
              "\n",
              "  <div id=\"df-d0da695b-8d1c-4d3a-8085-a5ef84a3f832\">\n",
              "    <div class=\"colab-df-container\">\n",
              "      <div>\n",
              "<style scoped>\n",
              "    .dataframe tbody tr th:only-of-type {\n",
              "        vertical-align: middle;\n",
              "    }\n",
              "\n",
              "    .dataframe tbody tr th {\n",
              "        vertical-align: top;\n",
              "    }\n",
              "\n",
              "    .dataframe thead th {\n",
              "        text-align: right;\n",
              "    }\n",
              "</style>\n",
              "<table border=\"1\" class=\"dataframe\">\n",
              "  <thead>\n",
              "    <tr style=\"text-align: right;\">\n",
              "      <th></th>\n",
              "      <th>Observation</th>\n",
              "      <th>Best_Path</th>\n",
              "    </tr>\n",
              "  </thead>\n",
              "  <tbody>\n",
              "    <tr>\n",
              "      <th>0</th>\n",
              "      <td>O5</td>\n",
              "      <td>S5</td>\n",
              "    </tr>\n",
              "    <tr>\n",
              "      <th>1</th>\n",
              "      <td>O3</td>\n",
              "      <td>S2</td>\n",
              "    </tr>\n",
              "    <tr>\n",
              "      <th>2</th>\n",
              "      <td>O4</td>\n",
              "      <td>S2</td>\n",
              "    </tr>\n",
              "    <tr>\n",
              "      <th>3</th>\n",
              "      <td>O3</td>\n",
              "      <td>S2</td>\n",
              "    </tr>\n",
              "    <tr>\n",
              "      <th>4</th>\n",
              "      <td>O3</td>\n",
              "      <td>S4</td>\n",
              "    </tr>\n",
              "    <tr>\n",
              "      <th>5</th>\n",
              "      <td>O4</td>\n",
              "      <td>S3</td>\n",
              "    </tr>\n",
              "    <tr>\n",
              "      <th>6</th>\n",
              "      <td>O5</td>\n",
              "      <td>S5</td>\n",
              "    </tr>\n",
              "    <tr>\n",
              "      <th>7</th>\n",
              "      <td>O1</td>\n",
              "      <td>S3</td>\n",
              "    </tr>\n",
              "    <tr>\n",
              "      <th>8</th>\n",
              "      <td>O4</td>\n",
              "      <td>S3</td>\n",
              "    </tr>\n",
              "    <tr>\n",
              "      <th>9</th>\n",
              "      <td>O5</td>\n",
              "      <td>S5</td>\n",
              "    </tr>\n",
              "    <tr>\n",
              "      <th>10</th>\n",
              "      <td>O1</td>\n",
              "      <td>S3</td>\n",
              "    </tr>\n",
              "    <tr>\n",
              "      <th>11</th>\n",
              "      <td>O4</td>\n",
              "      <td>S1</td>\n",
              "    </tr>\n",
              "    <tr>\n",
              "      <th>12</th>\n",
              "      <td>O5</td>\n",
              "      <td>S1</td>\n",
              "    </tr>\n",
              "    <tr>\n",
              "      <th>13</th>\n",
              "      <td>O2</td>\n",
              "      <td>S4</td>\n",
              "    </tr>\n",
              "  </tbody>\n",
              "</table>\n",
              "</div>\n",
              "      <button class=\"colab-df-convert\" onclick=\"convertToInteractive('df-d0da695b-8d1c-4d3a-8085-a5ef84a3f832')\"\n",
              "              title=\"Convert this dataframe to an interactive table.\"\n",
              "              style=\"display:none;\">\n",
              "        \n",
              "  <svg xmlns=\"http://www.w3.org/2000/svg\" height=\"24px\"viewBox=\"0 0 24 24\"\n",
              "       width=\"24px\">\n",
              "    <path d=\"M0 0h24v24H0V0z\" fill=\"none\"/>\n",
              "    <path d=\"M18.56 5.44l.94 2.06.94-2.06 2.06-.94-2.06-.94-.94-2.06-.94 2.06-2.06.94zm-11 1L8.5 8.5l.94-2.06 2.06-.94-2.06-.94L8.5 2.5l-.94 2.06-2.06.94zm10 10l.94 2.06.94-2.06 2.06-.94-2.06-.94-.94-2.06-.94 2.06-2.06.94z\"/><path d=\"M17.41 7.96l-1.37-1.37c-.4-.4-.92-.59-1.43-.59-.52 0-1.04.2-1.43.59L10.3 9.45l-7.72 7.72c-.78.78-.78 2.05 0 2.83L4 21.41c.39.39.9.59 1.41.59.51 0 1.02-.2 1.41-.59l7.78-7.78 2.81-2.81c.8-.78.8-2.07 0-2.86zM5.41 20L4 18.59l7.72-7.72 1.47 1.35L5.41 20z\"/>\n",
              "  </svg>\n",
              "      </button>\n",
              "      \n",
              "  <style>\n",
              "    .colab-df-container {\n",
              "      display:flex;\n",
              "      flex-wrap:wrap;\n",
              "      gap: 12px;\n",
              "    }\n",
              "\n",
              "    .colab-df-convert {\n",
              "      background-color: #E8F0FE;\n",
              "      border: none;\n",
              "      border-radius: 50%;\n",
              "      cursor: pointer;\n",
              "      display: none;\n",
              "      fill: #1967D2;\n",
              "      height: 32px;\n",
              "      padding: 0 0 0 0;\n",
              "      width: 32px;\n",
              "    }\n",
              "\n",
              "    .colab-df-convert:hover {\n",
              "      background-color: #E2EBFA;\n",
              "      box-shadow: 0px 1px 2px rgba(60, 64, 67, 0.3), 0px 1px 3px 1px rgba(60, 64, 67, 0.15);\n",
              "      fill: #174EA6;\n",
              "    }\n",
              "\n",
              "    [theme=dark] .colab-df-convert {\n",
              "      background-color: #3B4455;\n",
              "      fill: #D2E3FC;\n",
              "    }\n",
              "\n",
              "    [theme=dark] .colab-df-convert:hover {\n",
              "      background-color: #434B5C;\n",
              "      box-shadow: 0px 1px 3px 1px rgba(0, 0, 0, 0.15);\n",
              "      filter: drop-shadow(0px 1px 2px rgba(0, 0, 0, 0.3));\n",
              "      fill: #FFFFFF;\n",
              "    }\n",
              "  </style>\n",
              "\n",
              "      <script>\n",
              "        const buttonEl =\n",
              "          document.querySelector('#df-d0da695b-8d1c-4d3a-8085-a5ef84a3f832 button.colab-df-convert');\n",
              "        buttonEl.style.display =\n",
              "          google.colab.kernel.accessAllowed ? 'block' : 'none';\n",
              "\n",
              "        async function convertToInteractive(key) {\n",
              "          const element = document.querySelector('#df-d0da695b-8d1c-4d3a-8085-a5ef84a3f832');\n",
              "          const dataTable =\n",
              "            await google.colab.kernel.invokeFunction('convertToInteractive',\n",
              "                                                     [key], {});\n",
              "          if (!dataTable) return;\n",
              "\n",
              "          const docLinkHtml = 'Like what you see? Visit the ' +\n",
              "            '<a target=\"_blank\" href=https://colab.research.google.com/notebooks/data_table.ipynb>data table notebook</a>'\n",
              "            + ' to learn more about interactive tables.';\n",
              "          element.innerHTML = '';\n",
              "          dataTable['output_type'] = 'display_data';\n",
              "          await google.colab.output.renderOutput(dataTable, element);\n",
              "          const docLink = document.createElement('div');\n",
              "          docLink.innerHTML = docLinkHtml;\n",
              "          element.appendChild(docLink);\n",
              "        }\n",
              "      </script>\n",
              "    </div>\n",
              "  </div>\n",
              "  "
            ],
            "text/plain": [
              "   Observation Best_Path\n",
              "0           O5        S5\n",
              "1           O3        S2\n",
              "2           O4        S2\n",
              "3           O3        S2\n",
              "4           O3        S4\n",
              "5           O4        S3\n",
              "6           O5        S5\n",
              "7           O1        S3\n",
              "8           O4        S3\n",
              "9           O5        S5\n",
              "10          O1        S3\n",
              "11          O4        S1\n",
              "12          O5        S1\n",
              "13          O2        S4"
            ]
          },
          "metadata": {},
          "execution_count": 388
        }
      ]
    },
    {
      "cell_type": "markdown",
      "source": [
        "#LAMA PENYINARAN MATAHARI"
      ],
      "metadata": {
        "id": "ST4rFLPOotMz"
      }
    },
    {
      "cell_type": "code",
      "source": [
        "X = db['PenyinaranMatahari']\n",
        "Y = db['Wisatawan']\n",
        "S = np.zeros(14)\n",
        "for i in range (0,14):\n",
        "  S[i] = X[i+1]-X[i]\n",
        "print(S)"
      ],
      "metadata": {
        "id": "lbDKLtmrow_4",
        "colab": {
          "base_uri": "https://localhost:8080/"
        },
        "outputId": "b88e2d84-f6f2-4845-ae51-97caa100644e"
      },
      "execution_count": null,
      "outputs": [
        {
          "output_type": "stream",
          "name": "stdout",
          "text": [
            "[ 0.71 -1.31 -0.49 -0.86  0.87  0.83  0.74  0.27 -1.25  1.9   0.95 -2.24\n",
            "  0.71 -0.89]\n"
          ]
        }
      ]
    },
    {
      "cell_type": "code",
      "source": [
        "Z = np.zeros(14)\n",
        "for i in range (0,14):\n",
        "  Z[i] = Y[i+1] - Y[i]\n",
        "print(Z)"
      ],
      "metadata": {
        "id": "TMYbYJ3Xow_5",
        "colab": {
          "base_uri": "https://localhost:8080/"
        },
        "outputId": "629dc1b4-6f37-4a6a-9985-67bd6c434569"
      },
      "execution_count": null,
      "outputs": [
        {
          "output_type": "stream",
          "name": "stdout",
          "text": [
            "[ 1250722.  -524493.  -445158.   483562.   258567.  -306359.   576299.\n",
            "  -211859.  -234271.   735996.  -134712. -1327158. -1519192.   604404.]\n"
          ]
        }
      ]
    },
    {
      "cell_type": "code",
      "source": [
        "#interval Wisatawan\n",
        "\n",
        "for var in Z :\n",
        "  if var > -1519193 and var <= -965210:\n",
        "    print ('S1')\n",
        "  elif var > -965210 and var <= -411227:\n",
        "    print ('S2')\n",
        "  elif var > -411227 and var <= 142756:\n",
        "    print ('S3')\n",
        "  elif var > 142756 and var <= 696739:\n",
        "    print ('S4')\n",
        "  elif var > 696739 and var <= 1250722:\n",
        "    print ('S5')\n",
        "  else :\n",
        "    print ('not valid')"
      ],
      "metadata": {
        "id": "wdMAlnaQow_5",
        "colab": {
          "base_uri": "https://localhost:8080/"
        },
        "outputId": "93b33205-384b-4f9f-e7ca-06dfd3fa6a0e"
      },
      "execution_count": null,
      "outputs": [
        {
          "output_type": "stream",
          "name": "stdout",
          "text": [
            "S5\n",
            "S2\n",
            "S2\n",
            "S4\n",
            "S4\n",
            "S3\n",
            "S4\n",
            "S3\n",
            "S3\n",
            "S5\n",
            "S3\n",
            "S1\n",
            "S1\n",
            "S4\n"
          ]
        }
      ]
    },
    {
      "cell_type": "code",
      "source": [
        " import pandas as pd\n",
        "transitions = [ 'S5','S2','S2','S4','S4','S3','S4','S3','S3','S5','S3',\n",
        "               'S1','S1','S4'] * 2"
      ],
      "metadata": {
        "id": "Puaw_4jwow_5"
      },
      "execution_count": null,
      "outputs": []
    },
    {
      "cell_type": "code",
      "source": [
        "df = pd.DataFrame (columns = [ 'state', 'next_state'])\n",
        "for i , val in enumerate(transitions[ : -1 ] ) :\n",
        "  df_stg = pd.DataFrame ( index =[0] )\n",
        "  df_stg [ 'state' ], df_stg [ 'next_state'] = transitions [i] ,transitions [i+1]\n",
        "\n",
        "df = pd.concat ([ df, df_stg ] , axis = 0 )\n",
        "cross_tab = pd.crosstab( df['state'] , df['next_state'])\n",
        "cross_tab.div ( cross_tab.sum(axis=1) , axis=0)"
      ],
      "metadata": {
        "id": "vWh1XWXVow_6",
        "colab": {
          "base_uri": "https://localhost:8080/",
          "height": 112
        },
        "outputId": "649bb8ee-92dd-4d60-9e7c-d6e653061525"
      },
      "execution_count": null,
      "outputs": [
        {
          "output_type": "execute_result",
          "data": {
            "text/html": [
              "\n",
              "  <div id=\"df-19bbce73-dfa0-46ce-b566-bef91a6db8d8\">\n",
              "    <div class=\"colab-df-container\">\n",
              "      <div>\n",
              "<style scoped>\n",
              "    .dataframe tbody tr th:only-of-type {\n",
              "        vertical-align: middle;\n",
              "    }\n",
              "\n",
              "    .dataframe tbody tr th {\n",
              "        vertical-align: top;\n",
              "    }\n",
              "\n",
              "    .dataframe thead th {\n",
              "        text-align: right;\n",
              "    }\n",
              "</style>\n",
              "<table border=\"1\" class=\"dataframe\">\n",
              "  <thead>\n",
              "    <tr style=\"text-align: right;\">\n",
              "      <th>next_state</th>\n",
              "      <th>S4</th>\n",
              "    </tr>\n",
              "    <tr>\n",
              "      <th>state</th>\n",
              "      <th></th>\n",
              "    </tr>\n",
              "  </thead>\n",
              "  <tbody>\n",
              "    <tr>\n",
              "      <th>S1</th>\n",
              "      <td>1.0</td>\n",
              "    </tr>\n",
              "  </tbody>\n",
              "</table>\n",
              "</div>\n",
              "      <button class=\"colab-df-convert\" onclick=\"convertToInteractive('df-19bbce73-dfa0-46ce-b566-bef91a6db8d8')\"\n",
              "              title=\"Convert this dataframe to an interactive table.\"\n",
              "              style=\"display:none;\">\n",
              "        \n",
              "  <svg xmlns=\"http://www.w3.org/2000/svg\" height=\"24px\"viewBox=\"0 0 24 24\"\n",
              "       width=\"24px\">\n",
              "    <path d=\"M0 0h24v24H0V0z\" fill=\"none\"/>\n",
              "    <path d=\"M18.56 5.44l.94 2.06.94-2.06 2.06-.94-2.06-.94-.94-2.06-.94 2.06-2.06.94zm-11 1L8.5 8.5l.94-2.06 2.06-.94-2.06-.94L8.5 2.5l-.94 2.06-2.06.94zm10 10l.94 2.06.94-2.06 2.06-.94-2.06-.94-.94-2.06-.94 2.06-2.06.94z\"/><path d=\"M17.41 7.96l-1.37-1.37c-.4-.4-.92-.59-1.43-.59-.52 0-1.04.2-1.43.59L10.3 9.45l-7.72 7.72c-.78.78-.78 2.05 0 2.83L4 21.41c.39.39.9.59 1.41.59.51 0 1.02-.2 1.41-.59l7.78-7.78 2.81-2.81c.8-.78.8-2.07 0-2.86zM5.41 20L4 18.59l7.72-7.72 1.47 1.35L5.41 20z\"/>\n",
              "  </svg>\n",
              "      </button>\n",
              "      \n",
              "  <style>\n",
              "    .colab-df-container {\n",
              "      display:flex;\n",
              "      flex-wrap:wrap;\n",
              "      gap: 12px;\n",
              "    }\n",
              "\n",
              "    .colab-df-convert {\n",
              "      background-color: #E8F0FE;\n",
              "      border: none;\n",
              "      border-radius: 50%;\n",
              "      cursor: pointer;\n",
              "      display: none;\n",
              "      fill: #1967D2;\n",
              "      height: 32px;\n",
              "      padding: 0 0 0 0;\n",
              "      width: 32px;\n",
              "    }\n",
              "\n",
              "    .colab-df-convert:hover {\n",
              "      background-color: #E2EBFA;\n",
              "      box-shadow: 0px 1px 2px rgba(60, 64, 67, 0.3), 0px 1px 3px 1px rgba(60, 64, 67, 0.15);\n",
              "      fill: #174EA6;\n",
              "    }\n",
              "\n",
              "    [theme=dark] .colab-df-convert {\n",
              "      background-color: #3B4455;\n",
              "      fill: #D2E3FC;\n",
              "    }\n",
              "\n",
              "    [theme=dark] .colab-df-convert:hover {\n",
              "      background-color: #434B5C;\n",
              "      box-shadow: 0px 1px 3px 1px rgba(0, 0, 0, 0.15);\n",
              "      filter: drop-shadow(0px 1px 2px rgba(0, 0, 0, 0.3));\n",
              "      fill: #FFFFFF;\n",
              "    }\n",
              "  </style>\n",
              "\n",
              "      <script>\n",
              "        const buttonEl =\n",
              "          document.querySelector('#df-19bbce73-dfa0-46ce-b566-bef91a6db8d8 button.colab-df-convert');\n",
              "        buttonEl.style.display =\n",
              "          google.colab.kernel.accessAllowed ? 'block' : 'none';\n",
              "\n",
              "        async function convertToInteractive(key) {\n",
              "          const element = document.querySelector('#df-19bbce73-dfa0-46ce-b566-bef91a6db8d8');\n",
              "          const dataTable =\n",
              "            await google.colab.kernel.invokeFunction('convertToInteractive',\n",
              "                                                     [key], {});\n",
              "          if (!dataTable) return;\n",
              "\n",
              "          const docLinkHtml = 'Like what you see? Visit the ' +\n",
              "            '<a target=\"_blank\" href=https://colab.research.google.com/notebooks/data_table.ipynb>data table notebook</a>'\n",
              "            + ' to learn more about interactive tables.';\n",
              "          element.innerHTML = '';\n",
              "          dataTable['output_type'] = 'display_data';\n",
              "          await google.colab.output.renderOutput(dataTable, element);\n",
              "          const docLink = document.createElement('div');\n",
              "          docLink.innerHTML = docLinkHtml;\n",
              "          element.appendChild(docLink);\n",
              "        }\n",
              "      </script>\n",
              "    </div>\n",
              "  </div>\n",
              "  "
            ],
            "text/plain": [
              "next_state   S4\n",
              "state          \n",
              "S1          1.0"
            ]
          },
          "metadata": {},
          "execution_count": 393
        }
      ]
    },
    {
      "cell_type": "code",
      "source": [
        "for var in S :\n",
        "  if var > -3 and var <= -2:\n",
        "    print ( 'O1')\n",
        "  elif var > -2 and var <= -1 :\n",
        "    print ( 'O2' )\n",
        "  elif var > -1 and var <= 0:\n",
        "    print ( 'O3' )\n",
        "  elif var > 0 and var <= 1:\n",
        "    print ( 'O4' )\n",
        "  elif var > 1 and var <= 2:\n",
        "    print ( 'O5' )\n",
        "  else :\n",
        "    print ( 'not valid ' )"
      ],
      "metadata": {
        "id": "nXyNQe_Cow_6",
        "colab": {
          "base_uri": "https://localhost:8080/"
        },
        "outputId": "57f04bc7-5b50-4292-99fb-279e68b78e78"
      },
      "execution_count": null,
      "outputs": [
        {
          "output_type": "stream",
          "name": "stdout",
          "text": [
            "O4\n",
            "O2\n",
            "O3\n",
            "O3\n",
            "O4\n",
            "O4\n",
            "O4\n",
            "O4\n",
            "O2\n",
            "O5\n",
            "O4\n",
            "O1\n",
            "O4\n",
            "O3\n"
          ]
        }
      ]
    },
    {
      "cell_type": "code",
      "source": [
        "#probabilitas transisi variable terobservasi\n",
        "import pandas as pd\n",
        "transitions = ['O4','O2' , 'O3' , 'O3' , 'O4' , 'O4' , 'O4' , 'O4' ,\n",
        "'O2' , 'O5' , 'O4' , 'O1' , 'O4' , 'O3' ] * 2\n"
      ],
      "metadata": {
        "id": "p2XyuZQ7ow_6"
      },
      "execution_count": null,
      "outputs": []
    },
    {
      "cell_type": "code",
      "source": [
        "df = pd.DataFrame (columns = [ 'state', 'next_state'])\n",
        "for i , val in enumerate(transitions[ : -1 ] ) :\n",
        "  df_stg = pd.DataFrame ( index =[0] )\n",
        "  df_stg [ 'state' ], df_stg [ 'next_state'] = transitions [i] ,transitions [i+1]\n",
        "\n",
        "df = pd.concat ([ df, df_stg ] , axis = 0 )\n",
        "cross_tab = pd.crosstab( df['state'] , df['next_state'])\n",
        "cross_tab.div ( cross_tab.sum(axis=1) , axis=0)"
      ],
      "metadata": {
        "id": "adTX5iofow_6",
        "colab": {
          "base_uri": "https://localhost:8080/",
          "height": 112
        },
        "outputId": "78a10f3a-3ff8-4d79-e927-ed96ef7b15c8"
      },
      "execution_count": null,
      "outputs": [
        {
          "output_type": "execute_result",
          "data": {
            "text/html": [
              "\n",
              "  <div id=\"df-39c4b7fa-89c3-435a-8c32-787b28d97ed1\">\n",
              "    <div class=\"colab-df-container\">\n",
              "      <div>\n",
              "<style scoped>\n",
              "    .dataframe tbody tr th:only-of-type {\n",
              "        vertical-align: middle;\n",
              "    }\n",
              "\n",
              "    .dataframe tbody tr th {\n",
              "        vertical-align: top;\n",
              "    }\n",
              "\n",
              "    .dataframe thead th {\n",
              "        text-align: right;\n",
              "    }\n",
              "</style>\n",
              "<table border=\"1\" class=\"dataframe\">\n",
              "  <thead>\n",
              "    <tr style=\"text-align: right;\">\n",
              "      <th>next_state</th>\n",
              "      <th>O3</th>\n",
              "    </tr>\n",
              "    <tr>\n",
              "      <th>state</th>\n",
              "      <th></th>\n",
              "    </tr>\n",
              "  </thead>\n",
              "  <tbody>\n",
              "    <tr>\n",
              "      <th>O4</th>\n",
              "      <td>1.0</td>\n",
              "    </tr>\n",
              "  </tbody>\n",
              "</table>\n",
              "</div>\n",
              "      <button class=\"colab-df-convert\" onclick=\"convertToInteractive('df-39c4b7fa-89c3-435a-8c32-787b28d97ed1')\"\n",
              "              title=\"Convert this dataframe to an interactive table.\"\n",
              "              style=\"display:none;\">\n",
              "        \n",
              "  <svg xmlns=\"http://www.w3.org/2000/svg\" height=\"24px\"viewBox=\"0 0 24 24\"\n",
              "       width=\"24px\">\n",
              "    <path d=\"M0 0h24v24H0V0z\" fill=\"none\"/>\n",
              "    <path d=\"M18.56 5.44l.94 2.06.94-2.06 2.06-.94-2.06-.94-.94-2.06-.94 2.06-2.06.94zm-11 1L8.5 8.5l.94-2.06 2.06-.94-2.06-.94L8.5 2.5l-.94 2.06-2.06.94zm10 10l.94 2.06.94-2.06 2.06-.94-2.06-.94-.94-2.06-.94 2.06-2.06.94z\"/><path d=\"M17.41 7.96l-1.37-1.37c-.4-.4-.92-.59-1.43-.59-.52 0-1.04.2-1.43.59L10.3 9.45l-7.72 7.72c-.78.78-.78 2.05 0 2.83L4 21.41c.39.39.9.59 1.41.59.51 0 1.02-.2 1.41-.59l7.78-7.78 2.81-2.81c.8-.78.8-2.07 0-2.86zM5.41 20L4 18.59l7.72-7.72 1.47 1.35L5.41 20z\"/>\n",
              "  </svg>\n",
              "      </button>\n",
              "      \n",
              "  <style>\n",
              "    .colab-df-container {\n",
              "      display:flex;\n",
              "      flex-wrap:wrap;\n",
              "      gap: 12px;\n",
              "    }\n",
              "\n",
              "    .colab-df-convert {\n",
              "      background-color: #E8F0FE;\n",
              "      border: none;\n",
              "      border-radius: 50%;\n",
              "      cursor: pointer;\n",
              "      display: none;\n",
              "      fill: #1967D2;\n",
              "      height: 32px;\n",
              "      padding: 0 0 0 0;\n",
              "      width: 32px;\n",
              "    }\n",
              "\n",
              "    .colab-df-convert:hover {\n",
              "      background-color: #E2EBFA;\n",
              "      box-shadow: 0px 1px 2px rgba(60, 64, 67, 0.3), 0px 1px 3px 1px rgba(60, 64, 67, 0.15);\n",
              "      fill: #174EA6;\n",
              "    }\n",
              "\n",
              "    [theme=dark] .colab-df-convert {\n",
              "      background-color: #3B4455;\n",
              "      fill: #D2E3FC;\n",
              "    }\n",
              "\n",
              "    [theme=dark] .colab-df-convert:hover {\n",
              "      background-color: #434B5C;\n",
              "      box-shadow: 0px 1px 3px 1px rgba(0, 0, 0, 0.15);\n",
              "      filter: drop-shadow(0px 1px 2px rgba(0, 0, 0, 0.3));\n",
              "      fill: #FFFFFF;\n",
              "    }\n",
              "  </style>\n",
              "\n",
              "      <script>\n",
              "        const buttonEl =\n",
              "          document.querySelector('#df-39c4b7fa-89c3-435a-8c32-787b28d97ed1 button.colab-df-convert');\n",
              "        buttonEl.style.display =\n",
              "          google.colab.kernel.accessAllowed ? 'block' : 'none';\n",
              "\n",
              "        async function convertToInteractive(key) {\n",
              "          const element = document.querySelector('#df-39c4b7fa-89c3-435a-8c32-787b28d97ed1');\n",
              "          const dataTable =\n",
              "            await google.colab.kernel.invokeFunction('convertToInteractive',\n",
              "                                                     [key], {});\n",
              "          if (!dataTable) return;\n",
              "\n",
              "          const docLinkHtml = 'Like what you see? Visit the ' +\n",
              "            '<a target=\"_blank\" href=https://colab.research.google.com/notebooks/data_table.ipynb>data table notebook</a>'\n",
              "            + ' to learn more about interactive tables.';\n",
              "          element.innerHTML = '';\n",
              "          dataTable['output_type'] = 'display_data';\n",
              "          await google.colab.output.renderOutput(dataTable, element);\n",
              "          const docLink = document.createElement('div');\n",
              "          docLink.innerHTML = docLinkHtml;\n",
              "          element.appendChild(docLink);\n",
              "        }\n",
              "      </script>\n",
              "    </div>\n",
              "  </div>\n",
              "  "
            ],
            "text/plain": [
              "next_state   O3\n",
              "state          \n",
              "O4          1.0"
            ]
          },
          "metadata": {},
          "execution_count": 396
        }
      ]
    },
    {
      "cell_type": "code",
      "source": [
        "#prediksi pola variabel terhadap panen\n",
        "\n",
        "#create state space and initial state probabilies\n",
        "states = [ 'O1', 'O2' , 'O3' , 'O4', 'O5']\n",
        "pi = [ 2/14 , 2/14 , 4/14, 4/14 , 2/14 ]\n",
        "state_space = pd.Series ( pi , index = states , name='states' )\n",
        "print ( state_space)\n",
        "print ( state_space.sum( ) )\n"
      ],
      "metadata": {
        "id": "k8Dty-xSow_7",
        "colab": {
          "base_uri": "https://localhost:8080/"
        },
        "outputId": "4f7cf2f2-be24-4bf8-9f2e-1ae08e8d01cd"
      },
      "execution_count": null,
      "outputs": [
        {
          "output_type": "stream",
          "name": "stdout",
          "text": [
            "O1    0.142857\n",
            "O2    0.142857\n",
            "O3    0.285714\n",
            "O4    0.285714\n",
            "O5    0.142857\n",
            "Name: states, dtype: float64\n",
            "1.0\n"
          ]
        }
      ]
    },
    {
      "cell_type": "code",
      "source": [
        "#create transition matrix\n",
        "#equals transition probability matrix of changing state given a state\n",
        "#matrix is size (M x M) where M is number of states\n",
        "\n",
        "#probabilitas transisi variabel terobervasi\n",
        "\n",
        "q_df = pd.DataFrame ( columns=states , index=states )\n",
        "q_df.loc[ states[0] ] = [ 0.0  , 0.0 , 0.0 , 1.0 , 0.0 ]\n",
        "q_df.loc[ states[1] ] = [ 0.0  , 0.0 , 0.5 , 0.0 , 0.5 ]\n",
        "q_df.loc[ states[2] ] = [ 0.0 , 0.0 , 0.5 , 0.5  , 0.0 ]\n",
        "q_df.loc[ states[3] ] = [ 0.143  , 0.286 , 0.143  , 0.429  , 0.0  ]\n",
        "q_df.loc[ states[4] ] = [ 0.0  , 0.0 , 0.0 , 1.0  , 0.0  ]\n",
        "print ( q_df )\n"
      ],
      "metadata": {
        "id": "YjSPJTcjow_7",
        "colab": {
          "base_uri": "https://localhost:8080/"
        },
        "outputId": "9b697e95-49b1-42e5-eddd-fc0ab932576f"
      },
      "execution_count": null,
      "outputs": [
        {
          "output_type": "stream",
          "name": "stdout",
          "text": [
            "       O1     O2     O3     O4   O5\n",
            "O1      0      0      0      1    0\n",
            "O2      0      0    0.5      0  0.5\n",
            "O3      0      0    0.5    0.5    0\n",
            "O4  0.143  0.286  0.143  0.429    0\n",
            "O5      0      0      0      1    0\n"
          ]
        }
      ]
    },
    {
      "cell_type": "code",
      "source": [
        "#create state space and initial state probabilities\n",
        "hidden_states = [ 'S1' , 'S2' , 'S3' , 'S4', 'S5']\n",
        "pi = [ 2/14 , 2/14 , 4/14, 4/14 , 2/14 ]\n",
        "print ( '\\n' )\n",
        "state_space = pd.Series ( pi , index = hidden_states , name='states')\n",
        "print (state_space)\n",
        "print('\\n')\n",
        "print(state_space.sum())"
      ],
      "metadata": {
        "id": "d20x_4KAow_7",
        "colab": {
          "base_uri": "https://localhost:8080/"
        },
        "outputId": "bd31e967-d4da-4f2f-f6e0-6a871c924889"
      },
      "execution_count": null,
      "outputs": [
        {
          "output_type": "stream",
          "name": "stdout",
          "text": [
            "\n",
            "\n",
            "S1    0.142857\n",
            "S2    0.142857\n",
            "S3    0.285714\n",
            "S4    0.285714\n",
            "S5    0.142857\n",
            "Name: states, dtype: float64\n",
            "\n",
            "\n",
            "1.0\n"
          ]
        }
      ]
    },
    {
      "cell_type": "code",
      "source": [
        "#create hidden transition matrix\n",
        "#a or alpha = transition probability matrix of changing states given a state\n",
        "#matrix is size (M x M) where M is number of states\n",
        "\n",
        "a_df = pd.DataFrame(columns = hidden_states , index=hidden_states )\n",
        "a_df.loc[ hidden_states[ 0 ] ] = [ 0.5 , 0.0 , 0.0 , 0.5 , 0.0 ]\n",
        "a_df.loc[ hidden_states[ 1 ] ] = [ 0.0 , 0.5 , 0.0 , 0.5 , 0.0 ]\n",
        "a_df.loc[ hidden_states[ 2 ] ] = [ 0.25 , 0.0 , 0.25 , 0.25, 0.25 ]\n",
        "a_df.loc[ hidden_states[ 3 ] ] = [ 0.0 , 0.0 , 0.67 , 0.33 , 0.0 ]\n",
        "a_df.loc[ hidden_states[ 4 ] ] = [ 0.0 , 0.5 , 0.5 , 0.0 , 0.0 ]\n",
        "print ( a_df )\n"
      ],
      "metadata": {
        "id": "-d4NxZJGow_8",
        "colab": {
          "base_uri": "https://localhost:8080/"
        },
        "outputId": "60e79f2e-07c9-4518-da2e-d9400ef988d3"
      },
      "execution_count": null,
      "outputs": [
        {
          "output_type": "stream",
          "name": "stdout",
          "text": [
            "      S1   S2    S3    S4    S5\n",
            "S1   0.5    0     0   0.5     0\n",
            "S2     0  0.5     0   0.5     0\n",
            "S3  0.25    0  0.25  0.25  0.25\n",
            "S4     0    0  0.67  0.33     0\n",
            "S5     0  0.5   0.5     0     0\n"
          ]
        }
      ]
    },
    {
      "cell_type": "code",
      "source": [
        "a = a_df.values\n",
        "print ( a )\n",
        "print ( '\\n')\n",
        "print ( a.shape )\n",
        "print ( '\\n ')\n",
        "print ( a_df.sum( axis = 1))\n"
      ],
      "metadata": {
        "id": "Lt6CYFpnow_8",
        "colab": {
          "base_uri": "https://localhost:8080/"
        },
        "outputId": "22800441-4dfe-4b0b-cc93-452366d6c8d0"
      },
      "execution_count": null,
      "outputs": [
        {
          "output_type": "stream",
          "name": "stdout",
          "text": [
            "[[0.5 0.0 0.0 0.5 0.0]\n",
            " [0.0 0.5 0.0 0.5 0.0]\n",
            " [0.25 0.0 0.25 0.25 0.25]\n",
            " [0.0 0.0 0.67 0.33 0.0]\n",
            " [0.0 0.5 0.5 0.0 0.0]]\n",
            "\n",
            "\n",
            "(5, 5)\n",
            "\n",
            " \n",
            "S1    1.0\n",
            "S2    1.0\n",
            "S3    1.0\n",
            "S4    1.0\n",
            "S5    1.0\n",
            "dtype: float64\n"
          ]
        }
      ]
    },
    {
      "cell_type": "code",
      "source": [
        "#create matrix of observation (emission) probabilities\n",
        "#b or beta = observation probabilities given state\n",
        "#matrix is size (M x O) where M is number of states\n",
        "# and O is number of different possible observations\n",
        "\n",
        "observable_states = states\n",
        "b_df = pd.DataFrame(columns = observable_states , index=hidden_states )\n",
        "b_df.loc[ hidden_states[ 0 ] ] = [ 0.5 , 0.0 , 0.0 , 0.5 , 0.0 ]\n",
        "b_df.loc[ hidden_states[ 1 ] ] = [ 0.0 , 0.5 , 0.5 , 0.0 , 0.0 ]\n",
        "b_df.loc[ hidden_states[ 2 ] ] = [ 0.0 , 0.25 , 0.0 , 0.75 , 0.0 ]\n",
        "b_df.loc[ hidden_states[ 3 ] ] = [ 0.0 , 0.0 , 0.5 , 0.5 , 0.0 ]\n",
        "b_df.loc[ hidden_states[ 4 ] ] = [ 0.0 , 0.0 , 0.0 , 0.5 , 0.5 ]\n",
        "print ( b_df )\n"
      ],
      "metadata": {
        "id": "Kzgmg5W2ow_8",
        "colab": {
          "base_uri": "https://localhost:8080/"
        },
        "outputId": "ae3815ff-221f-4db7-d0f8-5c003d241fdf"
      },
      "execution_count": null,
      "outputs": [
        {
          "output_type": "stream",
          "name": "stdout",
          "text": [
            "     O1    O2   O3    O4   O5\n",
            "S1  0.5     0    0   0.5    0\n",
            "S2    0   0.5  0.5     0    0\n",
            "S3    0  0.25    0  0.75    0\n",
            "S4    0     0  0.5   0.5    0\n",
            "S5    0     0    0   0.5  0.5\n"
          ]
        }
      ]
    },
    {
      "cell_type": "code",
      "source": [
        "b = b_df.values\n",
        "\n",
        "print ( b )\n",
        "print( '\\n' )\n",
        "print ( b.shape )\n",
        "print ( '\\n' )\n",
        "print ( b_df.sum( axis = 1))\n"
      ],
      "metadata": {
        "id": "y3NP_OMnow_9",
        "colab": {
          "base_uri": "https://localhost:8080/"
        },
        "outputId": "5dd4e15c-5d79-422b-e1a1-8be55e9fa130"
      },
      "execution_count": null,
      "outputs": [
        {
          "output_type": "stream",
          "name": "stdout",
          "text": [
            "[[0.5 0.0 0.0 0.5 0.0]\n",
            " [0.0 0.5 0.5 0.0 0.0]\n",
            " [0.0 0.25 0.0 0.75 0.0]\n",
            " [0.0 0.0 0.5 0.5 0.0]\n",
            " [0.0 0.0 0.0 0.5 0.5]]\n",
            "\n",
            "\n",
            "(5, 5)\n",
            "\n",
            "\n",
            "S1    1.0\n",
            "S2    1.0\n",
            "S3    1.0\n",
            "S4    1.0\n",
            "S5    1.0\n",
            "dtype: float64\n"
          ]
        }
      ]
    },
    {
      "cell_type": "code",
      "source": [
        "#create edge labels\n",
        "#emit_edge_labels = {(n1,n2):d['label'] for n1,n2,d in G.edges(data = True)}\n",
        "#nx.draw_networkx_edge_labels(G, pos, edge_labels = emit_edge_labels)\n",
        "#plt .show()\n",
        "#nx.drawing.nx_pydot.write dot(G, 'hidden markov.dot')\n",
        "\n",
        "# observation sequence of dog's behaviors \n",
        "# observations are encoded numerically\n",
        "\n",
        "obs_map = {'O1':0, 'O2':1, 'O3':2, 'O4':3, 'O5':4}\n",
        "obs = np.array([2, 2, 2, 0, 4, 2, 2, 2, 2, 1, 3, 2, 2, 2])\n",
        "\n",
        "inv_obs_map = dict((v,k) for k, v in obs_map.items())\n",
        "obs_seq = [inv_obs_map[v] for v in list(obs)]\n",
        "\n",
        "print(pd.DataFrame(np.column_stack([obs, obs_seq]),\n",
        "                   columns = ['Obs_code', 'Obs_seq']))\n",
        "\n"
      ],
      "metadata": {
        "id": "gc6Nb1jEow_9",
        "colab": {
          "base_uri": "https://localhost:8080/"
        },
        "outputId": "593945f5-5d91-4e8d-8424-133c0f193f18"
      },
      "execution_count": null,
      "outputs": [
        {
          "output_type": "stream",
          "name": "stdout",
          "text": [
            "   Obs_code Obs_seq\n",
            "0         2      O3\n",
            "1         2      O3\n",
            "2         2      O3\n",
            "3         0      O1\n",
            "4         4      O5\n",
            "5         2      O3\n",
            "6         2      O3\n",
            "7         2      O3\n",
            "8         2      O3\n",
            "9         1      O2\n",
            "10        3      O4\n",
            "11        2      O3\n",
            "12        2      O3\n",
            "13        2      O3\n"
          ]
        }
      ]
    },
    {
      "cell_type": "code",
      "source": [
        "# create graph object\n",
        "G = nx.MultiDiGraph()\n",
        "\n",
        "# nodes correspond to states\n",
        "G.add_nodes_from(hidden_states)\n",
        "print(f'Nodes:\\n{G.nodes()}\\n')\n",
        "\n",
        "# edges represent hidden probabilities\n",
        "for k, v in hide_edges_wts.items():\n",
        "    tmp_origin, tmp_destination = k[0], k[1]\n",
        "    G.add_edge(tmp_origin, tmp_destination, weight=v, label=v)\n",
        "\n",
        "# edges represent emission probabilities\n",
        "for k, v in emit_edges_wts.items():\n",
        "    tmp_origin, tmp_destination = k[0], k[1]\n",
        "    G.add_edge(tmp_origin, tmp_destination, weight=v, label=v)\n",
        "    \n",
        "print(f'Edges:')\n",
        "pprint(G.edges(data=True))    \n",
        "\n",
        "pos = nx.drawing.nx_pydot.graphviz_layout(G, prog='neato')\n",
        "nx.draw_networkx(G, pos)\n",
        "\n",
        "# create edge labels for jupyter plot but is not necessary\n",
        "emit_edge_labels = {(n1,n2):d['label'] for n1,n2,d in G.edges(data=True)}\n",
        "nx.draw_networkx_edge_labels(G , pos, edge_labels=emit_edge_labels)\n",
        "nx.drawing.nx_pydot.write_dot(G, 'pet_dog_hidden_markov.dot')"
      ],
      "metadata": {
        "id": "3TIeYVXKow_9",
        "colab": {
          "base_uri": "https://localhost:8080/",
          "height": 437
        },
        "outputId": "c65cb9df-43c1-4c95-9865-dfeff2ad116d"
      },
      "execution_count": null,
      "outputs": [
        {
          "output_type": "stream",
          "name": "stdout",
          "text": [
            "Nodes:\n",
            "['S1', 'S2', 'S3', 'S4', 'S5']\n",
            "\n",
            "Edges:\n",
            "OutMultiEdgeDataView([('S1', 'S1', {'weight': 0.5, 'label': 0.5}), ('S1', 'S2', {'weight': 0.0, 'label': 0.0}), ('S1', 'S3', {'weight': 0.0, 'label': 0.0}), ('S1', 'S4', {'weight': 0.5, 'label': 0.5}), ('S1', 'S5', {'weight': 0.0, 'label': 0.0}), ('S1', 'O1', {'weight': 0.0, 'label': 0.0}), ('S1', 'O2', {'weight': 0.5, 'label': 0.5}), ('S1', 'O3', {'weight': 0.0, 'label': 0.0}), ('S1', 'O4', {'weight': 0.0, 'label': 0.0}), ('S1', 'O5', {'weight': 0.5, 'label': 0.5}), ('S2', 'S1', {'weight': 0.0, 'label': 0.0}), ('S2', 'S2', {'weight': 0.5, 'label': 0.5}), ('S2', 'S3', {'weight': 0.0, 'label': 0.0}), ('S2', 'S4', {'weight': 0.5, 'label': 0.5}), ('S2', 'S5', {'weight': 0.0, 'label': 0.0}), ('S2', 'O1', {'weight': 0.0, 'label': 0.0}), ('S2', 'O2', {'weight': 0.0, 'label': 0.0}), ('S2', 'O3', {'weight': 0.5, 'label': 0.5}), ('S2', 'O4', {'weight': 0.0, 'label': 0.0}), ('S2', 'O5', {'weight': 0.5, 'label': 0.5}), ('S3', 'S1', {'weight': 0.25, 'label': 0.25}), ('S3', 'S2', {'weight': 0.0, 'label': 0.0}), ('S3', 'S3', {'weight': 0.25, 'label': 0.25}), ('S3', 'S4', {'weight': 0.25, 'label': 0.25}), ('S3', 'S5', {'weight': 0.25, 'label': 0.25}), ('S3', 'O1', {'weight': 0.0, 'label': 0.0}), ('S3', 'O2', {'weight': 0.0, 'label': 0.0}), ('S3', 'O3', {'weight': 0.5, 'label': 0.5}), ('S3', 'O4', {'weight': 0.5, 'label': 0.5}), ('S3', 'O5', {'weight': 0.0, 'label': 0.0}), ('S4', 'S1', {'weight': 0.0, 'label': 0.0}), ('S4', 'S2', {'weight': 0.0, 'label': 0.0}), ('S4', 'S3', {'weight': 0.67, 'label': 0.67}), ('S4', 'S4', {'weight': 0.33, 'label': 0.33}), ('S4', 'S5', {'weight': 0.0, 'label': 0.0}), ('S4', 'O1', {'weight': 0.5, 'label': 0.5}), ('S4', 'O2', {'weight': 0.0, 'label': 0.0}), ('S4', 'O3', {'weight': 0.0, 'label': 0.0}), ('S4', 'O4', {'weight': 0.25, 'label': 0.25}), ('S4', 'O5', {'weight': 0.25, 'label': 0.25}), ('S5', 'S1', {'weight': 0.0, 'label': 0.0}), ('S5', 'S2', {'weight': 0.5, 'label': 0.5}), ('S5', 'S3', {'weight': 0.5, 'label': 0.5}), ('S5', 'S4', {'weight': 0.0, 'label': 0.0}), ('S5', 'S5', {'weight': 0.0, 'label': 0.0}), ('S5', 'O1', {'weight': 0.5, 'label': 0.5}), ('S5', 'O2', {'weight': 0.5, 'label': 0.5}), ('S5', 'O3', {'weight': 0.0, 'label': 0.0}), ('S5', 'O4', {'weight': 0.0, 'label': 0.0}), ('S5', 'O5', {'weight': 0.0, 'label': 0.0})])\n"
          ]
        },
        {
          "output_type": "display_data",
          "data": {
            "image/png": "[encoded data removed]",
            "text/plain": [
              "<Figure size 576x396 with 1 Axes>"
            ]
          },
          "metadata": {}
        }
      ]
    },
    {
      "cell_type": "code",
      "source": [
        "def viterbi(pi, a, b, obs):\n",
        "    \n",
        "    nStates = np.shape(b)[0]\n",
        "    T = np.shape(obs)[0]\n",
        "    \n",
        "    # init blank path\n",
        "    path = np.zeros(T)\n",
        "    # delta --> highest probability of any path that reaches state i\n",
        "    delta = np.zeros((nStates, T))\n",
        "    # phi --> argmax by time step for each state\n",
        "    phi = np.zeros((nStates, T))\n",
        "    \n",
        "    # init delta and phi \n",
        "    delta[:, 0] = pi*b[:, obs[0]]\n",
        "    phi[:, 0] = 0\n",
        "\n",
        "    print('\\nStart Walk Forward\\n')    \n",
        "    # the forward algorithm extension\n",
        "    for t in range(1, T):\n",
        "        for s in range(nStates):\n",
        "            delta[s, t] = np.max(delta[:, t-1] * a[:, s]) * b[s, obs[t]] \n",
        "            phi[s, t] = np.argmax(delta[:, t-1] * a[:, s])\n",
        "            print('s={s} and t={t}: phi[{s}, {t}] = {phi}'.format(s=s, t=t, phi=phi[s, t]))\n",
        "    \n",
        "    # find optimal path\n",
        "    print('-'*50)\n",
        "    print('Start Backtrace\\n')\n",
        "    path[T-1] = np.argmax(delta[:, T-1])\n",
        "    #p('init path\\n    t={} path[{}-1]={}\\n'.format(T-1, T, path[T-1]))\n",
        "    for t in range(T-2, -1, -1):\n",
        "        #path[t] = phi[path[t+1], [t+1]]\n",
        "        path[t] = phi[int(path[t+1]) , int(t+1)] \n",
        "        #p(' '*4 + 't={t}, path[{t}+1]={path}, [{t}+1]={i}'.format(t=t, path=path[t+1], i=[t+1]))\n",
        "        print('path[{}] = {}'.format(t, path[t]))\n",
        "        \n",
        "    return path, delta, phi\n",
        "\n",
        "path, delta, phi = viterbi(pi, a, b, obs)\n",
        "print('\\nsingle best state path: \\n', path)\n",
        "print('delta:\\n', delta)\n",
        "print('phi:\\n', phi)"
      ],
      "metadata": {
        "colab": {
          "base_uri": "https://localhost:8080/"
        },
        "id": "Qml-ZQPJvV0y",
        "outputId": "4e28f8e0-11c1-46ca-978a-5912d4f07935"
      },
      "execution_count": null,
      "outputs": [
        {
          "output_type": "stream",
          "name": "stdout",
          "text": [
            "\n",
            "Start Walk Forward\n",
            "\n",
            "s=0 and t=1: phi[0, 1] = 0.0\n",
            "s=1 and t=1: phi[1, 1] = 1.0\n",
            "s=2 and t=1: phi[2, 1] = 3.0\n",
            "s=3 and t=1: phi[3, 1] = 3.0\n",
            "s=4 and t=1: phi[4, 1] = 0.0\n",
            "s=0 and t=2: phi[0, 2] = 0.0\n",
            "s=1 and t=2: phi[1, 2] = 1.0\n",
            "s=2 and t=2: phi[2, 2] = 3.0\n",
            "s=3 and t=2: phi[3, 2] = 1.0\n",
            "s=4 and t=2: phi[4, 2] = 0.0\n",
            "s=0 and t=3: phi[0, 3] = 0.0\n",
            "s=1 and t=3: phi[1, 3] = 1.0\n",
            "s=2 and t=3: phi[2, 3] = 3.0\n",
            "s=3 and t=3: phi[3, 3] = 1.0\n",
            "s=4 and t=3: phi[4, 3] = 0.0\n",
            "s=0 and t=4: phi[0, 4] = 0.0\n",
            "s=1 and t=4: phi[1, 4] = 0.0\n",
            "s=2 and t=4: phi[2, 4] = 0.0\n",
            "s=3 and t=4: phi[3, 4] = 0.0\n",
            "s=4 and t=4: phi[4, 4] = 0.0\n",
            "s=0 and t=5: phi[0, 5] = 0.0\n",
            "s=1 and t=5: phi[1, 5] = 0.0\n",
            "s=2 and t=5: phi[2, 5] = 0.0\n",
            "s=3 and t=5: phi[3, 5] = 0.0\n",
            "s=4 and t=5: phi[4, 5] = 0.0\n",
            "s=0 and t=6: phi[0, 6] = 0.0\n",
            "s=1 and t=6: phi[1, 6] = 0.0\n",
            "s=2 and t=6: phi[2, 6] = 0.0\n",
            "s=3 and t=6: phi[3, 6] = 0.0\n",
            "s=4 and t=6: phi[4, 6] = 0.0\n",
            "s=0 and t=7: phi[0, 7] = 0.0\n",
            "s=1 and t=7: phi[1, 7] = 0.0\n",
            "s=2 and t=7: phi[2, 7] = 0.0\n",
            "s=3 and t=7: phi[3, 7] = 0.0\n",
            "s=4 and t=7: phi[4, 7] = 0.0\n",
            "s=0 and t=8: phi[0, 8] = 0.0\n",
            "s=1 and t=8: phi[1, 8] = 0.0\n",
            "s=2 and t=8: phi[2, 8] = 0.0\n",
            "s=3 and t=8: phi[3, 8] = 0.0\n",
            "s=4 and t=8: phi[4, 8] = 0.0\n",
            "s=0 and t=9: phi[0, 9] = 0.0\n",
            "s=1 and t=9: phi[1, 9] = 0.0\n",
            "s=2 and t=9: phi[2, 9] = 0.0\n",
            "s=3 and t=9: phi[3, 9] = 0.0\n",
            "s=4 and t=9: phi[4, 9] = 0.0\n",
            "s=0 and t=10: phi[0, 10] = 0.0\n",
            "s=1 and t=10: phi[1, 10] = 0.0\n",
            "s=2 and t=10: phi[2, 10] = 0.0\n",
            "s=3 and t=10: phi[3, 10] = 0.0\n",
            "s=4 and t=10: phi[4, 10] = 0.0\n",
            "s=0 and t=11: phi[0, 11] = 0.0\n",
            "s=1 and t=11: phi[1, 11] = 0.0\n",
            "s=2 and t=11: phi[2, 11] = 0.0\n",
            "s=3 and t=11: phi[3, 11] = 0.0\n",
            "s=4 and t=11: phi[4, 11] = 0.0\n",
            "s=0 and t=12: phi[0, 12] = 0.0\n",
            "s=1 and t=12: phi[1, 12] = 0.0\n",
            "s=2 and t=12: phi[2, 12] = 0.0\n",
            "s=3 and t=12: phi[3, 12] = 0.0\n",
            "s=4 and t=12: phi[4, 12] = 0.0\n",
            "s=0 and t=13: phi[0, 13] = 0.0\n",
            "s=1 and t=13: phi[1, 13] = 0.0\n",
            "s=2 and t=13: phi[2, 13] = 0.0\n",
            "s=3 and t=13: phi[3, 13] = 0.0\n",
            "s=4 and t=13: phi[4, 13] = 0.0\n",
            "--------------------------------------------------\n",
            "Start Backtrace\n",
            "\n",
            "path[12] = 0.0\n",
            "path[11] = 0.0\n",
            "path[10] = 0.0\n",
            "path[9] = 0.0\n",
            "path[8] = 0.0\n",
            "path[7] = 0.0\n",
            "path[6] = 0.0\n",
            "path[5] = 0.0\n",
            "path[4] = 0.0\n",
            "path[3] = 0.0\n",
            "path[2] = 0.0\n",
            "path[1] = 0.0\n",
            "path[0] = 0.0\n",
            "\n",
            "single best state path: \n",
            " [0. 0. 0. 0. 0. 0. 0. 0. 0. 0. 0. 0. 0. 0.]\n",
            "delta:\n",
            " [[0.         0.         0.         0.         0.         0.\n",
            "  0.         0.         0.         0.         0.         0.\n",
            "  0.         0.        ]\n",
            " [0.07142857 0.01785714 0.00446429 0.         0.         0.\n",
            "  0.         0.         0.         0.         0.         0.\n",
            "  0.         0.        ]\n",
            " [0.         0.         0.         0.         0.         0.\n",
            "  0.         0.         0.         0.         0.         0.\n",
            "  0.         0.        ]\n",
            " [0.14285714 0.02357143 0.00446429 0.         0.         0.\n",
            "  0.         0.         0.         0.         0.         0.\n",
            "  0.         0.        ]\n",
            " [0.         0.         0.         0.         0.         0.\n",
            "  0.         0.         0.         0.         0.         0.\n",
            "  0.         0.        ]]\n",
            "phi:\n",
            " [[0. 0. 0. 0. 0. 0. 0. 0. 0. 0. 0. 0. 0. 0.]\n",
            " [0. 1. 1. 1. 0. 0. 0. 0. 0. 0. 0. 0. 0. 0.]\n",
            " [0. 3. 3. 3. 0. 0. 0. 0. 0. 0. 0. 0. 0. 0.]\n",
            " [0. 3. 1. 1. 0. 0. 0. 0. 0. 0. 0. 0. 0. 0.]\n",
            " [0. 0. 0. 0. 0. 0. 0. 0. 0. 0. 0. 0. 0. 0.]]\n"
          ]
        }
      ]
    },
    {
      "cell_type": "code",
      "source": [
        "state_map = {0:'S1', 1:'S2', 2:'S3', 3:'S4', 4:'S5'}\n",
        "state_path = [state_map[v] for v in path]\n",
        "\n",
        "(pd.DataFrame()\n",
        " .assign(Observation=obs_seq)\n",
        " .assign(Best_Path=state_path))"
      ],
      "metadata": {
        "id": "KfxR6h2Sow_-",
        "colab": {
          "base_uri": "https://localhost:8080/",
          "height": 488
        },
        "outputId": "8ca81418-234e-4aa2-cd3c-825534cf5813"
      },
      "execution_count": null,
      "outputs": [
        {
          "output_type": "execute_result",
          "data": {
            "text/html": [
              "\n",
              "  <div id=\"df-051fe3cf-d56c-4feb-b836-0f260cb681d7\">\n",
              "    <div class=\"colab-df-container\">\n",
              "      <div>\n",
              "<style scoped>\n",
              "    .dataframe tbody tr th:only-of-type {\n",
              "        vertical-align: middle;\n",
              "    }\n",
              "\n",
              "    .dataframe tbody tr th {\n",
              "        vertical-align: top;\n",
              "    }\n",
              "\n",
              "    .dataframe thead th {\n",
              "        text-align: right;\n",
              "    }\n",
              "</style>\n",
              "<table border=\"1\" class=\"dataframe\">\n",
              "  <thead>\n",
              "    <tr style=\"text-align: right;\">\n",
              "      <th></th>\n",
              "      <th>Observation</th>\n",
              "      <th>Best_Path</th>\n",
              "    </tr>\n",
              "  </thead>\n",
              "  <tbody>\n",
              "    <tr>\n",
              "      <th>0</th>\n",
              "      <td>O3</td>\n",
              "      <td>S1</td>\n",
              "    </tr>\n",
              "    <tr>\n",
              "      <th>1</th>\n",
              "      <td>O3</td>\n",
              "      <td>S1</td>\n",
              "    </tr>\n",
              "    <tr>\n",
              "      <th>2</th>\n",
              "      <td>O3</td>\n",
              "      <td>S1</td>\n",
              "    </tr>\n",
              "    <tr>\n",
              "      <th>3</th>\n",
              "      <td>O1</td>\n",
              "      <td>S1</td>\n",
              "    </tr>\n",
              "    <tr>\n",
              "      <th>4</th>\n",
              "      <td>O5</td>\n",
              "      <td>S1</td>\n",
              "    </tr>\n",
              "    <tr>\n",
              "      <th>5</th>\n",
              "      <td>O3</td>\n",
              "      <td>S1</td>\n",
              "    </tr>\n",
              "    <tr>\n",
              "      <th>6</th>\n",
              "      <td>O3</td>\n",
              "      <td>S1</td>\n",
              "    </tr>\n",
              "    <tr>\n",
              "      <th>7</th>\n",
              "      <td>O3</td>\n",
              "      <td>S1</td>\n",
              "    </tr>\n",
              "    <tr>\n",
              "      <th>8</th>\n",
              "      <td>O3</td>\n",
              "      <td>S1</td>\n",
              "    </tr>\n",
              "    <tr>\n",
              "      <th>9</th>\n",
              "      <td>O2</td>\n",
              "      <td>S1</td>\n",
              "    </tr>\n",
              "    <tr>\n",
              "      <th>10</th>\n",
              "      <td>O4</td>\n",
              "      <td>S1</td>\n",
              "    </tr>\n",
              "    <tr>\n",
              "      <th>11</th>\n",
              "      <td>O3</td>\n",
              "      <td>S1</td>\n",
              "    </tr>\n",
              "    <tr>\n",
              "      <th>12</th>\n",
              "      <td>O3</td>\n",
              "      <td>S1</td>\n",
              "    </tr>\n",
              "    <tr>\n",
              "      <th>13</th>\n",
              "      <td>O3</td>\n",
              "      <td>S1</td>\n",
              "    </tr>\n",
              "  </tbody>\n",
              "</table>\n",
              "</div>\n",
              "      <button class=\"colab-df-convert\" onclick=\"convertToInteractive('df-051fe3cf-d56c-4feb-b836-0f260cb681d7')\"\n",
              "              title=\"Convert this dataframe to an interactive table.\"\n",
              "              style=\"display:none;\">\n",
              "        \n",
              "  <svg xmlns=\"http://www.w3.org/2000/svg\" height=\"24px\"viewBox=\"0 0 24 24\"\n",
              "       width=\"24px\">\n",
              "    <path d=\"M0 0h24v24H0V0z\" fill=\"none\"/>\n",
              "    <path d=\"M18.56 5.44l.94 2.06.94-2.06 2.06-.94-2.06-.94-.94-2.06-.94 2.06-2.06.94zm-11 1L8.5 8.5l.94-2.06 2.06-.94-2.06-.94L8.5 2.5l-.94 2.06-2.06.94zm10 10l.94 2.06.94-2.06 2.06-.94-2.06-.94-.94-2.06-.94 2.06-2.06.94z\"/><path d=\"M17.41 7.96l-1.37-1.37c-.4-.4-.92-.59-1.43-.59-.52 0-1.04.2-1.43.59L10.3 9.45l-7.72 7.72c-.78.78-.78 2.05 0 2.83L4 21.41c.39.39.9.59 1.41.59.51 0 1.02-.2 1.41-.59l7.78-7.78 2.81-2.81c.8-.78.8-2.07 0-2.86zM5.41 20L4 18.59l7.72-7.72 1.47 1.35L5.41 20z\"/>\n",
              "  </svg>\n",
              "      </button>\n",
              "      \n",
              "  <style>\n",
              "    .colab-df-container {\n",
              "      display:flex;\n",
              "      flex-wrap:wrap;\n",
              "      gap: 12px;\n",
              "    }\n",
              "\n",
              "    .colab-df-convert {\n",
              "      background-color: #E8F0FE;\n",
              "      border: none;\n",
              "      border-radius: 50%;\n",
              "      cursor: pointer;\n",
              "      display: none;\n",
              "      fill: #1967D2;\n",
              "      height: 32px;\n",
              "      padding: 0 0 0 0;\n",
              "      width: 32px;\n",
              "    }\n",
              "\n",
              "    .colab-df-convert:hover {\n",
              "      background-color: #E2EBFA;\n",
              "      box-shadow: 0px 1px 2px rgba(60, 64, 67, 0.3), 0px 1px 3px 1px rgba(60, 64, 67, 0.15);\n",
              "      fill: #174EA6;\n",
              "    }\n",
              "\n",
              "    [theme=dark] .colab-df-convert {\n",
              "      background-color: #3B4455;\n",
              "      fill: #D2E3FC;\n",
              "    }\n",
              "\n",
              "    [theme=dark] .colab-df-convert:hover {\n",
              "      background-color: #434B5C;\n",
              "      box-shadow: 0px 1px 3px 1px rgba(0, 0, 0, 0.15);\n",
              "      filter: drop-shadow(0px 1px 2px rgba(0, 0, 0, 0.3));\n",
              "      fill: #FFFFFF;\n",
              "    }\n",
              "  </style>\n",
              "\n",
              "      <script>\n",
              "        const buttonEl =\n",
              "          document.querySelector('#df-051fe3cf-d56c-4feb-b836-0f260cb681d7 button.colab-df-convert');\n",
              "        buttonEl.style.display =\n",
              "          google.colab.kernel.accessAllowed ? 'block' : 'none';\n",
              "\n",
              "        async function convertToInteractive(key) {\n",
              "          const element = document.querySelector('#df-051fe3cf-d56c-4feb-b836-0f260cb681d7');\n",
              "          const dataTable =\n",
              "            await google.colab.kernel.invokeFunction('convertToInteractive',\n",
              "                                                     [key], {});\n",
              "          if (!dataTable) return;\n",
              "\n",
              "          const docLinkHtml = 'Like what you see? Visit the ' +\n",
              "            '<a target=\"_blank\" href=https://colab.research.google.com/notebooks/data_table.ipynb>data table notebook</a>'\n",
              "            + ' to learn more about interactive tables.';\n",
              "          element.innerHTML = '';\n",
              "          dataTable['output_type'] = 'display_data';\n",
              "          await google.colab.output.renderOutput(dataTable, element);\n",
              "          const docLink = document.createElement('div');\n",
              "          docLink.innerHTML = docLinkHtml;\n",
              "          element.appendChild(docLink);\n",
              "        }\n",
              "      </script>\n",
              "    </div>\n",
              "  </div>\n",
              "  "
            ],
            "text/plain": [
              "   Observation Best_Path\n",
              "0           O3        S1\n",
              "1           O3        S1\n",
              "2           O3        S1\n",
              "3           O1        S1\n",
              "4           O5        S1\n",
              "5           O3        S1\n",
              "6           O3        S1\n",
              "7           O3        S1\n",
              "8           O3        S1\n",
              "9           O2        S1\n",
              "10          O4        S1\n",
              "11          O3        S1\n",
              "12          O3        S1\n",
              "13          O3        S1"
            ]
          },
          "metadata": {},
          "execution_count": 407
        }
      ]
    }
  ]
}